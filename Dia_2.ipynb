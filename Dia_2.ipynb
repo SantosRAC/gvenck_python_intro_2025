{
  "nbformat": 4,
  "nbformat_minor": 0,
  "metadata": {
    "colab": {
      "provenance": []
    },
    "kernelspec": {
      "name": "python3",
      "display_name": "Python 3"
    },
    "language_info": {
      "name": "python"
    }
  },
  "cells": [
    {
      "cell_type": "markdown",
      "source": [
        "# Material/Conteúdo de aula do dia 2\n",
        "\n",
        "* Importação de arquivos\n",
        "* Biblioteca Pandas\n",
        "* Séries e Dataframe\n",
        "* Gráficos iniciais (Matplotlib)\n",
        "* Exportação de arquivos e figuras\n"
      ],
      "metadata": {
        "id": "tZ-687pXDeWi"
      }
    },
    {
      "cell_type": "code",
      "source": [],
      "metadata": {
        "id": "NCWWD0weDlbz"
      },
      "execution_count": null,
      "outputs": []
    },
    {
      "cell_type": "markdown",
      "source": [
        "# Importação de arquivos"
      ],
      "metadata": {
        "id": "VAgioq-eDplK"
      }
    },
    {
      "cell_type": "code",
      "source": [],
      "metadata": {
        "id": "x-oqhUoDEIgn"
      },
      "execution_count": null,
      "outputs": []
    },
    {
      "cell_type": "markdown",
      "source": [
        "# Biblioteca pandas"
      ],
      "metadata": {
        "id": "QbZGRlTLDsNy"
      }
    },
    {
      "cell_type": "code",
      "source": [],
      "metadata": {
        "id": "jzp61Z2lEI3b"
      },
      "execution_count": null,
      "outputs": []
    },
    {
      "cell_type": "markdown",
      "source": [
        "# Séries"
      ],
      "metadata": {
        "id": "o4aeIUggDuFy"
      }
    },
    {
      "cell_type": "code",
      "source": [],
      "metadata": {
        "id": "uz1oHjlPEJP0"
      },
      "execution_count": null,
      "outputs": []
    },
    {
      "cell_type": "markdown",
      "source": [
        "# Dataframes"
      ],
      "metadata": {
        "id": "nQwQGsveDvUv"
      }
    },
    {
      "cell_type": "code",
      "source": [],
      "metadata": {
        "id": "jS4hrHrdEJrv"
      },
      "execution_count": null,
      "outputs": []
    },
    {
      "cell_type": "markdown",
      "source": [
        "# Gráficos iniciais"
      ],
      "metadata": {
        "id": "SsvLTKyeDxKP"
      }
    },
    {
      "cell_type": "code",
      "source": [],
      "metadata": {
        "id": "uXnyAsbdEKOa"
      },
      "execution_count": null,
      "outputs": []
    },
    {
      "cell_type": "markdown",
      "source": [
        "# Exportação de arquivos e figuras"
      ],
      "metadata": {
        "id": "FOUhj_YDDyLq"
      }
    },
    {
      "cell_type": "code",
      "source": [],
      "metadata": {
        "id": "HNIPvEnUEKsG"
      },
      "execution_count": null,
      "outputs": []
    },
    {
      "cell_type": "markdown",
      "source": [
        "# Referências\n",
        "\n",
        "* McKinney, Wes. Python para análise de dados: Tratamento de dados com Pandas, NumPy e IPython. Novatec Editora, 2018."
      ],
      "metadata": {
        "id": "i89BencnD3Gz"
      }
    }
  ]
}