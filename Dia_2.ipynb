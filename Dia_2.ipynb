{
  "nbformat": 4,
  "nbformat_minor": 0,
  "metadata": {
    "colab": {
      "provenance": []
    },
    "kernelspec": {
      "name": "python3",
      "display_name": "Python 3"
    },
    "language_info": {
      "name": "python"
    }
  },
  "cells": [
    {
      "cell_type": "markdown",
      "source": [
        "# Material/Conteúdo de aula do dia 2\n",
        "\n",
        "Responsável: Gustavo Nascimento/ Renato A. Corrêa dos Santos\n",
        "\n",
        "* Importação de arquivos\n",
        "* Biblioteca Pandas\n",
        "* Séries e Dataframe\n",
        "* Gráficos iniciais (Matplotlib)\n",
        "* Exportação de arquivos e figuras\n"
      ],
      "metadata": {
        "id": "tZ-687pXDeWi"
      }
    },
    {
      "cell_type": "markdown",
      "source": [
        "# Biblioteca pandas"
      ],
      "metadata": {
        "id": "QbZGRlTLDsNy"
      }
    },
    {
      "cell_type": "markdown",
      "source": [
        "A biblioteca Pandas utiliza NumPy, uma outra biblioteca de Python para cálculos numéricos, e facilita a análise de dados estruturas ou em forma de \"tabela\" (tabulados).\n",
        "\n",
        "Diferente de NumPy, Pandas foi planejamento para trabalhar com dados tabulares ou heterogêneos."
      ],
      "metadata": {
        "id": "Lb0VHn_4WVOo"
      }
    },
    {
      "cell_type": "markdown",
      "source": [
        "## Importando bibliotecas em Python"
      ],
      "metadata": {
        "id": "w8LAvxoZYynN"
      }
    },
    {
      "cell_type": "code",
      "source": [
        "import pandas"
      ],
      "metadata": {
        "id": "8XzojdJWYyS4"
      },
      "execution_count": 2,
      "outputs": []
    },
    {
      "cell_type": "code",
      "source": [
        "import pandas as pd # Convenção"
      ],
      "metadata": {
        "id": "jzp61Z2lEI3b"
      },
      "execution_count": 1,
      "outputs": []
    },
    {
      "cell_type": "markdown",
      "source": [
        "# Importação de arquivos\n",
        "\n",
        "Vamos falar rapidamente sobre formas de ler arquivos em Python e em seguida vamos apresentar como comumente fazemos isso com a biblioteca Pandas."
      ],
      "metadata": {
        "id": "VAgioq-eDplK"
      }
    },
    {
      "cell_type": "markdown",
      "source": [
        "## Leitura de arquivos em Python (sem Pandas)\n",
        "\n",
        "Há algumas formas diferentes de importar arquivos no Google Colab. Uma das formas envolve selecionar a aba à esquerda (\"Arquivos\" ou \"Files\" e \"Upload to Session Storage\"). Nesta modalidade, os arquivos ficarão disponíveis apenas durante uma sessão de execução do Colab - se quiserem manter os arquivos permanentemente no Drive de vocês é importante criar uma pasta e carregá-lo FORA da sessão da atividade.\n",
        "\n",
        "Nas atividades de hoje, vamos utilizar três formatos de arquivo diferente e que são comumente usados em análises científicas:\n",
        "\n",
        "* CSV (comma-separated values, .csv)\n",
        "* TSV (tab-separated values, .tsv)\n",
        "* Arquivo do Excel (.xlsx)"
      ],
      "metadata": {
        "id": "i_PO8fSanOOk"
      }
    },
    {
      "cell_type": "code",
      "source": [
        "previsao_do_tempo_semana = open(\"Previsão do tempo.tsv\", mode=\"r\", encoding=\"utf-8\")"
      ],
      "metadata": {
        "id": "x-oqhUoDEIgn"
      },
      "execution_count": 24,
      "outputs": []
    },
    {
      "cell_type": "code",
      "source": [
        "for linha in previsao_do_tempo_semana:\n",
        "    print(linha) # Visualização dos dados separados por TAB"
      ],
      "metadata": {
        "colab": {
          "base_uri": "https://localhost:8080/",
          "height": 159
        },
        "id": "55yT-tq8lWdf",
        "outputId": "68419d6a-5f9a-49e6-8e1d-62ebc6df3335"
      },
      "execution_count": 26,
      "outputs": [
        {
          "output_type": "error",
          "ename": "ValueError",
          "evalue": "I/O operation on closed file.",
          "traceback": [
            "\u001b[0;31m---------------------------------------------------------------------------\u001b[0m",
            "\u001b[0;31mValueError\u001b[0m                                Traceback (most recent call last)",
            "\u001b[0;32m<ipython-input-26-2432255366>\u001b[0m in \u001b[0;36m<cell line: 0>\u001b[0;34m()\u001b[0m\n\u001b[0;32m----> 1\u001b[0;31m \u001b[0;32mfor\u001b[0m \u001b[0mlinha\u001b[0m \u001b[0;32min\u001b[0m \u001b[0mprevisao_do_tempo_semana\u001b[0m\u001b[0;34m:\u001b[0m\u001b[0;34m\u001b[0m\u001b[0;34m\u001b[0m\u001b[0m\n\u001b[0m\u001b[1;32m      2\u001b[0m     \u001b[0mprint\u001b[0m\u001b[0;34m(\u001b[0m\u001b[0mlinha\u001b[0m\u001b[0;34m)\u001b[0m \u001b[0;31m# Visualização dos dados separados por TAB\u001b[0m\u001b[0;34m\u001b[0m\u001b[0;34m\u001b[0m\u001b[0m\n",
            "\u001b[0;31mValueError\u001b[0m: I/O operation on closed file."
          ]
        }
      ]
    },
    {
      "cell_type": "code",
      "source": [
        "previsao_do_tempo_semana.close() # Boa prática, para liberar recursos"
      ],
      "metadata": {
        "id": "MH1GNAnPqYzq"
      },
      "execution_count": 25,
      "outputs": []
    },
    {
      "cell_type": "markdown",
      "source": [
        "Uma curiosidade é que os arquivos são lidos apenas uma vez. Ou seja, você só conseguirá realizar um laço for uma vez; se quiser realizar uma segunda iteração nas linhas do arquivo deverá importá-lo novamente."
      ],
      "metadata": {
        "id": "X9VBqKfgmAG4"
      }
    },
    {
      "cell_type": "code",
      "source": [
        "previsao_do_tempo_semana = open(\"Previsão do tempo.csv\", mode=\"r\", encoding=\"utf-8\")"
      ],
      "metadata": {
        "id": "2ngRWZ2dluSj"
      },
      "execution_count": 14,
      "outputs": []
    },
    {
      "cell_type": "code",
      "source": [
        "for linha in previsao_do_tempo_semana:\n",
        "    print(linha) # Visualização dos dados separados por vírgula"
      ],
      "metadata": {
        "id": "plD6Wo_wlxC1"
      },
      "execution_count": 16,
      "outputs": []
    },
    {
      "cell_type": "markdown",
      "source": [
        "Geralmente, analisamos dados em tabelas do Excel ou Google Sheets (formato .xlsx). Existem funções já desenvolvidas para a leitura deste tipo de arquivo."
      ],
      "metadata": {
        "id": "WMQSXeRkk8Kt"
      }
    },
    {
      "cell_type": "code",
      "source": [
        "previsao_do_tempo_semana = open(\"Previsão do tempo.xlsx\", mode=\"r\", encoding=\"utf-8\")"
      ],
      "metadata": {
        "id": "ra5EHkvwlUV7"
      },
      "execution_count": null,
      "outputs": []
    },
    {
      "cell_type": "code",
      "source": [
        "for linha in previsao_do_tempo_semana:\n",
        "    print(linha)"
      ],
      "metadata": {
        "colab": {
          "base_uri": "https://localhost:8080/",
          "height": 193
        },
        "id": "K8VCkFCQkVGz",
        "outputId": "214049ae-a5ee-404d-9688-4cac0988cb8c"
      },
      "execution_count": 10,
      "outputs": [
        {
          "output_type": "error",
          "ename": "UnicodeDecodeError",
          "evalue": "'utf-8' codec can't decode byte 0xcb in position 12: invalid continuation byte",
          "traceback": [
            "\u001b[0;31m---------------------------------------------------------------------------\u001b[0m",
            "\u001b[0;31mUnicodeDecodeError\u001b[0m                        Traceback (most recent call last)",
            "\u001b[0;32m<ipython-input-10-1228296260>\u001b[0m in \u001b[0;36m<cell line: 0>\u001b[0;34m()\u001b[0m\n\u001b[0;32m----> 1\u001b[0;31m \u001b[0;32mfor\u001b[0m \u001b[0mlinha\u001b[0m \u001b[0;32min\u001b[0m \u001b[0mprevisao_do_tempo_semana\u001b[0m\u001b[0;34m:\u001b[0m\u001b[0;34m\u001b[0m\u001b[0;34m\u001b[0m\u001b[0m\n\u001b[0m\u001b[1;32m      2\u001b[0m     \u001b[0mprint\u001b[0m\u001b[0;34m(\u001b[0m\u001b[0mlinha\u001b[0m\u001b[0;34m)\u001b[0m\u001b[0;34m\u001b[0m\u001b[0;34m\u001b[0m\u001b[0m\n",
            "\u001b[0;32m/usr/lib/python3.11/codecs.py\u001b[0m in \u001b[0;36mdecode\u001b[0;34m(self, input, final)\u001b[0m\n",
            "\u001b[0;31mUnicodeDecodeError\u001b[0m: 'utf-8' codec can't decode byte 0xcb in position 12: invalid continuation byte"
          ]
        }
      ]
    },
    {
      "cell_type": "markdown",
      "source": [
        "Mais adiante vamos explorar também formas de escrever em arquivos.\n",
        "\n",
        "Existem diferentes \"modos\" de abertura de arquivos (escrita, acrescentar informação em arquivo existente, escrita com verificação de existência de arquivos, etc)."
      ],
      "metadata": {
        "id": "g3zfbearmy5A"
      }
    },
    {
      "cell_type": "markdown",
      "source": [
        "## Leitura de arquivos com a biblioteca Pandas"
      ],
      "metadata": {
        "id": "V1o71VgKniK7"
      }
    },
    {
      "cell_type": "code",
      "source": [],
      "metadata": {
        "id": "9pelZeLcnlS8"
      },
      "execution_count": null,
      "outputs": []
    },
    {
      "cell_type": "markdown",
      "source": [
        "# Series\n",
        "\n",
        "Series são unidimensionais e compostos por:\n",
        "* Array de valores do mesmo tipo\n",
        "* Rótulos chamados índices"
      ],
      "metadata": {
        "id": "o4aeIUggDuFy"
      }
    },
    {
      "cell_type": "code",
      "source": [
        "pd.Series([10, 9, 9, 12, 13, 13, 14, 15]) # Números correspondem aos mínimos de temperatura (em Celsius) entre os dias 11 e 18 de junho de 2025"
      ],
      "metadata": {
        "colab": {
          "base_uri": "https://localhost:8080/",
          "height": 335
        },
        "id": "jI_hfD9XuhZB",
        "outputId": "dd97de74-8dd3-4213-a065-4eba0d84bd44"
      },
      "execution_count": 43,
      "outputs": [
        {
          "output_type": "execute_result",
          "data": {
            "text/plain": [
              "0    10\n",
              "1     9\n",
              "2     9\n",
              "3    12\n",
              "4    13\n",
              "5    13\n",
              "6    14\n",
              "7    15\n",
              "dtype: int64"
            ],
            "text/html": [
              "<div>\n",
              "<style scoped>\n",
              "    .dataframe tbody tr th:only-of-type {\n",
              "        vertical-align: middle;\n",
              "    }\n",
              "\n",
              "    .dataframe tbody tr th {\n",
              "        vertical-align: top;\n",
              "    }\n",
              "\n",
              "    .dataframe thead th {\n",
              "        text-align: right;\n",
              "    }\n",
              "</style>\n",
              "<table border=\"1\" class=\"dataframe\">\n",
              "  <thead>\n",
              "    <tr style=\"text-align: right;\">\n",
              "      <th></th>\n",
              "      <th>0</th>\n",
              "    </tr>\n",
              "  </thead>\n",
              "  <tbody>\n",
              "    <tr>\n",
              "      <th>0</th>\n",
              "      <td>10</td>\n",
              "    </tr>\n",
              "    <tr>\n",
              "      <th>1</th>\n",
              "      <td>9</td>\n",
              "    </tr>\n",
              "    <tr>\n",
              "      <th>2</th>\n",
              "      <td>9</td>\n",
              "    </tr>\n",
              "    <tr>\n",
              "      <th>3</th>\n",
              "      <td>12</td>\n",
              "    </tr>\n",
              "    <tr>\n",
              "      <th>4</th>\n",
              "      <td>13</td>\n",
              "    </tr>\n",
              "    <tr>\n",
              "      <th>5</th>\n",
              "      <td>13</td>\n",
              "    </tr>\n",
              "    <tr>\n",
              "      <th>6</th>\n",
              "      <td>14</td>\n",
              "    </tr>\n",
              "    <tr>\n",
              "      <th>7</th>\n",
              "      <td>15</td>\n",
              "    </tr>\n",
              "  </tbody>\n",
              "</table>\n",
              "</div><br><label><b>dtype:</b> int64</label>"
            ]
          },
          "metadata": {},
          "execution_count": 43
        }
      ]
    },
    {
      "cell_type": "markdown",
      "source": [
        "# DataFrames"
      ],
      "metadata": {
        "id": "nQwQGsveDvUv"
      }
    },
    {
      "cell_type": "code",
      "source": [],
      "metadata": {
        "id": "jS4hrHrdEJrv"
      },
      "execution_count": null,
      "outputs": []
    },
    {
      "cell_type": "markdown",
      "source": [
        "# Gráficos iniciais"
      ],
      "metadata": {
        "id": "SsvLTKyeDxKP"
      }
    },
    {
      "cell_type": "markdown",
      "source": [
        "A biblioteca Matplotlib é uma das mais comuns para visualização de dados em Python de forma bidimensional."
      ],
      "metadata": {
        "id": "u7YYD8AfX1X8"
      }
    },
    {
      "cell_type": "code",
      "source": [],
      "metadata": {
        "id": "uXnyAsbdEKOa"
      },
      "execution_count": null,
      "outputs": []
    },
    {
      "cell_type": "markdown",
      "source": [
        "# Exportação de arquivos e figuras"
      ],
      "metadata": {
        "id": "FOUhj_YDDyLq"
      }
    },
    {
      "cell_type": "code",
      "source": [],
      "metadata": {
        "id": "HNIPvEnUEKsG"
      },
      "execution_count": null,
      "outputs": []
    },
    {
      "cell_type": "markdown",
      "source": [
        "# Referências\n",
        "\n",
        "* McKinney, Wes. Python para análise de dados: Tratamento de dados com Pandas, NumPy e IPython. Novatec Editora, 2018."
      ],
      "metadata": {
        "id": "i89BencnD3Gz"
      }
    }
  ]
}