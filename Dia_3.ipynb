{
  "nbformat": 4,
  "nbformat_minor": 0,
  "metadata": {
    "colab": {
      "provenance": []
    },
    "kernelspec": {
      "name": "python3",
      "display_name": "Python 3"
    },
    "language_info": {
      "name": "python"
    }
  },
  "cells": [
    {
      "cell_type": "markdown",
      "source": [
        "# Material/Conteúdo de aula do dia 3\n",
        "\n",
        "* Filtros de dataframe\n",
        "* Gráficos (Matplotlib, Seaborn e Plotly)\n",
        "* Dicionário e sets\n"
      ],
      "metadata": {
        "id": "AIJ_t1nQE1X7"
      }
    },
    {
      "cell_type": "code",
      "source": [],
      "metadata": {
        "id": "f_A0OmrVE37r"
      },
      "execution_count": null,
      "outputs": []
    },
    {
      "cell_type": "markdown",
      "source": [
        "# Filtros de dataframe"
      ],
      "metadata": {
        "id": "QD0opeHRFCVi"
      }
    },
    {
      "cell_type": "code",
      "source": [],
      "metadata": {
        "id": "iXU5-_CvFCcC"
      },
      "execution_count": null,
      "outputs": []
    },
    {
      "cell_type": "markdown",
      "source": [
        "# Gráficos (Matplotlib, Seaborn e Plotly)"
      ],
      "metadata": {
        "id": "y7nviNblFCg2"
      }
    },
    {
      "cell_type": "code",
      "source": [],
      "metadata": {
        "id": "XN-m18XsFCmQ"
      },
      "execution_count": null,
      "outputs": []
    },
    {
      "cell_type": "markdown",
      "source": [
        "# Dicionário e sets"
      ],
      "metadata": {
        "id": "IKef_KYwFCrC"
      }
    },
    {
      "cell_type": "code",
      "source": [],
      "metadata": {
        "id": "_DpInG6aFCwn"
      },
      "execution_count": null,
      "outputs": []
    },
    {
      "cell_type": "markdown",
      "source": [
        "# Referências\n",
        "\n",
        "* McKinney, Wes. Python para análise de dados: Tratamento de dados com Pandas, NumPy e IPython. Novatec Editora, 2018."
      ],
      "metadata": {
        "id": "VNbpHKgBFBip"
      }
    }
  ]
}