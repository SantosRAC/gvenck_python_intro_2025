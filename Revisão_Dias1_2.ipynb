{
  "nbformat": 4,
  "nbformat_minor": 0,
  "metadata": {
    "colab": {
      "provenance": []
    },
    "kernelspec": {
      "name": "python3",
      "display_name": "Python 3"
    },
    "language_info": {
      "name": "python"
    }
  },
  "cells": [
    {
      "cell_type": "markdown",
      "source": [
        "# Revisão dias 1 e 2\n",
        "\n",
        "Tópicos:\n",
        "\n",
        "* números (inteiros e floats)\n",
        "* funções disponíveis na base (como `print()`)\n",
        "* strings e seus métodos\n",
        "* listas e seus métodos\n",
        "* operações lógicas\n",
        "* laços for (iterações)\n",
        "* serie (Pandas)\n",
        "* dataframe (Pandas)\n",
        "* Gráficos (Matplotlib)"
      ],
      "metadata": {
        "id": "iWVAiDakmH-3"
      }
    },
    {
      "cell_type": "markdown",
      "source": [
        "## Strings"
      ],
      "metadata": {
        "id": "FWuXBnPHrMwP"
      }
    },
    {
      "cell_type": "code",
      "source": [
        "nome = \"\""
      ],
      "metadata": {
        "id": "VMEx4iHKtsUj"
      },
      "execution_count": 15,
      "outputs": []
    },
    {
      "cell_type": "code",
      "source": [
        "nome = \"Renato\""
      ],
      "metadata": {
        "id": "chR5QCRlrv1R"
      },
      "execution_count": null,
      "outputs": []
    },
    {
      "cell_type": "code",
      "source": [
        "professor = \"gustavo\""
      ],
      "metadata": {
        "id": "ZK18Xl9Irw2n"
      },
      "execution_count": null,
      "outputs": []
    },
    {
      "cell_type": "code",
      "source": [
        "monitor = \"aLiCia\""
      ],
      "metadata": {
        "id": "wxajBdvRryoB"
      },
      "execution_count": 2,
      "outputs": []
    },
    {
      "cell_type": "code",
      "source": [
        "aluno = \"João Mário Roberto\""
      ],
      "metadata": {
        "id": "G7PGzX6Sr02P"
      },
      "execution_count": 1,
      "outputs": []
    },
    {
      "cell_type": "markdown",
      "source": [
        "### Métodos e operações que já vimos (revisão)"
      ],
      "metadata": {
        "id": "52EIteqwr9Jc"
      }
    },
    {
      "cell_type": "code",
      "source": [
        "\"aLiCia\""
      ],
      "metadata": {
        "id": "Bb2lQjiEr9Wm"
      },
      "execution_count": null,
      "outputs": []
    },
    {
      "cell_type": "code",
      "source": [
        "monitor.title()"
      ],
      "metadata": {
        "id": "9d7IN8F4sKf2"
      },
      "execution_count": null,
      "outputs": []
    },
    {
      "cell_type": "code",
      "source": [
        "monitor.upper()"
      ],
      "metadata": {
        "id": "NyrWy3fHsMhs"
      },
      "execution_count": null,
      "outputs": []
    },
    {
      "cell_type": "code",
      "source": [
        "monitor.lower()"
      ],
      "metadata": {
        "id": "Qt2rEduNsMoc"
      },
      "execution_count": null,
      "outputs": []
    },
    {
      "cell_type": "code",
      "source": [
        "nome + professor + monitor"
      ],
      "metadata": {
        "id": "zKAiewtZsMu_"
      },
      "execution_count": null,
      "outputs": []
    },
    {
      "cell_type": "markdown",
      "source": [
        "### Outras coisas legais e úteis que dá para fazer com strings"
      ],
      "metadata": {
        "id": "wceo5D1BsA9n"
      }
    },
    {
      "cell_type": "markdown",
      "source": [
        "Fatiamento"
      ],
      "metadata": {
        "id": "-HpJU4QuspVZ"
      }
    },
    {
      "cell_type": "code",
      "source": [
        "monitor[1]"
      ],
      "metadata": {
        "colab": {
          "base_uri": "https://localhost:8080/",
          "height": 35
        },
        "id": "j12u7oBOsBFI",
        "outputId": "a8eebc02-9e96-4218-93e8-defec68278be"
      },
      "execution_count": 3,
      "outputs": [
        {
          "output_type": "execute_result",
          "data": {
            "text/plain": [
              "'L'"
            ],
            "application/vnd.google.colaboratory.intrinsic+json": {
              "type": "string"
            }
          },
          "metadata": {},
          "execution_count": 3
        }
      ]
    },
    {
      "cell_type": "code",
      "source": [
        "monitor[0:1]"
      ],
      "metadata": {
        "colab": {
          "base_uri": "https://localhost:8080/",
          "height": 35
        },
        "id": "XYvczEFesd20",
        "outputId": "ea8f5e6a-a3df-4d9c-e304-4772f49891d2"
      },
      "execution_count": 4,
      "outputs": [
        {
          "output_type": "execute_result",
          "data": {
            "text/plain": [
              "'a'"
            ],
            "application/vnd.google.colaboratory.intrinsic+json": {
              "type": "string"
            }
          },
          "metadata": {},
          "execution_count": 4
        }
      ]
    },
    {
      "cell_type": "code",
      "source": [
        "monitor[0:2]"
      ],
      "metadata": {
        "colab": {
          "base_uri": "https://localhost:8080/",
          "height": 35
        },
        "id": "kKYo4GcFsgZ_",
        "outputId": "a0a0354f-3a64-49a4-ba52-f8d10506213d"
      },
      "execution_count": 5,
      "outputs": [
        {
          "output_type": "execute_result",
          "data": {
            "text/plain": [
              "'aL'"
            ],
            "application/vnd.google.colaboratory.intrinsic+json": {
              "type": "string"
            }
          },
          "metadata": {},
          "execution_count": 5
        }
      ]
    },
    {
      "cell_type": "code",
      "source": [
        "monitor[2:]"
      ],
      "metadata": {
        "colab": {
          "base_uri": "https://localhost:8080/",
          "height": 35
        },
        "id": "iJ8ygcVcsiNc",
        "outputId": "e942ef17-9d66-45a7-b1d6-eb0a5dd88e50"
      },
      "execution_count": 6,
      "outputs": [
        {
          "output_type": "execute_result",
          "data": {
            "text/plain": [
              "'iCia'"
            ],
            "application/vnd.google.colaboratory.intrinsic+json": {
              "type": "string"
            }
          },
          "metadata": {},
          "execution_count": 6
        }
      ]
    },
    {
      "cell_type": "code",
      "source": [
        "monitor[2:4]"
      ],
      "metadata": {
        "colab": {
          "base_uri": "https://localhost:8080/",
          "height": 35
        },
        "id": "yhQPar23skqB",
        "outputId": "f6728177-db51-4424-9097-c843ddb6ef44"
      },
      "execution_count": 8,
      "outputs": [
        {
          "output_type": "execute_result",
          "data": {
            "text/plain": [
              "'iC'"
            ],
            "application/vnd.google.colaboratory.intrinsic+json": {
              "type": "string"
            }
          },
          "metadata": {},
          "execution_count": 8
        }
      ]
    },
    {
      "cell_type": "markdown",
      "source": [
        "Split (quebra em determinado padrão)"
      ],
      "metadata": {
        "id": "XAteSqTAsr2B"
      }
    },
    {
      "cell_type": "code",
      "source": [
        "monitor.split(\"a\")"
      ],
      "metadata": {
        "colab": {
          "base_uri": "https://localhost:8080/"
        },
        "id": "XptDboRLsvAV",
        "outputId": "8024e67d-fe5e-41a2-fb1a-0dc774d78870"
      },
      "execution_count": 9,
      "outputs": [
        {
          "output_type": "execute_result",
          "data": {
            "text/plain": [
              "['', 'LiCi', '']"
            ]
          },
          "metadata": {},
          "execution_count": 9
        }
      ]
    },
    {
      "cell_type": "code",
      "source": [
        "aluno.split(\" \")"
      ],
      "metadata": {
        "colab": {
          "base_uri": "https://localhost:8080/"
        },
        "id": "i3ZKOxJ6sz-l",
        "outputId": "75f36de1-f51c-4bd8-b357-9dfc32772fb3"
      },
      "execution_count": 10,
      "outputs": [
        {
          "output_type": "execute_result",
          "data": {
            "text/plain": [
              "['João', 'Mário', 'Roberto']"
            ]
          },
          "metadata": {},
          "execution_count": 10
        }
      ]
    },
    {
      "cell_type": "markdown",
      "source": [
        "## Listas"
      ],
      "metadata": {
        "id": "FNZ_BOZts4oL"
      }
    },
    {
      "cell_type": "code",
      "source": [
        "nomes = []"
      ],
      "metadata": {
        "id": "8i6eBZUytvO1"
      },
      "execution_count": 16,
      "outputs": []
    },
    {
      "cell_type": "code",
      "source": [
        "nomes = ['João', 'Mário', 'Roberto']"
      ],
      "metadata": {
        "id": "DhH977eKs9GL"
      },
      "execution_count": 31,
      "outputs": []
    },
    {
      "cell_type": "code",
      "source": [
        "primeiro_nome = nomes[0]"
      ],
      "metadata": {
        "id": "nT0Usukhs_FG"
      },
      "execution_count": null,
      "outputs": []
    },
    {
      "cell_type": "code",
      "source": [
        "primeiro_nome, segundo_nome, sobrenome = nomes[0], nomes[1], nomes[2]"
      ],
      "metadata": {
        "id": "VgzVgI3stGlT"
      },
      "execution_count": 12,
      "outputs": []
    },
    {
      "cell_type": "code",
      "source": [
        "primeiro_nome"
      ],
      "metadata": {
        "colab": {
          "base_uri": "https://localhost:8080/",
          "height": 35
        },
        "id": "p2TNa_zAtKBf",
        "outputId": "29d72667-7883-4ae8-87dc-88d28a27ec84"
      },
      "execution_count": 14,
      "outputs": [
        {
          "output_type": "execute_result",
          "data": {
            "text/plain": [
              "'João'"
            ],
            "application/vnd.google.colaboratory.intrinsic+json": {
              "type": "string"
            }
          },
          "metadata": {},
          "execution_count": 14
        }
      ]
    },
    {
      "cell_type": "markdown",
      "source": [
        "### Métodos e operações que já vimos (revisão)"
      ],
      "metadata": {
        "id": "TskBH7LTtTfN"
      }
    },
    {
      "cell_type": "code",
      "source": [
        "nomes.append(\"Carol\")"
      ],
      "metadata": {
        "id": "8ru4-kvVutyA"
      },
      "execution_count": 32,
      "outputs": []
    },
    {
      "cell_type": "markdown",
      "source": [
        "### Outras coisas legais e úteis que dá para fazer com listas"
      ],
      "metadata": {
        "id": "wKqSIzdttY2G"
      }
    },
    {
      "cell_type": "code",
      "source": [
        "nomes = nomes + [\"Camila\", \"Joel\"]"
      ],
      "metadata": {
        "id": "9QLumrh8u1i1"
      },
      "execution_count": 34,
      "outputs": []
    },
    {
      "cell_type": "code",
      "source": [
        "nomes.extend([\"Carol\"])"
      ],
      "metadata": {
        "id": "mTHN3cnPvXHW"
      },
      "execution_count": 35,
      "outputs": []
    },
    {
      "cell_type": "code",
      "source": [
        "nomes.extend(\"Carol\")"
      ],
      "metadata": {
        "id": "QyFp2RQPvd8m"
      },
      "execution_count": null,
      "outputs": []
    },
    {
      "cell_type": "code",
      "source": [
        "nomes"
      ],
      "metadata": {
        "colab": {
          "base_uri": "https://localhost:8080/"
        },
        "id": "vDPxc-DrvTRI",
        "outputId": "3dc5ca66-3437-4d56-f28f-96ebaffd3a29"
      },
      "execution_count": 38,
      "outputs": [
        {
          "output_type": "execute_result",
          "data": {
            "text/plain": [
              "['João', 'Mário', 'Roberto', 'Carol', 'Camila', 'Joel']"
            ]
          },
          "metadata": {},
          "execution_count": 38
        }
      ]
    },
    {
      "cell_type": "code",
      "source": [
        "nomes.pop() # Tira o último elemento da lista e retorna para ser utilizado"
      ],
      "metadata": {
        "colab": {
          "base_uri": "https://localhost:8080/",
          "height": 35
        },
        "id": "zA2a14Wvu34U",
        "outputId": "6a888a59-86f6-4b6e-8db9-5ce0a5d4827d"
      },
      "execution_count": 37,
      "outputs": [
        {
          "output_type": "execute_result",
          "data": {
            "text/plain": [
              "'Carol'"
            ],
            "application/vnd.google.colaboratory.intrinsic+json": {
              "type": "string"
            }
          },
          "metadata": {},
          "execution_count": 37
        }
      ]
    },
    {
      "cell_type": "code",
      "source": [
        "nomes.insert(2, \"Pedro\") # Insere um item em uma posição na lista de acordo com índice e \"empurra\" todos os ítens para frente"
      ],
      "metadata": {
        "id": "fJuS6yHHtY9S"
      },
      "execution_count": 39,
      "outputs": []
    },
    {
      "cell_type": "code",
      "source": [
        "nomes"
      ],
      "metadata": {
        "colab": {
          "base_uri": "https://localhost:8080/"
        },
        "id": "FmOJvZFcvv6q",
        "outputId": "44c7e088-0841-4776-ac14-4a29c9a3552e"
      },
      "execution_count": 42,
      "outputs": [
        {
          "output_type": "execute_result",
          "data": {
            "text/plain": [
              "['João', 'Pedro', 'Roberto', 'Carol', 'Camila', 'Joel']"
            ]
          },
          "metadata": {},
          "execution_count": 42
        }
      ]
    },
    {
      "cell_type": "code",
      "source": [
        "nomes.remove(\"Mário\")"
      ],
      "metadata": {
        "id": "_oM6-nrZvL_c"
      },
      "execution_count": 41,
      "outputs": []
    },
    {
      "cell_type": "code",
      "source": [
        "nomes.append(\"Carol\")"
      ],
      "metadata": {
        "id": "DIObN_oIv5uR"
      },
      "execution_count": 43,
      "outputs": []
    },
    {
      "cell_type": "code",
      "source": [
        "nomes"
      ],
      "metadata": {
        "colab": {
          "base_uri": "https://localhost:8080/"
        },
        "id": "_oOjQ32Ov-fg",
        "outputId": "403576f8-8740-4de0-8a13-0b5b0c70dd18"
      },
      "execution_count": 46,
      "outputs": [
        {
          "output_type": "execute_result",
          "data": {
            "text/plain": [
              "['João', 'Pedro', 'Roberto', 'Camila', 'Joel', 'Carol']"
            ]
          },
          "metadata": {},
          "execution_count": 46
        }
      ]
    },
    {
      "cell_type": "code",
      "source": [
        "nomes.remove(\"Carol\") # Remove apenas uma ocorrência de \"Carol\""
      ],
      "metadata": {
        "id": "dpqu06FfwAC7"
      },
      "execution_count": 45,
      "outputs": []
    },
    {
      "cell_type": "markdown",
      "source": [
        "## Números"
      ],
      "metadata": {
        "id": "YoTWZcqJrOam"
      }
    },
    {
      "cell_type": "code",
      "source": [
        "temperatura = 4"
      ],
      "metadata": {
        "id": "ZJk04jSprZ2U"
      },
      "execution_count": null,
      "outputs": []
    },
    {
      "cell_type": "code",
      "source": [
        "temperatura = 5"
      ],
      "metadata": {
        "id": "BuzgbF-xrcOp"
      },
      "execution_count": null,
      "outputs": []
    },
    {
      "cell_type": "code",
      "source": [
        "temperatura = -12"
      ],
      "metadata": {
        "id": "8He3J1L5rd0Y"
      },
      "execution_count": null,
      "outputs": []
    },
    {
      "cell_type": "code",
      "source": [
        "pi = 3.141592"
      ],
      "metadata": {
        "id": "r-dhR7q2rgtC"
      },
      "execution_count": null,
      "outputs": []
    },
    {
      "cell_type": "code",
      "source": [
        "_pi1_ = 3.141592"
      ],
      "metadata": {
        "id": "qGwgoLgBrj1U"
      },
      "execution_count": null,
      "outputs": []
    },
    {
      "cell_type": "markdown",
      "source": [
        "Atenção! Casas decimais de números em Python são separadas por pontos (como no inglês) e não com vírgulas!!!!!!!"
      ],
      "metadata": {
        "id": "8R3PJzLLuT72"
      }
    },
    {
      "cell_type": "code",
      "source": [
        "pi = 3,141592"
      ],
      "metadata": {
        "id": "8NbqYcmZuUNq"
      },
      "execution_count": 17,
      "outputs": []
    },
    {
      "cell_type": "markdown",
      "source": [
        "## Tuplas\n",
        "\n",
        "De forma bem resumida, tuplas são listas imutáveis.\n",
        "\n",
        "* Também têm elementos ordenados\n",
        "* Também têm elementos indexados (começando em 0)\n",
        "* Também podem apresentar elementos do mesmo ou de diferentes tipos (strings, números, etc)\n",
        "\n",
        "Tuplas são definidas com o uso de parênteses e não com colchetes, que é o caso de listas."
      ],
      "metadata": {
        "id": "e120A7wEtPwo"
      }
    },
    {
      "cell_type": "code",
      "source": [
        "pi"
      ],
      "metadata": {
        "colab": {
          "base_uri": "https://localhost:8080/"
        },
        "id": "0iouIRjntz8-",
        "outputId": "76f8d39b-8a75-4c6f-a6f3-d1a61c7bb7ef"
      },
      "execution_count": 18,
      "outputs": [
        {
          "output_type": "execute_result",
          "data": {
            "text/plain": [
              "(3, 141592)"
            ]
          },
          "metadata": {},
          "execution_count": 18
        }
      ]
    },
    {
      "cell_type": "code",
      "source": [
        "nomes = ('João', 'Mário', 'Roberto')"
      ],
      "metadata": {
        "id": "norw-PpOunUC"
      },
      "execution_count": 19,
      "outputs": []
    },
    {
      "cell_type": "code",
      "source": [
        "nomes"
      ],
      "metadata": {
        "colab": {
          "base_uri": "https://localhost:8080/"
        },
        "id": "PIaq0WhquqOp",
        "outputId": "9e0ac1c3-6d30-42d7-e07d-75f7bdc69b14"
      },
      "execution_count": 20,
      "outputs": [
        {
          "output_type": "execute_result",
          "data": {
            "text/plain": [
              "('João', 'Mário', 'Roberto')"
            ]
          },
          "metadata": {},
          "execution_count": 20
        }
      ]
    },
    {
      "cell_type": "code",
      "source": [
        "nomes.append(\"Carol\")"
      ],
      "metadata": {
        "id": "cWKkTD62uy5y"
      },
      "execution_count": 24,
      "outputs": []
    },
    {
      "cell_type": "markdown",
      "source": [
        "## Iterações em laços for"
      ],
      "metadata": {
        "id": "RHc8Nql9wRqO"
      }
    },
    {
      "cell_type": "code",
      "source": [
        "for nome in nomes:\n",
        "  print(nome)"
      ],
      "metadata": {
        "colab": {
          "base_uri": "https://localhost:8080/"
        },
        "id": "omntuFmfxAyA",
        "outputId": "ed00b55c-ff8a-49c4-c29f-d1fa35c4d67a"
      },
      "execution_count": 48,
      "outputs": [
        {
          "output_type": "stream",
          "name": "stdout",
          "text": [
            "João\n",
            "Pedro\n",
            "Roberto\n",
            "Camila\n",
            "Joel\n",
            "Carol\n"
          ]
        }
      ]
    },
    {
      "cell_type": "markdown",
      "source": [
        "Cálculo da soma de valores arrecadados por aluno:"
      ],
      "metadata": {
        "id": "mKHqKetrxQf2"
      }
    },
    {
      "cell_type": "code",
      "source": [
        "arrecadacao_por_aluno = [5, 3, 7, 4, 9, 4, 6, 9, 20, 10, 4]"
      ],
      "metadata": {
        "id": "TGIaeMkiwRzZ"
      },
      "execution_count": 49,
      "outputs": []
    },
    {
      "cell_type": "code",
      "source": [
        "arrecadacao_total = 0"
      ],
      "metadata": {
        "id": "mO2AN3TEwmFO"
      },
      "execution_count": 55,
      "outputs": []
    },
    {
      "cell_type": "code",
      "source": [
        "for valor in arrecadacao_por_aluno:\n",
        "  print(f\"Aluno arrecadou {valor} reais.\")\n",
        "  arrecadacao_total = arrecadacao_total + valor"
      ],
      "metadata": {
        "colab": {
          "base_uri": "https://localhost:8080/"
        },
        "id": "jrU2GXncw7UL",
        "outputId": "b99d44b3-b01d-4484-eeda-b7cf090f2dea"
      },
      "execution_count": 56,
      "outputs": [
        {
          "output_type": "stream",
          "name": "stdout",
          "text": [
            "Aluno arrecador 5 reais.\n",
            "Aluno arrecador 3 reais.\n",
            "Aluno arrecador 7 reais.\n",
            "Aluno arrecador 4 reais.\n",
            "Aluno arrecador 9 reais.\n",
            "Aluno arrecador 4 reais.\n",
            "Aluno arrecador 6 reais.\n",
            "Aluno arrecador 9 reais.\n",
            "Aluno arrecador 20 reais.\n",
            "Aluno arrecador 10 reais.\n",
            "Aluno arrecador 4 reais.\n"
          ]
        }
      ]
    },
    {
      "cell_type": "code",
      "source": [
        "arrecadacao_total"
      ],
      "metadata": {
        "colab": {
          "base_uri": "https://localhost:8080/"
        },
        "id": "jO0QVDOXxGHW",
        "outputId": "e764e352-4006-41fe-ee00-4c86b7b27e82"
      },
      "execution_count": 54,
      "outputs": [
        {
          "output_type": "execute_result",
          "data": {
            "text/plain": [
              "162"
            ]
          },
          "metadata": {},
          "execution_count": 54
        }
      ]
    },
    {
      "cell_type": "markdown",
      "source": [
        "## Dicionários\n",
        "\n",
        "* Combinações de chaves (únicas) e valores\n",
        "* Também podemos percorrer os itens/elementos de um dicionário\n"
      ],
      "metadata": {
        "id": "BAkOwkUWt0fE"
      }
    },
    {
      "cell_type": "code",
      "source": [
        "arrecadacoes = {\"João\": 5,\n",
        "                \"Maria\": 300,\n",
        "                \"Cervílio\": 7,\n",
        "                \"Waldeglace\": 250,\n",
        "                \"Abílio\": 9,\n",
        "                \"Ângela\": 134,\n",
        "                \"Maria Eduarda\": 6}"
      ],
      "metadata": {
        "id": "H40Pjn_8xXh9"
      },
      "execution_count": 87,
      "outputs": []
    },
    {
      "cell_type": "code",
      "source": [
        "arrecadacoes[\"João\"]"
      ],
      "metadata": {
        "colab": {
          "base_uri": "https://localhost:8080/"
        },
        "id": "645MWPDOyakr",
        "outputId": "06445f80-ff39-4761-846d-c5f85dd7d571"
      },
      "execution_count": 88,
      "outputs": [
        {
          "output_type": "execute_result",
          "data": {
            "text/plain": [
              "5"
            ]
          },
          "metadata": {},
          "execution_count": 88
        }
      ]
    },
    {
      "cell_type": "code",
      "source": [
        "arrecadacao_total = 0"
      ],
      "metadata": {
        "id": "NN-LFC6lyLhE"
      },
      "execution_count": 89,
      "outputs": []
    },
    {
      "cell_type": "code",
      "source": [
        "for nome in arrecadacoes.keys():\n",
        "  print(f\"Aluno {nome} arrecadou {arrecadacoes[nome]} reais.\")\n",
        "  arrecadacao_total = arrecadacao_total + arrecadacoes[nome]"
      ],
      "metadata": {
        "colab": {
          "base_uri": "https://localhost:8080/"
        },
        "id": "Om-rUhQqxXvO",
        "outputId": "4e49b0ad-fe0f-40f1-c545-9608184fda49"
      },
      "execution_count": 90,
      "outputs": [
        {
          "output_type": "stream",
          "name": "stdout",
          "text": [
            "Aluno João arrecadou 5 reais.\n",
            "Aluno Maria arrecadou 300 reais.\n",
            "Aluno Cervílio arrecadou 7 reais.\n",
            "Aluno Waldeglace arrecadou 250 reais.\n",
            "Aluno Abílio arrecadou 9 reais.\n",
            "Aluno Ângela arrecadou 134 reais.\n",
            "Aluno Maria Eduarda arrecadou 6 reais.\n"
          ]
        }
      ]
    },
    {
      "cell_type": "code",
      "source": [
        "arrecadacao_total"
      ],
      "metadata": {
        "colab": {
          "base_uri": "https://localhost:8080/"
        },
        "id": "BBl0dyDuyNKI",
        "outputId": "302e8068-51e2-4f1e-f224-5d98347f8383"
      },
      "execution_count": 91,
      "outputs": [
        {
          "output_type": "execute_result",
          "data": {
            "text/plain": [
              "711"
            ]
          },
          "metadata": {},
          "execution_count": 91
        }
      ]
    },
    {
      "cell_type": "code",
      "source": [
        "for nome, valor in arrecadacoes.items():\n",
        "  print(f\"Aluno {nome} arrecadou {valor} reais.\")\n",
        "  arrecadacao_total = arrecadacao_total + valor"
      ],
      "metadata": {
        "colab": {
          "base_uri": "https://localhost:8080/"
        },
        "id": "EM0yQDGoyOla",
        "outputId": "ec0a0bc5-5472-4969-d0a9-2729365cb94f"
      },
      "execution_count": 92,
      "outputs": [
        {
          "output_type": "stream",
          "name": "stdout",
          "text": [
            "Aluno João arrecadou 5 reais.\n",
            "Aluno Maria arrecadou 300 reais.\n",
            "Aluno Cervílio arrecadou 7 reais.\n",
            "Aluno Waldeglace arrecadou 250 reais.\n",
            "Aluno Abílio arrecadou 9 reais.\n",
            "Aluno Ângela arrecadou 134 reais.\n",
            "Aluno Maria Eduarda arrecadou 6 reais.\n"
          ]
        }
      ]
    },
    {
      "cell_type": "code",
      "source": [
        "arrecadacao_total"
      ],
      "metadata": {
        "colab": {
          "base_uri": "https://localhost:8080/"
        },
        "id": "UwTZ0_g7yVK3",
        "outputId": "8e7cc05c-5289-4e1c-e11a-973382ebd976"
      },
      "execution_count": 93,
      "outputs": [
        {
          "output_type": "execute_result",
          "data": {
            "text/plain": [
              "1422"
            ]
          },
          "metadata": {},
          "execution_count": 93
        }
      ]
    },
    {
      "cell_type": "markdown",
      "source": [
        "### Operações lógicas e estruturas de decisão\n",
        "\n",
        "Apenas alguns exemplos de operações lógicas e estruturas de decisão!!!"
      ],
      "metadata": {
        "id": "q0Wdq8ap0h0E"
      }
    },
    {
      "cell_type": "code",
      "source": [
        "10 < 0"
      ],
      "metadata": {
        "colab": {
          "base_uri": "https://localhost:8080/"
        },
        "id": "L_vVLYXS1bpP",
        "outputId": "18e758b7-1e90-4928-ee1b-2f8c2899505e"
      },
      "execution_count": 96,
      "outputs": [
        {
          "output_type": "execute_result",
          "data": {
            "text/plain": [
              "False"
            ]
          },
          "metadata": {},
          "execution_count": 96
        }
      ]
    },
    {
      "cell_type": "code",
      "source": [
        "10 > 0"
      ],
      "metadata": {
        "colab": {
          "base_uri": "https://localhost:8080/"
        },
        "id": "RqNlW-4o1bxr",
        "outputId": "918b7081-3633-4b9d-b75c-6fe8e086a877"
      },
      "execution_count": 97,
      "outputs": [
        {
          "output_type": "execute_result",
          "data": {
            "text/plain": [
              "True"
            ]
          },
          "metadata": {},
          "execution_count": 97
        }
      ]
    },
    {
      "cell_type": "code",
      "source": [
        "10 == 0"
      ],
      "metadata": {
        "colab": {
          "base_uri": "https://localhost:8080/"
        },
        "id": "Cyi_2QTh1b50",
        "outputId": "293fdff5-05de-42f9-e4b9-82ddb73b781b"
      },
      "execution_count": 98,
      "outputs": [
        {
          "output_type": "execute_result",
          "data": {
            "text/plain": [
              "False"
            ]
          },
          "metadata": {},
          "execution_count": 98
        }
      ]
    },
    {
      "cell_type": "code",
      "source": [
        "10 == 10"
      ],
      "metadata": {
        "colab": {
          "base_uri": "https://localhost:8080/"
        },
        "id": "6zH_09V71cC0",
        "outputId": "9e8a0cca-e368-4ce8-b253-5025b42e76fe"
      },
      "execution_count": 99,
      "outputs": [
        {
          "output_type": "execute_result",
          "data": {
            "text/plain": [
              "True"
            ]
          },
          "metadata": {},
          "execution_count": 99
        }
      ]
    },
    {
      "cell_type": "markdown",
      "source": [
        "[Tabela Verdade](https://pt.wikipedia.org/wiki/Tabela-verdade):\n",
        "\n",
        "![image.png](data:image/png;base64,iVBORw0KGgoAAAANSUhEUgAAARQAAAEiCAYAAAA4Uy3JAAAgAElEQVR4Xu2dC5QVxbWGd8IlCom8krsS0BCjmDDR3CAGQRxBFGYUeamRCAJREDEKkujloSgvIfLwkRESRBQjoxCNCgqoDI8RRBDQCSYxkMiVBDExSwzC9eIihHvv2W3qWNPTp7t2ne5zuoa/15q1hjm7q3b9u+rrXY8+fOb/MhfhggJQAArEoMBnAJQYVEQRUAAKeAoAKOgIUAAKxKYAgBKblCgICkABAAV9AApAgdgUAFBikxIFQQEoAKCgD0ABKBCbAgBKbFIWt6D7fno/zZh9Nx09+r/U7fyuNG7MLfTds9rT9TeOoieefIrm/3wu9b/i8uI6idrrvQJ5A+Uf/zhCCx5eSJWPL6bdu3cT/5uvE044gb59xul01/Q76T++fUaqhHzyV0/TiBtGZn16+aU1dMbpp6fKR4kze/e+S98+87uht/z216/RSSedKCk2Ftvh199ITz39DH35y1+mnb/bHlgm95mvn9aWDh06VOvzVc8/R2d36BDqx/cHDqaq1WuyNr98fBGVl/Woc8/v3nyTzju/e/bvfsD6ywmq9N+/9CU6p1NHmjplIn2tdes6Jo/8YhHdPGYcNWjQgLa9upG+fvLJ1hqa6GZd+L9u7N3vctr4yiZvfK5ftzrf4rz78wJK9Uvr6doRP6S//31/qDPcKZYve5o+97mGsTidbyH1DSjPLHuWhg2/nq4acCXNvf8+eu31Gpo5+x7a8PLLXsbyo5tG0u23jc9XNvH93Fm50/I1etSNNHni7YFl+OOhjK4eMojuu2e2CCgMrt/UbKvT1+IAiu7IxAm30o9/dFMt3z788AC1aXt6RvOjHnieX75MrBnfYKqbVeHaTQqA/KdZd02n4dcOzbdIe6BwJ7hh1GhPPJPrtDan0tbNG01MYVNPFOh6QQ/6zW9/57WmZtvmnE/sXNlB48aNafdbO0MfREH3Bg32uIHCbQqaRur+8EO09NzO4mia6iYu2HcDZ4atWn/dG8O5QCytwypD2f2nP1GHTqW1YDLwyu/TlMl30Je++EX6+OOP6YkMcMbdelt2CsSOBQVa6jDs3VBg67ZtVN6zj+fst0pK6JUN6wId15/qbFDWo3utKUzlLxZSr0suztnoIKDwlGNHZnrFUxR1SYBy8te+Rr9+7dVade7c+QeaMetuenb5iuzfg+rRsy2GCUNFcpnqJikzzFbX797ZM+maq4fkVbQVUIZeO4KWPvtctuJcC36/3v4G9bjokix4cs2jGUCcoi967HHav/9Dr1xeg+nWtYu3BtOqVcs6jfR3kP3v/5XWrF1Ht0+aQn/4wx89+5Ytv0Jj//MW4tRZv8KmPP7PgtrW/N8/9cefyusB4s94cfSWseNp2bPLPdDytK/LeedRxb13B7aL/dyxYydNnHInvbJps3cPX82bN6OLysvo9lvHB97HdlzPi6uqshryfTyorh12TWbaMyrnk95G/6hep/eRsOmOnnZzmbzW0z3TZ/72t795VUQNylzZzSU9L6LHHn0kNqCogiZPnUYVc36WLZe1nT3jJ9l/6099/mNYZhakoaluQfeuXVdN7/7lL9SnVy9q1qxpVIi8z/X+HgZ+o8IyRmKg+J8oUU7w4tKuXbuo58UXefTjDEa/eB3myqsG18pk9M/5KXDXtKl15nd+oHzv8su8xb+gy9+hCwWUC7p1zaxn/JoOHjxYx60mTZrQa1teqfUUZSPerZk6/a6c8WMgvbhyOZ3Z7jtZm/f37aPvdjw3sB5lxFPOjeur60DFVv+wDubvI2Gpv1oY5PJUXxoz/jZ66OFPYMDx37XzzZwDJGwxVa833wxFtde/gByUzfTs3Y82v7rFuyUMpn4NJbr579VnDdI6eUFcXfluUIiBsqpqdQYAn6ZF+UxjOMjnX1hutA7jzxT8HSSsg/s7ZaGAEkV1/9NNLa5G3ccwemvH77Jw0AflZf360ryfzfGKmHLnNPr5Aw9miwvS0Fb/MB/9+v7t3T2B2ZF/AN06bkwmo7yZ9LSf6wlbMNSBwmsuhw8fzvYnfd0uLqCwP5f3v5LWVa/PSsDrPHpGMOGOSVndJWuHproFaa92hfgz1uHNN2qMs5T/aN+B3nlnr1fsLT8endcCvhgo034yg+65ryLbpocXPEDciW0ufSAomvMUoUGDf8tMX9bSkGuuzXYO/yAKAgqT+bbx47xpQo+LetJbu/4r0M9CAoWna0/9cjGVlLSlXyx6jH58y5isT/7O1vaMdtlUn9s7b26Fl9kdOHCQBv3gGm/1X11qvqtvGfvByU/TL5/46fam/8mVj/5h8eY2clv5CnqCq3sXPLSQxt46IVuUPj0487ud6E9//rP3WVgWrAOF6+p5cXktiCoYxQkU/7TH/1T39y8/cHJpZ6qb/37OUEsyfUffIJFkKbqG+exOsV9ioESJaQoW/9mJoC3CxxYvoVGjb64ziPgP/g7in2v7Myn96VxIoPjPUugr+Ppg07cKuX3+BTJ+mvOThNeVhg29mjp17Gi0Da+v9/CC5xOLKz0989U/LM56G/U6/ffoUwM/ePz9LNdahB8oWza9TKeVnJGd/qmn9d539xqfQwmDILfB75v/ocprhxf0uCjbXNPdHlPd/DoqEPED5YzTv0Vv/Oa3oixFz6h4SeKtnZ/szNlcRQOKHxbrVr9Ya11ANea0tmfQvg8+8P6pL7T5geJP1cKeSIUCCgd433ufpJLq8g8AtZvgf1rbHkTj7OzN3++gFSufpyefepr++tf3snXrgztf/cM6m55C89rWggc+XcRU9zEg9bm7/4nKawLtO5yTrcY/PQzT0982flgxhE0PtkmBEjUdNz2lbKKbX3d92sjtvPyyS43O/ujl+AHJGxy2V95AMRXL76BpI/TUVx8QUSlsGoAS1DFzAcVUj6BAq9PKP5v3QC2A+G11/Uzry6V/WIcL2wVT9/kXn4MWA8/tcgH9fscO75ZcO4S59NSf9nw/91P9dHTYSVkpUIJ8N9HAr6HNPWoBWz+dqzI/07WUOA96ioHiXziMWsThjvtiZiH38kv70WWX9qVTTznF0zHfDg2gfNIdGSbndy/ztprVxVvu/N7OkEFXEQ8sdaUJKP4Bb/JEDJo65AKKv3/wmpS+25YPUPw7S0HZpA0cpPfo2cmlffvQwofmezLq032TtZSiAsWfqkZtG+tPGaboX/bs9ub+pin3iV87NfuOh54+JwWUsLUXDhafcelU2jXb/8POoUgyFP+U59WN6+mb3/xG5Djzn+OYU3EvDRo4IHtfrk6ar/75ZCgm7x4Fla8PGvV5LqDw5/rOh7+8fICiT8NzrTnoupsea5cCRX8o+9eYFLBNshTbReSgGIkzFC7EvzuQa9rj77R6h/ADId9FWck8NozIfr/8ncE/gOMCin9RVm2h6kHr3KUbNW/WjIZd8wO68IILqGnTJqQPqK9+9STvPRb9ytVJ89U/DCj6NCloDWXW3ffSXTPD39EJKj/oKH4YUPjhd/p32td56ZDLtgWKv08Hre1EPexyaRelm36f3ragw38rVr5Ag6/+5N2coL6kl2U6W4h8umUMrIASdH6EheUtXyY2b3PeV3F/rROFnJ28tHZVrbd6/WmvOllqs20cF1D8T09OlTdUr/beLn3+hRfpmmuvq3UILy6gcLD0bWPWa9EjD3nbxrzQetvtE7NbsWyrpi/6gPI/LfVOxff4oZ2P/mGdS9+9Cdrl0bPWqF0FP3ykIPBnfspvaTm8McBfAzEpc4JZbc8GHb3n8v27PKaHxaJ00zXXdcn1VrbSOeqdKH2XJ2r9KAoqVkDhQnO9IZqrwqC5nP9ofpiz/q25qKeA7aKsf2BHCRgnUEwPtrFPqpP6FzdvuP46mn7nFNq0+VUaMOgHtdYN/IM7H/3DdAnroP7dm1y7QKp8P+D9T+OwDEWVoT/5TYASFXP1ea5DnXoWE7TTl6t804Gtn9YNOzdimqXoB/X8ryyYaqHsrIHCBUQd22YbFpRPP/JP0BVVBt//03tn11oX4HKSBEoYLFu0aE6nZBaWX3vtda85cQKFy4s6eu9/FYE7V2nXbrUO8ek683qV+o6aoKePrf5hHc2/DqVvQ/ozjlzfX6KX78+k9INiJkDxTye5bJvvQ1E+cQwmjB9b5+sL1Oc6GCQHxcJ00/XQNYzST8E0LEvRt6tN13tyxT8voHChnI4vzHyxDH/B0q7MyVSVDvLLbJdldnZuHn1TzpfglFPq5bSly56jPe+84/2Zdyr4LdNcL8MlCRQFy1sz0wz1oiG3h3dNeFp39bDrsm/Exg0UrjvXy4HnnXtu4Jf7sH4/vPEmqlqzNvsCIi+W84uV//znP7PnErjsoPTYRv8woPjfd9HPGOnZQlQqrurwQ1ZfEzABCpfDJ41XPv9i1m0boPCLln369Irs0/rURfJqSphuynG2UQf3ojZE+B59zS9oLcW/yWJ7/kn5lzdQwjpWWj+Lc5ssqTY+8OACb77OHYifiPztd48v+kUknJPyR1qu/tasZFBJ60mjvb4zKR2ghdZNz4ri+Oa2Yw4oPEB59Vv/2kBp0AvRiXkRUH23DD9d+WW0OAJeCN+5Dv0FP0naXyj/kqpHn15FffVCkA+F1k1/f6ho34eSVDCSLjfoMBWn3e/++dOXCJP2waR8noI0atTIM+UdswGDhnivw+e7YGZSd5w2ut6mL8jFWX8xytIHqOk7PH4/C6mbOlNT1G9sK0ag4qhTT0VVeVEnfeOoV1qGf1fC5EuSpHUUwl5/WkedhSiEP0nXYbr7EuVHoXTTd4HyXYxVbTpmpjwfffSR97IZv+rNFy/6jrzh+py7T1FBx+dmCqhFU5MFRLMS02ulf+u9/8yV1OtC6KYOqEq+syWqHccMUKKEwOdQAArkrwCAkr+GKAEKQIF/KQCgoCtAASgQmwIASmxSoiAoAAUAFPQBKAAFYlMAQIlNShQEBaAAgII+AAWgQGwKACixSYmCoAAUAFDQB6AAFIhNAQAlNilREBSAAgAK+gAUgAKxKQCgxCYlCoICUABAQR+AAlAgNgUAlNikREFQAAoAKOgDUAAKxKYAgBKblCgICkABAAV9AApAgdgUAFBikxIFQQEoAKCgD0ABKBCbAgBKbFKiICgABQAU9AEoAAViUwBAiU1KFAQFoACAgj4ABaBAbAoAKLFJiYKgABQAUNAHoAAUiE0BACU2KVEQFIACIqBUPvkcFIMCVgoM7t/H6j7c5JYCYqBcdGHXorbwxbXrCT4UNQTiyjlmAIpYNidvAFAswpYGqFm4XbRbAJSiSV/wigEUC8kBFJloAIpML5etARSL6AEoMtEAFJleLlsDKBbRA1BkogEoMr1ctgZQLKIHoMhEA1BkerlsDaBYRA9AkYkGoMj0ctkaQLGIHoAiEw1AkenlsjWAYhE9AEUmGoAi08tlawDFInoAikw0AEWml8vWAIpF9AAUmWgAikwvl60BFIvoASgy0QAUmV4uWwMoFtEDUGSiASgyvVy2BlAsogegyEQDUGR6uWxdMKBcfFEZffDBvqxWzyx9lk466ati7SSD+ewO7UPLP/744+nkk0+mSZOm0qlt2hj7IvFBL/Tpp39FM2fclf3TBRd2pxkzZhnXm7RhknrhbeOko5eO8gsClNdff51+eP3wWi0eft0IGj58hFgFyWCOGiB65ZMn30k9L7nEyB+JD3qBw68dSm+8sT37p0aNGtGatS9Rw4YNjepN2ihJvQCUpKOXjvILApTx48fSurVrarX4i1/8Er3wYpVYBclglgyQL3zhC7SueoORPxIfVIF7975Dl13at07548bfSpdffoVRvUkbJakXgJJ09NJRfuJAOXLkCHW/8Hz6+OOPiZ/IJSXfopqa173Wz5x1N3XrdoFICclg1gfI1m01depZ/9JLNH78GDp69Kj32WOPL6FvfOObkf5IfFCFLVgwnxY8ON/7Z5cuXWnDhvXe76eccgr98omnIuuMMmCdP9i3jz6fAeMJJ5wQZR74eZJ6AShWIXHupsSB8vzKlTR58h2eMGVl5dS5c2n23zZrCJLBHDVA2Kd+/XrTX9591/OPBzYP8KhL4oMqS6/nueXP0/WZKaCq13Y9Sfdz1swZ9NRTT1KrE0+kZcuWRzXBCij56AWgWIXEuZsSB8r1I4ZnM5J77v0pdep0TjZjadCgAa2qWktNmjQxFk4ymMOAwk/0Ta+8ks1QJANR4gM3jNdNeP2EL86AOBPSM5bvfa8/jR033lgDv+HBgwepvOzCbKZlk/lxmUnqBaBYh9epGxMFCnd0nu7wxdOd9Rte8X6/fcKtVFW1yvv9hzfcSNdcM8xYNMlgNl0T4EXRhx5+xJuOmVwSH7i8n0yflskanqnV3vfee4/69O5ZRxuT+v02FRU/pccfW5T9s+00Kkm9ABSbyLp3T6JAeeSRh2nez3/mqdKv32V024Tbvd/1J7a080sGs+kA6dK1K02bdhfxNrLJJfGBy+va5VxvDYkv3tVRGZmevdlmFQzt3r0u9sq/atCQLFhsyktSLwDFpGe5b5MoUK78/vfo7bff9lSa98ACOuuss7KK6edSFjy0kL7znXZGakoGs+kA4Yp5l+fpZ5ZR8+YtIv2Q+FBdvY7Gjf1Pr0xuI7dVXfq5lPbtz6IH5i+IrNtvoKZOvGv23PKVdMcdE7wdNSmoudwk9QJQxKF18obEgPLHP/6BBl01wEgUPXuJukEymKMWZffs+TPdcfsE2rHj9161pmsZEh9+PPomemXTxqhm1cleTG7Qd9DU1FHXXZqlJKkXgGISUfdtEgOK2nUwkUhywEsymKMGCPvGMPnBkEGem+dmdqDuq7g/0mVTH/yLpVEFSw/7qezEr5+CmDRLSVIvACUq+vXj88SA4j9qHyWX6QEv08HsT+GDzqF8+OF+Gj9ubHYXKm6g+I/aR2kgOezH2Qnv7Hz00UfkB5G+RiXJUqKAko9eAEpU9OvH54kA5eWXN9AtN//IUyhskOhbp/71hVzy2gLFJFxxQ42nfDwF4StX2fq0he38a025/FYL3pydLF/xQp2td7XgK8lSJGsoYW3y+4yXA016X/2wSQQo+lH7sHUJ/3F0kwNeSQHlzDPb0/wHHzKKqokPetuiztvoepkc9mMI9el9ifeyZS59bbIUCVCkeiFDMepazhvFDhTpE1d/ipssipoMZhUVkwHyla98hXr36UtXXz3U+CU9Ex8k2Zee0UXBh9v2xC+X0D33zCa2ff6FVTl3ptTLiKZZSpJ6ASjOs8KoAbEDxajWPIxMBnMexRvdmgYfjBxNiRGmPCkJRAHcAFAsRAZQZKIBKDK9XLYGUCyiB6DIRANQZHq5bA2gWEQPQJGJBqDI9HLZGkCxiB6AIhMNQJHp5bI1gGIRPQBFJhqAItPLZWsAxSJ6AIpMNABFppfL1gCKRfQAFJloAIpML5etARSL6AEoMtEAFJleLlsDKBbRA1BkogEoMr1ctgZQLKIHoMhEA1BkerlsDaBYRA9AkYkGoMj0ctkaQLGIHoAiEw1AkenlsrUYKC43Fr4XTwG8bVw87QtZsxgo/ftdXEj/6tT15LIXCD4UNQTiyjlmAIpYNidvAFAswpYGqFm4XbRbAJSiSV/wigEUC8kBFJloAIpML5etARSL6AEoMtEAFJleLlsDKBbRA1BkogEoMr1ctgZQLKIHoMhEA1BkerlsDaBYRA9AkYkGoMj0ctkaQLGIHoAiEw1AkenlsjWAYhE9AEUmGoAi08tlawDFInoAikw0AEWml8vWAIpF9AAUmWgAikwvl60BFIvoASgy0QAUmV4uWwMoFtEDUGSiASgyvVy2BlAsogegyEQDUGR6uWydCFBKS8+jffvep3nz5lG3bt1C9Zk6dSotXryYRo4c6f1EXSaDuaamhgYOHEiNGzcm/j3qUv5WVVVR69ato8zJxIclS5bQlClTqKSkhJYuXRpa5oEDB6hz58503HHH0ZYtW4z/0/ZIR1NiAKCkJBAFcCMRoMydO5f4p7y8nCoqKkKb0emcc+jD/fupurqaWrZsGdlkk8HMhfTu1Yve2rWL7p8zh8p69MhZ7tatW2nIkCFGA18VYuLDkSNHqGPHjnTo0CGKAlVlZSVNnz6dLrmkJ91zz72RGrhmAKC4FjF7fxMByp49e6isrMzLEMKeuFWrV9NNo0ZRh7PPpspFi4xaYTKYuSBTqI0ePZpWrVpFkyZNogEDBsTqgyo7KvtS8ONMrX379kY+uGQEoLgUrfx8TQQo7NLgzFN/W+bpP3PGTOrbr2+glyOuG0HrN6yPzCL0m02BoqYRfO/27dsDpxGcRbRr10481TD1QU29TjrpJFqzZk2gBjt27KBLL72UTmvThpavWJFfNFN6N4CS0sAk4FZiQInKPtSAP6FJE3p182bjppkOZi4wKvtQ6xxX9O9Pd2bWckwviQ9R2YdaQ5owYQINHjzY1AWn7AAUp8KVl7OJAUWtIRw+fJg2bdpETZs2reWoWjfgxdOJEycaN0IymKOgxnVzFiGdakh8UFOvXO3kNaT/PngwUCNjUVJuCKCkPEAxupcYUNjHsKevenJHLVj62yoZzHyv2sHhtRwdamqdx2aqIfEhLBNTwDNZvI4x5gUvCkApuORFqzBRoOQatOrvksVYpZBkMPM9KkPwL4yqv0sWY219UFMv/46T+rs0Qypab7GsGECxFM7B2xIFCusRlImozKUQgzkX1Dhz2b//71ZTDSnUgjIRlbk0b96CNm582cGuY+4ygGKuleuWiQNFLXwOHTqMxo4d4+nFg/nQof+xOsQlHcxcn9px4gNmfNBM7b7YTjVsfFAAUztOSpeoLWXXOxj7D6DUhyiatSFxoKjF2caNP+89idXTWroYazvd4Pv8deY71bABin+KxZnb27t3W2VIZqFNjxWAkp5YJO1J4kDhBugD+NFHH/UOkkkXY/MBig616up13gnWE1u1sj73YQMUfd1o+rRp3sE/2wwp6U4Rd/kAStyKpre8ggBFTTH4vMfKzOGtQg9mll+t2/DUa+HCh43fHQoKnQ1Q1NSr5vXXadCgQcRgjXotIL3dRuYZgCLTy2XrggCFBVIp/tGjR0XH3P3i2g5mlSE0aNDAKzLobIxpIG19UFMv9uFYWIzVs0r8V6Smvcttu4IBRa0hRL3fEyWn7WBWUOMXBvOdatj6oL8weCwsxgIoUb25/n1eMKDEJZ3tYI6rfi4nDT7E2Z6ky8KUJ2mF01M+gGIRCwBFJhqAItPLZWsAxSJ6AIpMNABFppfL1gCKRfQAFJloAIpML5etARSL6AEoMtEAFJleLlsDKBbRA1BkogEoMr1ctgZQLKIHoMhEA1BkerlsDaBYRA9AkYkGoMj0ctkaQLGIHoAiEw1AkenlsjWAYhE9AEUmGoAi08tlawDFInoAikw0AEWml8vWAIpF9AAUmWgAikwvl60BFIvoASgy0QAUmV4uWwMoFtEDUGSiASgyvVy2FgPF5cbC9+IpgO9DKZ72haxZDJT+/S4upH916kpDdpAGH4oaBGHlyFCEgjlsDqBYBA9AkYkGoMj0ctkaQLGIHoAiEw1AkenlsjWAYhE9AEUmGoAi08tlawDFInoAikw0AEWml8vWAIpF9AAUmWgAikwvl60BFIvoASgy0QAUmV4uWwMoFtEDUGSiASgyvVy2BlAsogegyEQDUGR6uWwNoFhED0CRiQagyPRy2RpAsYgegCITDUCR6eWyNYBiET0ARSYagCLTy2VrAMUiegCKTDQARaaXy9YAikX0ABSZaACKTC+XrRMBSmnpebRv3/s0b9486tatW6g+U6dOpcWLF9PIkSO9n6hLMpi7d+9Oe/fujSqSZs6YSX379Y20UwYSH9q2bWtU7tKlS6mkpMTI1jUjAMW1iNn7mwhQ5s6dS/xTXl5OFRUVod51Oucc+nD/fqqurqaWLVtGtkQymBVQmjVrRp/57Gdzlj150iTPV9NL4oMCSvMWLUKLr1xUSW3anGrqglN2AIpT4crL2USAsmfPHiorK6PGjRvTli1bqGHDhoFOVq1eTTeNGkUdzj6bKhctMmqIZDAroMT99Jf4oICyc+dOo/bVRyMApT5GNbhNiQCFqxo8ZAht27o1dDox4roRtH7Derp/zhwq69HDSHXJYAZQjCRN3AhASVzi1FSQGFCiso8DBw5Q586d6YQmTejVzZuNBQFQjKVKjSGAkppQJO5IYkA5cuQIdezYkQ4fPkybNm2ipk2b1mpMZWUlTZ8+nQYOHEgTJ040biiAYixVagwBlNSEInFHEgMKe652cCZMmECDBw+u1ZjevXrRW7t2UVVVFbVu3dq4oTZACStcusPDZUl8MNnliXuNx1jMAhkCKAUSOgXVJAoUtTh7Wps2tHzFimxz1d8li7HqZslgNtnlke7w2AIlbJenPu/wKL3wrfcpGO0FcCFRoLD/QZmIylwmZbZrBwwYIGqmDVDizgAkPmCX55OMDkARdXNnjRMHypIlS2jKlCk0dOgwGjt2jCcUH3w7dOh/QreUcykqGczY5UlHvwRQ0hGHQniROFDU4mzjxp+njRtfJrX7I12MzWfKgwylEF0pdx0ASnH1L2TtiQOFGzN69GhatWqVd8T+0Ucf9X6XLsYCKIXsFvHWBaDEq2eaSysIUGpqarzt4Sv696eVmcXZE1u1qrVIKxEIUx6JWumwBVDSEYdCeFEQoKjF2bd376ajR4+SzWIsMpRCdIdk6gBQktE1jaUWDCjqhcGo93uiREKGEqVQ+j4HUNIXk6Q8KhhQ4mqABChx1ekvJw0+JNW2JMoFUJJQNZ1lAigWcQFQZKIBKDK9XLYGUCyiB6DIRANQZHq5bA2gWEQPQJGJBqDI9HLZGkCxiB6AIhMNQJHp5bI1gGIRPQBFJhqAItPLZWsAxSJ6AIpMNABFppfL1gCKRfQAFJloAIpML5etARSL6AEoMtEAFKVEiwAAAAiXSURBVJleLlsDKBbRA1BkogEoMr1ctgZQLKIHoMhEA1BkerlsDaBYRA9AkYkGoMj0ctkaQLGIHoAiEw1AkenlsrUYKC43Fr4XTwF8p2zxtC9kzWKg9O93cSH9q1NXGrKDNPhQ1CAIK0eGIhTMYXMAxSJ4AIpMNABFppfL1gCKRfQAFJloAIpML5etARSL6AEoMtEAFJleLlsDKBbRA1BkogEoMr1ctgZQLKIHoMhEA1BkerlsDaBYRA9AkYkGoMj0ctkaQLGIHoAiEw1AkenlsjWAYhE9AEUmGoAi08tlawDFInoAikw0AEWml8vWAIpF9AAUmWgAikwvl60BFIvoASgy0QAUmV4uWwMoFtEDUGSiASgyvVy2BlAsogegyEQDUGR6uWydGFBmzZpNCxc+HKlN1y5daf6D8yPtlIHJYK6pqaGBAwcS/8fs/HvUVVp6Hu3b9z5VVVVR69ato8zJxAdVSNu2bSPLY4OlS5dSSUmJka1rRgCKaxGz9zdxoDRq1IiOz/zkukpLS2n2rFnGLTAdzL179aK3du2i++fMobIePXKWv3XrVhoyZIg3mHlQm1ymPnBZCijNW7QILbpyUSW1aXOqSfXO2QAozoXM2uHEgTJ06DAaO3aMtYP+G00H89y5c4l/ysvLqaKiImf9o0ePplWrVtGkSZNowIABRn6a+qADZefOnUZl10cjAKU+RjW4TfUWKAcOHKDOnTt7rd6+fTs1bNiwjgJHjhyhdu3a0XHHHUdbtmwJtAmSDUCRDRAARaaXy9b1FigclKjsY8mSJTRlyhS6on9/unPqVOM4AijGUnmGAIpML5et6zVQqlavpptGjaIOZ59NlYsW1YkTL9zyou3ixYupffv2xnEEUIylAlBkUjlvnThQwhSS7vCop53ke23VDg5PaZo2bZp1Z8+ePVRWVkantWlDy1esEAXSBihhFdTnHR5kKKKu5bxx4kAJ2+WR7vDYAEUtzo4cOZL4R13q75LFWHWvDVDCdnnq8w4PgOI8I0QNSBwoxdrlUSrkykQ4c9m//++0adOmWpmLiXo2QMEuTx8TaWHjuAL1Higcn8GZcybbMudN1NRCHXyL2lLOFVsARdbrsSgr08tl62MCKGpxlhdhJ06cmN39kS7G5jPlQYaCDMVlUJj6fkwAhc+bdOzYMXMU//NUXb3O+/3EVq3Ei7EAimm3qm2HDMVONxfvOiaAwoGZmjlnwhkJr+nwO0b+RVpJ8DDlkaiFcygytdy2PmaAohZnGzRo4EXMZjEWGYpdZ0eGYqebi3cdM0Dh4KgXBm0XYwEUuy4OoNjp5uJdiQElKTEk04367ENSbUuiXAAlCVXTWSaAYhGXNEDNwu2i3QKgFE36glcMoFhIDqDIRANQZHq5bA2gWEQPQJGJBqDI9HLZGkCxiB6AIhMNQJHp5bI1gGIRPQBFJhqAItPLZWsAxSJ6AIpMNABFppfL1gCKRfQAFJloAIpML5etARSL6AEoMtEAFJleLlsDKBbRA1BkogEoMr1ctgZQLKIHoMhEA1BkerlsDaBYRA9AkYkGoMj0ctkaQLGIHoAiEw1AkenlsrUYKC43Fr4XT4HB/fGNbcVTv3A1i4Ei+S8skmhGGrKDNPiQhLZJlYkMJSll01cugGIREwBFJhqAItPLZWsAxSJ6AIpMNABFppfL1gCKRfQAFJloAIpML5etARSL6AEoMtEAFJleLlsDKBbRA1BkogEoMr1ctgZQLKIHoMhEA1BkerlsDaBYRA9AkYkGoMj0ctkaQLGIHoAiEw1AkenlsjWAYhE9AEUmGoAi08tlawDFInoAikw0AEWml8vWAIpF9AAUmWgAikwvl60BFIvoASgy0QAUmV4uWwMoFtEDUGSiASgyvVy2Tgwos2bNpoULH47UpmuXrjT/wfmRdspAMpi7d+9Oe/fujSx75oyZ1Ldf30g7Gx/atm1rVO7SpUuppKTEyNY1IwDFtYjZ+5s4UBo1akTHZ35yXaWlpTR71izjFtgApVmzZvSZz342Zx2TJ02i8vLyRHxQQGneokVo+ZWLKqlNm1ONfXDJEEBxKVr5+Zo4UIYOHUZjx47Jz0vtbhugxP30l/iggLJz587YNHCtIADFtYjZ+wugWGgHoMhEA1BkerlsDaBYRA9AkYkGoMj0ctkaQLGIHoAiEw1AkenlsnXiQAkTR7rDw2VJBrPJLo90h0fqg8kuT9xrPGnrkABK2iKSnD+JAyVsl0e6wyMdzAooYbs80h0eqQ8muzz1eYdH6YVvvU9uEKep5MSBgl2eT86hYJcH/41GmgZ+Ur4AKBbKSqZd2Db+ZJqKDMWiozl4C4BiETQARSYagCLTy2VrAMUiegCKTDQARaaXy9YAikX0ABSZaACKTC+XrQEUi+gBKDLRABSZXi5bAygW0QNQZKIBKDK9XLZODChJiSIZzPXZh6TalkS5AEoSqqazTADFIi5pgJqF20W7BUApmvQFrxhAsZAcQJGJBqDI9HLZGkCxiB6AIhMNQJHp5bI1gGIRPQBFJhqAItPLZWsAxSJ6AIpMNABFppfL1gCKRfQAFJloAIpML5etARSL6AEoMtEAFJleLlsDKBbRA1BkogEoMr1ctgZQLKIHoMhEA1BkerlsDaBYRA9AkYkGoMj0ctkaQLGIHoAiEw1AkenlsjWAYhE9AEUmGoAi08tlazFQXG4sfC+eAvgKyOJpX8iaRUAppGOoCwpAAfcUAFDcixk8hgKpVQBASW1o4BgUcE8BAMW9mMFjKJBaBQCU1IYGjkEB9xQAUNyLGTyGAqlVAEBJbWjgGBRwTwEAxb2YwWMokFoFAJTUhgaOQQH3FABQ3IsZPIYCqVUAQEltaOAYFHBPAQDFvZjBYyiQWgUAlNSGBo5BAfcUAFDcixk8hgKpVQBASW1o4BgUcE8BAMW9mMFjKJBaBf4ff6cViiyofy8AAAAASUVORK5CYII=)"
      ],
      "metadata": {
        "id": "xp02VwBn2IQX"
      }
    },
    {
      "cell_type": "code",
      "source": [
        "(10 == 10) and (10 > 0)"
      ],
      "metadata": {
        "colab": {
          "base_uri": "https://localhost:8080/"
        },
        "id": "ZBWfiOqB1pbW",
        "outputId": "b7b80e1d-ed7a-4599-9a26-1a3aed10c72d"
      },
      "execution_count": 102,
      "outputs": [
        {
          "output_type": "execute_result",
          "data": {
            "text/plain": [
              "True"
            ]
          },
          "metadata": {},
          "execution_count": 102
        }
      ]
    },
    {
      "cell_type": "code",
      "source": [
        "(10 == 10) and (10 < 0)"
      ],
      "metadata": {
        "colab": {
          "base_uri": "https://localhost:8080/"
        },
        "id": "uEWpp7X91u07",
        "outputId": "6e2e7ac6-c015-40e0-c279-07c09e54046e"
      },
      "execution_count": 103,
      "outputs": [
        {
          "output_type": "execute_result",
          "data": {
            "text/plain": [
              "False"
            ]
          },
          "metadata": {},
          "execution_count": 103
        }
      ]
    },
    {
      "cell_type": "code",
      "source": [
        "\"Renato\" == \"Alicia\""
      ],
      "metadata": {
        "colab": {
          "base_uri": "https://localhost:8080/"
        },
        "id": "OV7jT1Wm1cLc",
        "outputId": "12c8e16a-4475-4f98-a61b-009fd7ec2fa6"
      },
      "execution_count": 100,
      "outputs": [
        {
          "output_type": "execute_result",
          "data": {
            "text/plain": [
              "False"
            ]
          },
          "metadata": {},
          "execution_count": 100
        }
      ]
    },
    {
      "cell_type": "code",
      "source": [
        "\"Renato\" == \"Renato\""
      ],
      "metadata": {
        "colab": {
          "base_uri": "https://localhost:8080/"
        },
        "id": "v6yexXOm1cTG",
        "outputId": "5292168f-d378-4114-c0a0-4b0da6b69d2a"
      },
      "execution_count": 101,
      "outputs": [
        {
          "output_type": "execute_result",
          "data": {
            "text/plain": [
              "True"
            ]
          },
          "metadata": {},
          "execution_count": 101
        }
      ]
    },
    {
      "cell_type": "code",
      "source": [
        "nome1 = \"Renato\"\n",
        "nome2 = \"Alicia\"\n",
        "nome3 = \"Renan\""
      ],
      "metadata": {
        "id": "E9fbIMjh260-"
      },
      "execution_count": 110,
      "outputs": []
    },
    {
      "cell_type": "code",
      "source": [
        "nome1.startswith(\"Ren\")"
      ],
      "metadata": {
        "colab": {
          "base_uri": "https://localhost:8080/"
        },
        "id": "R4PrRqk128h3",
        "outputId": "4a5212a2-daa1-43ce-9100-1e9ffcac97c4"
      },
      "execution_count": 111,
      "outputs": [
        {
          "output_type": "execute_result",
          "data": {
            "text/plain": [
              "True"
            ]
          },
          "metadata": {},
          "execution_count": 111
        }
      ]
    },
    {
      "cell_type": "code",
      "source": [
        "arrecadacao_total = 0\n",
        "\n",
        "for nome, valor in arrecadacoes.items():\n",
        "  if valor > 100:\n",
        "    print(f\"Aluno {nome} arrecadou {valor} reais.\")\n",
        "    arrecadacao_total = arrecadacao_total + valor\n",
        "\n",
        "print(f\"No total, foram arrecadados {arrecadacao_total} reais!\")"
      ],
      "metadata": {
        "colab": {
          "base_uri": "https://localhost:8080/"
        },
        "id": "PMHefw-F0U4l",
        "outputId": "a3874874-f9c3-4f1d-ddb5-d89d8a6f7f60"
      },
      "execution_count": 107,
      "outputs": [
        {
          "output_type": "stream",
          "name": "stdout",
          "text": [
            "Aluno Maria arrecadou 300 reais.\n",
            "Aluno Waldeglace arrecadou 250 reais.\n",
            "Aluno Ângela arrecadou 134 reais.\n",
            "No total, foram arrecadados 684 reais!\n"
          ]
        }
      ]
    },
    {
      "cell_type": "code",
      "source": [
        "arrecadacao_total = 0\n",
        "\n",
        "for nome, valor in arrecadacoes.items():\n",
        "  if (valor > 100) and (nome.startswith(\"M\")):\n",
        "    print(f\"Aluno {nome} arrecadou {valor} reais.\")\n",
        "    arrecadacao_total = arrecadacao_total + valor\n",
        "\n",
        "print(f\"No total, foram arrecadados {arrecadacao_total} reais!\")"
      ],
      "metadata": {
        "colab": {
          "base_uri": "https://localhost:8080/"
        },
        "id": "f6-BwSWP2Xue",
        "outputId": "ea171c81-f22f-466e-d9d0-53de304a299b"
      },
      "execution_count": 112,
      "outputs": [
        {
          "output_type": "stream",
          "name": "stdout",
          "text": [
            "Aluno Maria arrecadou 300 reais.\n",
            "No total, foram arrecadados 300 reais!\n"
          ]
        }
      ]
    },
    {
      "cell_type": "markdown",
      "source": [
        "## Serie (Pandas)\n",
        "\n",
        "* Valores únicos\n",
        "* Índices associados (por padrão, numéricos começando em zero)\n",
        "* Podem ser construídos de diferentes maneiras"
      ],
      "metadata": {
        "id": "Dii8pjMyywcx"
      }
    },
    {
      "cell_type": "code",
      "source": [
        "import pandas as pd"
      ],
      "metadata": {
        "id": "gGh3OLvMyWsJ"
      },
      "execution_count": 66,
      "outputs": []
    },
    {
      "cell_type": "code",
      "source": [
        "pd.Series([1, 4, 6, 10, 20, 4, 3])"
      ],
      "metadata": {
        "colab": {
          "base_uri": "https://localhost:8080/",
          "height": 304
        },
        "id": "wqztxwdWzEQ9",
        "outputId": "01f0fd8a-06f1-4ec5-f5e5-7f4d5fd382aa"
      },
      "execution_count": 67,
      "outputs": [
        {
          "output_type": "execute_result",
          "data": {
            "text/plain": [
              "0     1\n",
              "1     4\n",
              "2     6\n",
              "3    10\n",
              "4    20\n",
              "5     4\n",
              "6     3\n",
              "dtype: int64"
            ],
            "text/html": [
              "<div>\n",
              "<style scoped>\n",
              "    .dataframe tbody tr th:only-of-type {\n",
              "        vertical-align: middle;\n",
              "    }\n",
              "\n",
              "    .dataframe tbody tr th {\n",
              "        vertical-align: top;\n",
              "    }\n",
              "\n",
              "    .dataframe thead th {\n",
              "        text-align: right;\n",
              "    }\n",
              "</style>\n",
              "<table border=\"1\" class=\"dataframe\">\n",
              "  <thead>\n",
              "    <tr style=\"text-align: right;\">\n",
              "      <th></th>\n",
              "      <th>0</th>\n",
              "    </tr>\n",
              "  </thead>\n",
              "  <tbody>\n",
              "    <tr>\n",
              "      <th>0</th>\n",
              "      <td>1</td>\n",
              "    </tr>\n",
              "    <tr>\n",
              "      <th>1</th>\n",
              "      <td>4</td>\n",
              "    </tr>\n",
              "    <tr>\n",
              "      <th>2</th>\n",
              "      <td>6</td>\n",
              "    </tr>\n",
              "    <tr>\n",
              "      <th>3</th>\n",
              "      <td>10</td>\n",
              "    </tr>\n",
              "    <tr>\n",
              "      <th>4</th>\n",
              "      <td>20</td>\n",
              "    </tr>\n",
              "    <tr>\n",
              "      <th>5</th>\n",
              "      <td>4</td>\n",
              "    </tr>\n",
              "    <tr>\n",
              "      <th>6</th>\n",
              "      <td>3</td>\n",
              "    </tr>\n",
              "  </tbody>\n",
              "</table>\n",
              "</div><br><label><b>dtype:</b> int64</label>"
            ]
          },
          "metadata": {},
          "execution_count": 67
        }
      ]
    },
    {
      "cell_type": "code",
      "source": [
        "pd.Series([1, 4, 6, 10, 20, 4, 3], index=[\"João\", \"Maria\", \"Cervílio\",\n",
        "                \"Waldeglace\", \"Abílio\", \"Ângela\", \"Maria Eduarda\"])"
      ],
      "metadata": {
        "colab": {
          "base_uri": "https://localhost:8080/",
          "height": 304
        },
        "id": "gNDR39QKzSZm",
        "outputId": "cc23a830-8542-4f91-fbba-92edc21b3d90"
      },
      "execution_count": 68,
      "outputs": [
        {
          "output_type": "execute_result",
          "data": {
            "text/plain": [
              "João              1\n",
              "Maria             4\n",
              "Cervílio          6\n",
              "Waldeglace       10\n",
              "Abílio           20\n",
              "Ângela            4\n",
              "Maria Eduarda     3\n",
              "dtype: int64"
            ],
            "text/html": [
              "<div>\n",
              "<style scoped>\n",
              "    .dataframe tbody tr th:only-of-type {\n",
              "        vertical-align: middle;\n",
              "    }\n",
              "\n",
              "    .dataframe tbody tr th {\n",
              "        vertical-align: top;\n",
              "    }\n",
              "\n",
              "    .dataframe thead th {\n",
              "        text-align: right;\n",
              "    }\n",
              "</style>\n",
              "<table border=\"1\" class=\"dataframe\">\n",
              "  <thead>\n",
              "    <tr style=\"text-align: right;\">\n",
              "      <th></th>\n",
              "      <th>0</th>\n",
              "    </tr>\n",
              "  </thead>\n",
              "  <tbody>\n",
              "    <tr>\n",
              "      <th>João</th>\n",
              "      <td>1</td>\n",
              "    </tr>\n",
              "    <tr>\n",
              "      <th>Maria</th>\n",
              "      <td>4</td>\n",
              "    </tr>\n",
              "    <tr>\n",
              "      <th>Cervílio</th>\n",
              "      <td>6</td>\n",
              "    </tr>\n",
              "    <tr>\n",
              "      <th>Waldeglace</th>\n",
              "      <td>10</td>\n",
              "    </tr>\n",
              "    <tr>\n",
              "      <th>Abílio</th>\n",
              "      <td>20</td>\n",
              "    </tr>\n",
              "    <tr>\n",
              "      <th>Ângela</th>\n",
              "      <td>4</td>\n",
              "    </tr>\n",
              "    <tr>\n",
              "      <th>Maria Eduarda</th>\n",
              "      <td>3</td>\n",
              "    </tr>\n",
              "  </tbody>\n",
              "</table>\n",
              "</div><br><label><b>dtype:</b> int64</label>"
            ]
          },
          "metadata": {},
          "execution_count": 68
        }
      ]
    },
    {
      "cell_type": "code",
      "source": [
        "pd.Series([1, 4, 6, 10, 20, 4, 3], index=[\"João\", \"Maria\", \"Cervílio\",\n",
        "                \"Waldeglace\", \"Abílio\", \"Ângela\", \"Maria Eduarda\"], name=\"arrecadacoes\")"
      ],
      "metadata": {
        "colab": {
          "base_uri": "https://localhost:8080/",
          "height": 304
        },
        "id": "B99DLvwdzlQQ",
        "outputId": "3b9a4a0d-d36a-4e78-d957-4afdc4c10b5b"
      },
      "execution_count": 69,
      "outputs": [
        {
          "output_type": "execute_result",
          "data": {
            "text/plain": [
              "João              1\n",
              "Maria             4\n",
              "Cervílio          6\n",
              "Waldeglace       10\n",
              "Abílio           20\n",
              "Ângela            4\n",
              "Maria Eduarda     3\n",
              "Name: arrecadacoes, dtype: int64"
            ],
            "text/html": [
              "<div>\n",
              "<style scoped>\n",
              "    .dataframe tbody tr th:only-of-type {\n",
              "        vertical-align: middle;\n",
              "    }\n",
              "\n",
              "    .dataframe tbody tr th {\n",
              "        vertical-align: top;\n",
              "    }\n",
              "\n",
              "    .dataframe thead th {\n",
              "        text-align: right;\n",
              "    }\n",
              "</style>\n",
              "<table border=\"1\" class=\"dataframe\">\n",
              "  <thead>\n",
              "    <tr style=\"text-align: right;\">\n",
              "      <th></th>\n",
              "      <th>arrecadacoes</th>\n",
              "    </tr>\n",
              "  </thead>\n",
              "  <tbody>\n",
              "    <tr>\n",
              "      <th>João</th>\n",
              "      <td>1</td>\n",
              "    </tr>\n",
              "    <tr>\n",
              "      <th>Maria</th>\n",
              "      <td>4</td>\n",
              "    </tr>\n",
              "    <tr>\n",
              "      <th>Cervílio</th>\n",
              "      <td>6</td>\n",
              "    </tr>\n",
              "    <tr>\n",
              "      <th>Waldeglace</th>\n",
              "      <td>10</td>\n",
              "    </tr>\n",
              "    <tr>\n",
              "      <th>Abílio</th>\n",
              "      <td>20</td>\n",
              "    </tr>\n",
              "    <tr>\n",
              "      <th>Ângela</th>\n",
              "      <td>4</td>\n",
              "    </tr>\n",
              "    <tr>\n",
              "      <th>Maria Eduarda</th>\n",
              "      <td>3</td>\n",
              "    </tr>\n",
              "  </tbody>\n",
              "</table>\n",
              "</div><br><label><b>dtype:</b> int64</label>"
            ]
          },
          "metadata": {},
          "execution_count": 69
        }
      ]
    },
    {
      "cell_type": "code",
      "source": [
        "arrecadacoes = pd.Series([1, 300, 6, 250, 20, 134, 3], index=[\"João\", \"Maria\", \"Cervílio\",\n",
        "                \"Waldeglace\", \"Abílio\", \"Ângela\", \"Maria Eduarda\"], name=\"arrecadacao\")"
      ],
      "metadata": {
        "id": "ECDAiZP0zq6l"
      },
      "execution_count": 120,
      "outputs": []
    },
    {
      "cell_type": "code",
      "source": [
        "idades = pd.Series([24, 60, 51, 62, 70, 32, 33], index=[\"João\", \"Maria\", \"Cervílio\",\n",
        "                \"Waldeglace\", \"Abílio\", \"Ângela\", \"Maria Eduarda\"], name=\"idade\")"
      ],
      "metadata": {
        "id": "khSGvKnEzvKj"
      },
      "execution_count": 121,
      "outputs": []
    },
    {
      "cell_type": "code",
      "source": [
        "idades"
      ],
      "metadata": {
        "colab": {
          "base_uri": "https://localhost:8080/",
          "height": 304
        },
        "id": "O4axy4lWz_YT",
        "outputId": "dc69e521-de07-43d9-c42e-099aae0a22f0"
      },
      "execution_count": 122,
      "outputs": [
        {
          "output_type": "execute_result",
          "data": {
            "text/plain": [
              "João             24\n",
              "Maria            60\n",
              "Cervílio         51\n",
              "Waldeglace       62\n",
              "Abílio           70\n",
              "Ângela           32\n",
              "Maria Eduarda    33\n",
              "Name: idade, dtype: int64"
            ],
            "text/html": [
              "<div>\n",
              "<style scoped>\n",
              "    .dataframe tbody tr th:only-of-type {\n",
              "        vertical-align: middle;\n",
              "    }\n",
              "\n",
              "    .dataframe tbody tr th {\n",
              "        vertical-align: top;\n",
              "    }\n",
              "\n",
              "    .dataframe thead th {\n",
              "        text-align: right;\n",
              "    }\n",
              "</style>\n",
              "<table border=\"1\" class=\"dataframe\">\n",
              "  <thead>\n",
              "    <tr style=\"text-align: right;\">\n",
              "      <th></th>\n",
              "      <th>idade</th>\n",
              "    </tr>\n",
              "  </thead>\n",
              "  <tbody>\n",
              "    <tr>\n",
              "      <th>João</th>\n",
              "      <td>24</td>\n",
              "    </tr>\n",
              "    <tr>\n",
              "      <th>Maria</th>\n",
              "      <td>60</td>\n",
              "    </tr>\n",
              "    <tr>\n",
              "      <th>Cervílio</th>\n",
              "      <td>51</td>\n",
              "    </tr>\n",
              "    <tr>\n",
              "      <th>Waldeglace</th>\n",
              "      <td>62</td>\n",
              "    </tr>\n",
              "    <tr>\n",
              "      <th>Abílio</th>\n",
              "      <td>70</td>\n",
              "    </tr>\n",
              "    <tr>\n",
              "      <th>Ângela</th>\n",
              "      <td>32</td>\n",
              "    </tr>\n",
              "    <tr>\n",
              "      <th>Maria Eduarda</th>\n",
              "      <td>33</td>\n",
              "    </tr>\n",
              "  </tbody>\n",
              "</table>\n",
              "</div><br><label><b>dtype:</b> int64</label>"
            ]
          },
          "metadata": {},
          "execution_count": 122
        }
      ]
    },
    {
      "cell_type": "code",
      "source": [
        "arrecadacoes"
      ],
      "metadata": {
        "colab": {
          "base_uri": "https://localhost:8080/",
          "height": 304
        },
        "id": "gzlWLvKn3Ujx",
        "outputId": "8618c5d7-6c9e-456f-c6fd-a0bea4e7e858"
      },
      "execution_count": 123,
      "outputs": [
        {
          "output_type": "execute_result",
          "data": {
            "text/plain": [
              "João               1\n",
              "Maria            300\n",
              "Cervílio           6\n",
              "Waldeglace       250\n",
              "Abílio            20\n",
              "Ângela           134\n",
              "Maria Eduarda      3\n",
              "Name: arrecadacao, dtype: int64"
            ],
            "text/html": [
              "<div>\n",
              "<style scoped>\n",
              "    .dataframe tbody tr th:only-of-type {\n",
              "        vertical-align: middle;\n",
              "    }\n",
              "\n",
              "    .dataframe tbody tr th {\n",
              "        vertical-align: top;\n",
              "    }\n",
              "\n",
              "    .dataframe thead th {\n",
              "        text-align: right;\n",
              "    }\n",
              "</style>\n",
              "<table border=\"1\" class=\"dataframe\">\n",
              "  <thead>\n",
              "    <tr style=\"text-align: right;\">\n",
              "      <th></th>\n",
              "      <th>arrecadacao</th>\n",
              "    </tr>\n",
              "  </thead>\n",
              "  <tbody>\n",
              "    <tr>\n",
              "      <th>João</th>\n",
              "      <td>1</td>\n",
              "    </tr>\n",
              "    <tr>\n",
              "      <th>Maria</th>\n",
              "      <td>300</td>\n",
              "    </tr>\n",
              "    <tr>\n",
              "      <th>Cervílio</th>\n",
              "      <td>6</td>\n",
              "    </tr>\n",
              "    <tr>\n",
              "      <th>Waldeglace</th>\n",
              "      <td>250</td>\n",
              "    </tr>\n",
              "    <tr>\n",
              "      <th>Abílio</th>\n",
              "      <td>20</td>\n",
              "    </tr>\n",
              "    <tr>\n",
              "      <th>Ângela</th>\n",
              "      <td>134</td>\n",
              "    </tr>\n",
              "    <tr>\n",
              "      <th>Maria Eduarda</th>\n",
              "      <td>3</td>\n",
              "    </tr>\n",
              "  </tbody>\n",
              "</table>\n",
              "</div><br><label><b>dtype:</b> int64</label>"
            ]
          },
          "metadata": {},
          "execution_count": 123
        }
      ]
    },
    {
      "cell_type": "markdown",
      "source": [
        "## DataFrame (Pandas)"
      ],
      "metadata": {
        "id": "pcE0F8zDy0x8"
      }
    },
    {
      "cell_type": "code",
      "source": [
        "arrecadacoes_df = pd.DataFrame({'Arrecadacao': arrecadacoes, 'Idade': idades})\n",
        "arrecadacoes_df"
      ],
      "metadata": {
        "colab": {
          "base_uri": "https://localhost:8080/",
          "height": 269
        },
        "id": "OqmVBHNV0Glv",
        "outputId": "638b6578-c9ef-4dd2-a3f8-94938eb52998"
      },
      "execution_count": 124,
      "outputs": [
        {
          "output_type": "execute_result",
          "data": {
            "text/plain": [
              "               Arrecadacao  Idade\n",
              "João                     1     24\n",
              "Maria                  300     60\n",
              "Cervílio                 6     51\n",
              "Waldeglace             250     62\n",
              "Abílio                  20     70\n",
              "Ângela                 134     32\n",
              "Maria Eduarda            3     33"
            ],
            "text/html": [
              "\n",
              "  <div id=\"df-f3c484a4-2510-4f17-8dba-9146746ca620\" class=\"colab-df-container\">\n",
              "    <div>\n",
              "<style scoped>\n",
              "    .dataframe tbody tr th:only-of-type {\n",
              "        vertical-align: middle;\n",
              "    }\n",
              "\n",
              "    .dataframe tbody tr th {\n",
              "        vertical-align: top;\n",
              "    }\n",
              "\n",
              "    .dataframe thead th {\n",
              "        text-align: right;\n",
              "    }\n",
              "</style>\n",
              "<table border=\"1\" class=\"dataframe\">\n",
              "  <thead>\n",
              "    <tr style=\"text-align: right;\">\n",
              "      <th></th>\n",
              "      <th>Arrecadacao</th>\n",
              "      <th>Idade</th>\n",
              "    </tr>\n",
              "  </thead>\n",
              "  <tbody>\n",
              "    <tr>\n",
              "      <th>João</th>\n",
              "      <td>1</td>\n",
              "      <td>24</td>\n",
              "    </tr>\n",
              "    <tr>\n",
              "      <th>Maria</th>\n",
              "      <td>300</td>\n",
              "      <td>60</td>\n",
              "    </tr>\n",
              "    <tr>\n",
              "      <th>Cervílio</th>\n",
              "      <td>6</td>\n",
              "      <td>51</td>\n",
              "    </tr>\n",
              "    <tr>\n",
              "      <th>Waldeglace</th>\n",
              "      <td>250</td>\n",
              "      <td>62</td>\n",
              "    </tr>\n",
              "    <tr>\n",
              "      <th>Abílio</th>\n",
              "      <td>20</td>\n",
              "      <td>70</td>\n",
              "    </tr>\n",
              "    <tr>\n",
              "      <th>Ângela</th>\n",
              "      <td>134</td>\n",
              "      <td>32</td>\n",
              "    </tr>\n",
              "    <tr>\n",
              "      <th>Maria Eduarda</th>\n",
              "      <td>3</td>\n",
              "      <td>33</td>\n",
              "    </tr>\n",
              "  </tbody>\n",
              "</table>\n",
              "</div>\n",
              "    <div class=\"colab-df-buttons\">\n",
              "\n",
              "  <div class=\"colab-df-container\">\n",
              "    <button class=\"colab-df-convert\" onclick=\"convertToInteractive('df-f3c484a4-2510-4f17-8dba-9146746ca620')\"\n",
              "            title=\"Convert this dataframe to an interactive table.\"\n",
              "            style=\"display:none;\">\n",
              "\n",
              "  <svg xmlns=\"http://www.w3.org/2000/svg\" height=\"24px\" viewBox=\"0 -960 960 960\">\n",
              "    <path d=\"M120-120v-720h720v720H120Zm60-500h600v-160H180v160Zm220 220h160v-160H400v160Zm0 220h160v-160H400v160ZM180-400h160v-160H180v160Zm440 0h160v-160H620v160ZM180-180h160v-160H180v160Zm440 0h160v-160H620v160Z\"/>\n",
              "  </svg>\n",
              "    </button>\n",
              "\n",
              "  <style>\n",
              "    .colab-df-container {\n",
              "      display:flex;\n",
              "      gap: 12px;\n",
              "    }\n",
              "\n",
              "    .colab-df-convert {\n",
              "      background-color: #E8F0FE;\n",
              "      border: none;\n",
              "      border-radius: 50%;\n",
              "      cursor: pointer;\n",
              "      display: none;\n",
              "      fill: #1967D2;\n",
              "      height: 32px;\n",
              "      padding: 0 0 0 0;\n",
              "      width: 32px;\n",
              "    }\n",
              "\n",
              "    .colab-df-convert:hover {\n",
              "      background-color: #E2EBFA;\n",
              "      box-shadow: 0px 1px 2px rgba(60, 64, 67, 0.3), 0px 1px 3px 1px rgba(60, 64, 67, 0.15);\n",
              "      fill: #174EA6;\n",
              "    }\n",
              "\n",
              "    .colab-df-buttons div {\n",
              "      margin-bottom: 4px;\n",
              "    }\n",
              "\n",
              "    [theme=dark] .colab-df-convert {\n",
              "      background-color: #3B4455;\n",
              "      fill: #D2E3FC;\n",
              "    }\n",
              "\n",
              "    [theme=dark] .colab-df-convert:hover {\n",
              "      background-color: #434B5C;\n",
              "      box-shadow: 0px 1px 3px 1px rgba(0, 0, 0, 0.15);\n",
              "      filter: drop-shadow(0px 1px 2px rgba(0, 0, 0, 0.3));\n",
              "      fill: #FFFFFF;\n",
              "    }\n",
              "  </style>\n",
              "\n",
              "    <script>\n",
              "      const buttonEl =\n",
              "        document.querySelector('#df-f3c484a4-2510-4f17-8dba-9146746ca620 button.colab-df-convert');\n",
              "      buttonEl.style.display =\n",
              "        google.colab.kernel.accessAllowed ? 'block' : 'none';\n",
              "\n",
              "      async function convertToInteractive(key) {\n",
              "        const element = document.querySelector('#df-f3c484a4-2510-4f17-8dba-9146746ca620');\n",
              "        const dataTable =\n",
              "          await google.colab.kernel.invokeFunction('convertToInteractive',\n",
              "                                                    [key], {});\n",
              "        if (!dataTable) return;\n",
              "\n",
              "        const docLinkHtml = 'Like what you see? Visit the ' +\n",
              "          '<a target=\"_blank\" href=https://colab.research.google.com/notebooks/data_table.ipynb>data table notebook</a>'\n",
              "          + ' to learn more about interactive tables.';\n",
              "        element.innerHTML = '';\n",
              "        dataTable['output_type'] = 'display_data';\n",
              "        await google.colab.output.renderOutput(dataTable, element);\n",
              "        const docLink = document.createElement('div');\n",
              "        docLink.innerHTML = docLinkHtml;\n",
              "        element.appendChild(docLink);\n",
              "      }\n",
              "    </script>\n",
              "  </div>\n",
              "\n",
              "\n",
              "    <div id=\"df-1d931cd5-d3fc-4bd7-9ea0-d7c75d8015a0\">\n",
              "      <button class=\"colab-df-quickchart\" onclick=\"quickchart('df-1d931cd5-d3fc-4bd7-9ea0-d7c75d8015a0')\"\n",
              "                title=\"Suggest charts\"\n",
              "                style=\"display:none;\">\n",
              "\n",
              "<svg xmlns=\"http://www.w3.org/2000/svg\" height=\"24px\"viewBox=\"0 0 24 24\"\n",
              "     width=\"24px\">\n",
              "    <g>\n",
              "        <path d=\"M19 3H5c-1.1 0-2 .9-2 2v14c0 1.1.9 2 2 2h14c1.1 0 2-.9 2-2V5c0-1.1-.9-2-2-2zM9 17H7v-7h2v7zm4 0h-2V7h2v10zm4 0h-2v-4h2v4z\"/>\n",
              "    </g>\n",
              "</svg>\n",
              "      </button>\n",
              "\n",
              "<style>\n",
              "  .colab-df-quickchart {\n",
              "      --bg-color: #E8F0FE;\n",
              "      --fill-color: #1967D2;\n",
              "      --hover-bg-color: #E2EBFA;\n",
              "      --hover-fill-color: #174EA6;\n",
              "      --disabled-fill-color: #AAA;\n",
              "      --disabled-bg-color: #DDD;\n",
              "  }\n",
              "\n",
              "  [theme=dark] .colab-df-quickchart {\n",
              "      --bg-color: #3B4455;\n",
              "      --fill-color: #D2E3FC;\n",
              "      --hover-bg-color: #434B5C;\n",
              "      --hover-fill-color: #FFFFFF;\n",
              "      --disabled-bg-color: #3B4455;\n",
              "      --disabled-fill-color: #666;\n",
              "  }\n",
              "\n",
              "  .colab-df-quickchart {\n",
              "    background-color: var(--bg-color);\n",
              "    border: none;\n",
              "    border-radius: 50%;\n",
              "    cursor: pointer;\n",
              "    display: none;\n",
              "    fill: var(--fill-color);\n",
              "    height: 32px;\n",
              "    padding: 0;\n",
              "    width: 32px;\n",
              "  }\n",
              "\n",
              "  .colab-df-quickchart:hover {\n",
              "    background-color: var(--hover-bg-color);\n",
              "    box-shadow: 0 1px 2px rgba(60, 64, 67, 0.3), 0 1px 3px 1px rgba(60, 64, 67, 0.15);\n",
              "    fill: var(--button-hover-fill-color);\n",
              "  }\n",
              "\n",
              "  .colab-df-quickchart-complete:disabled,\n",
              "  .colab-df-quickchart-complete:disabled:hover {\n",
              "    background-color: var(--disabled-bg-color);\n",
              "    fill: var(--disabled-fill-color);\n",
              "    box-shadow: none;\n",
              "  }\n",
              "\n",
              "  .colab-df-spinner {\n",
              "    border: 2px solid var(--fill-color);\n",
              "    border-color: transparent;\n",
              "    border-bottom-color: var(--fill-color);\n",
              "    animation:\n",
              "      spin 1s steps(1) infinite;\n",
              "  }\n",
              "\n",
              "  @keyframes spin {\n",
              "    0% {\n",
              "      border-color: transparent;\n",
              "      border-bottom-color: var(--fill-color);\n",
              "      border-left-color: var(--fill-color);\n",
              "    }\n",
              "    20% {\n",
              "      border-color: transparent;\n",
              "      border-left-color: var(--fill-color);\n",
              "      border-top-color: var(--fill-color);\n",
              "    }\n",
              "    30% {\n",
              "      border-color: transparent;\n",
              "      border-left-color: var(--fill-color);\n",
              "      border-top-color: var(--fill-color);\n",
              "      border-right-color: var(--fill-color);\n",
              "    }\n",
              "    40% {\n",
              "      border-color: transparent;\n",
              "      border-right-color: var(--fill-color);\n",
              "      border-top-color: var(--fill-color);\n",
              "    }\n",
              "    60% {\n",
              "      border-color: transparent;\n",
              "      border-right-color: var(--fill-color);\n",
              "    }\n",
              "    80% {\n",
              "      border-color: transparent;\n",
              "      border-right-color: var(--fill-color);\n",
              "      border-bottom-color: var(--fill-color);\n",
              "    }\n",
              "    90% {\n",
              "      border-color: transparent;\n",
              "      border-bottom-color: var(--fill-color);\n",
              "    }\n",
              "  }\n",
              "</style>\n",
              "\n",
              "      <script>\n",
              "        async function quickchart(key) {\n",
              "          const quickchartButtonEl =\n",
              "            document.querySelector('#' + key + ' button');\n",
              "          quickchartButtonEl.disabled = true;  // To prevent multiple clicks.\n",
              "          quickchartButtonEl.classList.add('colab-df-spinner');\n",
              "          try {\n",
              "            const charts = await google.colab.kernel.invokeFunction(\n",
              "                'suggestCharts', [key], {});\n",
              "          } catch (error) {\n",
              "            console.error('Error during call to suggestCharts:', error);\n",
              "          }\n",
              "          quickchartButtonEl.classList.remove('colab-df-spinner');\n",
              "          quickchartButtonEl.classList.add('colab-df-quickchart-complete');\n",
              "        }\n",
              "        (() => {\n",
              "          let quickchartButtonEl =\n",
              "            document.querySelector('#df-1d931cd5-d3fc-4bd7-9ea0-d7c75d8015a0 button');\n",
              "          quickchartButtonEl.style.display =\n",
              "            google.colab.kernel.accessAllowed ? 'block' : 'none';\n",
              "        })();\n",
              "      </script>\n",
              "    </div>\n",
              "\n",
              "  <div id=\"id_d425c8d9-4c3d-472d-934d-f4e5741b56db\">\n",
              "    <style>\n",
              "      .colab-df-generate {\n",
              "        background-color: #E8F0FE;\n",
              "        border: none;\n",
              "        border-radius: 50%;\n",
              "        cursor: pointer;\n",
              "        display: none;\n",
              "        fill: #1967D2;\n",
              "        height: 32px;\n",
              "        padding: 0 0 0 0;\n",
              "        width: 32px;\n",
              "      }\n",
              "\n",
              "      .colab-df-generate:hover {\n",
              "        background-color: #E2EBFA;\n",
              "        box-shadow: 0px 1px 2px rgba(60, 64, 67, 0.3), 0px 1px 3px 1px rgba(60, 64, 67, 0.15);\n",
              "        fill: #174EA6;\n",
              "      }\n",
              "\n",
              "      [theme=dark] .colab-df-generate {\n",
              "        background-color: #3B4455;\n",
              "        fill: #D2E3FC;\n",
              "      }\n",
              "\n",
              "      [theme=dark] .colab-df-generate:hover {\n",
              "        background-color: #434B5C;\n",
              "        box-shadow: 0px 1px 3px 1px rgba(0, 0, 0, 0.15);\n",
              "        filter: drop-shadow(0px 1px 2px rgba(0, 0, 0, 0.3));\n",
              "        fill: #FFFFFF;\n",
              "      }\n",
              "    </style>\n",
              "    <button class=\"colab-df-generate\" onclick=\"generateWithVariable('arrecadacoes_df')\"\n",
              "            title=\"Generate code using this dataframe.\"\n",
              "            style=\"display:none;\">\n",
              "\n",
              "  <svg xmlns=\"http://www.w3.org/2000/svg\" height=\"24px\"viewBox=\"0 0 24 24\"\n",
              "       width=\"24px\">\n",
              "    <path d=\"M7,19H8.4L18.45,9,17,7.55,7,17.6ZM5,21V16.75L18.45,3.32a2,2,0,0,1,2.83,0l1.4,1.43a1.91,1.91,0,0,1,.58,1.4,1.91,1.91,0,0,1-.58,1.4L9.25,21ZM18.45,9,17,7.55Zm-12,3A5.31,5.31,0,0,0,4.9,8.1,5.31,5.31,0,0,0,1,6.5,5.31,5.31,0,0,0,4.9,4.9,5.31,5.31,0,0,0,6.5,1,5.31,5.31,0,0,0,8.1,4.9,5.31,5.31,0,0,0,12,6.5,5.46,5.46,0,0,0,6.5,12Z\"/>\n",
              "  </svg>\n",
              "    </button>\n",
              "    <script>\n",
              "      (() => {\n",
              "      const buttonEl =\n",
              "        document.querySelector('#id_d425c8d9-4c3d-472d-934d-f4e5741b56db button.colab-df-generate');\n",
              "      buttonEl.style.display =\n",
              "        google.colab.kernel.accessAllowed ? 'block' : 'none';\n",
              "\n",
              "      buttonEl.onclick = () => {\n",
              "        google.colab.notebook.generateWithVariable('arrecadacoes_df');\n",
              "      }\n",
              "      })();\n",
              "    </script>\n",
              "  </div>\n",
              "\n",
              "    </div>\n",
              "  </div>\n"
            ],
            "application/vnd.google.colaboratory.intrinsic+json": {
              "type": "dataframe",
              "variable_name": "arrecadacoes_df",
              "summary": "{\n  \"name\": \"arrecadacoes_df\",\n  \"rows\": 7,\n  \"fields\": [\n    {\n      \"column\": \"Arrecadacao\",\n      \"properties\": {\n        \"dtype\": \"number\",\n        \"std\": 127,\n        \"min\": 1,\n        \"max\": 300,\n        \"num_unique_values\": 7,\n        \"samples\": [\n          1,\n          300,\n          134\n        ],\n        \"semantic_type\": \"\",\n        \"description\": \"\"\n      }\n    },\n    {\n      \"column\": \"Idade\",\n      \"properties\": {\n        \"dtype\": \"number\",\n        \"std\": 17,\n        \"min\": 24,\n        \"max\": 70,\n        \"num_unique_values\": 7,\n        \"samples\": [\n          24,\n          60,\n          32\n        ],\n        \"semantic_type\": \"\",\n        \"description\": \"\"\n      }\n    }\n  ]\n}"
            }
          },
          "metadata": {},
          "execution_count": 124
        }
      ]
    },
    {
      "cell_type": "code",
      "source": [
        "arrecadacoes_df[arrecadacoes_df[\"Arrecadacao\"] > 100]"
      ],
      "metadata": {
        "colab": {
          "base_uri": "https://localhost:8080/",
          "height": 143
        },
        "id": "EfPyA2Y33bBh",
        "outputId": "a5e6664e-a42f-49ba-e815-15d668dcb9f2"
      },
      "execution_count": 125,
      "outputs": [
        {
          "output_type": "execute_result",
          "data": {
            "text/plain": [
              "            Arrecadacao  Idade\n",
              "Maria               300     60\n",
              "Waldeglace          250     62\n",
              "Ângela              134     32"
            ],
            "text/html": [
              "\n",
              "  <div id=\"df-df05d310-768b-42c2-9c40-32c6874996d1\" class=\"colab-df-container\">\n",
              "    <div>\n",
              "<style scoped>\n",
              "    .dataframe tbody tr th:only-of-type {\n",
              "        vertical-align: middle;\n",
              "    }\n",
              "\n",
              "    .dataframe tbody tr th {\n",
              "        vertical-align: top;\n",
              "    }\n",
              "\n",
              "    .dataframe thead th {\n",
              "        text-align: right;\n",
              "    }\n",
              "</style>\n",
              "<table border=\"1\" class=\"dataframe\">\n",
              "  <thead>\n",
              "    <tr style=\"text-align: right;\">\n",
              "      <th></th>\n",
              "      <th>Arrecadacao</th>\n",
              "      <th>Idade</th>\n",
              "    </tr>\n",
              "  </thead>\n",
              "  <tbody>\n",
              "    <tr>\n",
              "      <th>Maria</th>\n",
              "      <td>300</td>\n",
              "      <td>60</td>\n",
              "    </tr>\n",
              "    <tr>\n",
              "      <th>Waldeglace</th>\n",
              "      <td>250</td>\n",
              "      <td>62</td>\n",
              "    </tr>\n",
              "    <tr>\n",
              "      <th>Ângela</th>\n",
              "      <td>134</td>\n",
              "      <td>32</td>\n",
              "    </tr>\n",
              "  </tbody>\n",
              "</table>\n",
              "</div>\n",
              "    <div class=\"colab-df-buttons\">\n",
              "\n",
              "  <div class=\"colab-df-container\">\n",
              "    <button class=\"colab-df-convert\" onclick=\"convertToInteractive('df-df05d310-768b-42c2-9c40-32c6874996d1')\"\n",
              "            title=\"Convert this dataframe to an interactive table.\"\n",
              "            style=\"display:none;\">\n",
              "\n",
              "  <svg xmlns=\"http://www.w3.org/2000/svg\" height=\"24px\" viewBox=\"0 -960 960 960\">\n",
              "    <path d=\"M120-120v-720h720v720H120Zm60-500h600v-160H180v160Zm220 220h160v-160H400v160Zm0 220h160v-160H400v160ZM180-400h160v-160H180v160Zm440 0h160v-160H620v160ZM180-180h160v-160H180v160Zm440 0h160v-160H620v160Z\"/>\n",
              "  </svg>\n",
              "    </button>\n",
              "\n",
              "  <style>\n",
              "    .colab-df-container {\n",
              "      display:flex;\n",
              "      gap: 12px;\n",
              "    }\n",
              "\n",
              "    .colab-df-convert {\n",
              "      background-color: #E8F0FE;\n",
              "      border: none;\n",
              "      border-radius: 50%;\n",
              "      cursor: pointer;\n",
              "      display: none;\n",
              "      fill: #1967D2;\n",
              "      height: 32px;\n",
              "      padding: 0 0 0 0;\n",
              "      width: 32px;\n",
              "    }\n",
              "\n",
              "    .colab-df-convert:hover {\n",
              "      background-color: #E2EBFA;\n",
              "      box-shadow: 0px 1px 2px rgba(60, 64, 67, 0.3), 0px 1px 3px 1px rgba(60, 64, 67, 0.15);\n",
              "      fill: #174EA6;\n",
              "    }\n",
              "\n",
              "    .colab-df-buttons div {\n",
              "      margin-bottom: 4px;\n",
              "    }\n",
              "\n",
              "    [theme=dark] .colab-df-convert {\n",
              "      background-color: #3B4455;\n",
              "      fill: #D2E3FC;\n",
              "    }\n",
              "\n",
              "    [theme=dark] .colab-df-convert:hover {\n",
              "      background-color: #434B5C;\n",
              "      box-shadow: 0px 1px 3px 1px rgba(0, 0, 0, 0.15);\n",
              "      filter: drop-shadow(0px 1px 2px rgba(0, 0, 0, 0.3));\n",
              "      fill: #FFFFFF;\n",
              "    }\n",
              "  </style>\n",
              "\n",
              "    <script>\n",
              "      const buttonEl =\n",
              "        document.querySelector('#df-df05d310-768b-42c2-9c40-32c6874996d1 button.colab-df-convert');\n",
              "      buttonEl.style.display =\n",
              "        google.colab.kernel.accessAllowed ? 'block' : 'none';\n",
              "\n",
              "      async function convertToInteractive(key) {\n",
              "        const element = document.querySelector('#df-df05d310-768b-42c2-9c40-32c6874996d1');\n",
              "        const dataTable =\n",
              "          await google.colab.kernel.invokeFunction('convertToInteractive',\n",
              "                                                    [key], {});\n",
              "        if (!dataTable) return;\n",
              "\n",
              "        const docLinkHtml = 'Like what you see? Visit the ' +\n",
              "          '<a target=\"_blank\" href=https://colab.research.google.com/notebooks/data_table.ipynb>data table notebook</a>'\n",
              "          + ' to learn more about interactive tables.';\n",
              "        element.innerHTML = '';\n",
              "        dataTable['output_type'] = 'display_data';\n",
              "        await google.colab.output.renderOutput(dataTable, element);\n",
              "        const docLink = document.createElement('div');\n",
              "        docLink.innerHTML = docLinkHtml;\n",
              "        element.appendChild(docLink);\n",
              "      }\n",
              "    </script>\n",
              "  </div>\n",
              "\n",
              "\n",
              "    <div id=\"df-ce2d9dfe-0410-4cae-8f35-d7040d418ab2\">\n",
              "      <button class=\"colab-df-quickchart\" onclick=\"quickchart('df-ce2d9dfe-0410-4cae-8f35-d7040d418ab2')\"\n",
              "                title=\"Suggest charts\"\n",
              "                style=\"display:none;\">\n",
              "\n",
              "<svg xmlns=\"http://www.w3.org/2000/svg\" height=\"24px\"viewBox=\"0 0 24 24\"\n",
              "     width=\"24px\">\n",
              "    <g>\n",
              "        <path d=\"M19 3H5c-1.1 0-2 .9-2 2v14c0 1.1.9 2 2 2h14c1.1 0 2-.9 2-2V5c0-1.1-.9-2-2-2zM9 17H7v-7h2v7zm4 0h-2V7h2v10zm4 0h-2v-4h2v4z\"/>\n",
              "    </g>\n",
              "</svg>\n",
              "      </button>\n",
              "\n",
              "<style>\n",
              "  .colab-df-quickchart {\n",
              "      --bg-color: #E8F0FE;\n",
              "      --fill-color: #1967D2;\n",
              "      --hover-bg-color: #E2EBFA;\n",
              "      --hover-fill-color: #174EA6;\n",
              "      --disabled-fill-color: #AAA;\n",
              "      --disabled-bg-color: #DDD;\n",
              "  }\n",
              "\n",
              "  [theme=dark] .colab-df-quickchart {\n",
              "      --bg-color: #3B4455;\n",
              "      --fill-color: #D2E3FC;\n",
              "      --hover-bg-color: #434B5C;\n",
              "      --hover-fill-color: #FFFFFF;\n",
              "      --disabled-bg-color: #3B4455;\n",
              "      --disabled-fill-color: #666;\n",
              "  }\n",
              "\n",
              "  .colab-df-quickchart {\n",
              "    background-color: var(--bg-color);\n",
              "    border: none;\n",
              "    border-radius: 50%;\n",
              "    cursor: pointer;\n",
              "    display: none;\n",
              "    fill: var(--fill-color);\n",
              "    height: 32px;\n",
              "    padding: 0;\n",
              "    width: 32px;\n",
              "  }\n",
              "\n",
              "  .colab-df-quickchart:hover {\n",
              "    background-color: var(--hover-bg-color);\n",
              "    box-shadow: 0 1px 2px rgba(60, 64, 67, 0.3), 0 1px 3px 1px rgba(60, 64, 67, 0.15);\n",
              "    fill: var(--button-hover-fill-color);\n",
              "  }\n",
              "\n",
              "  .colab-df-quickchart-complete:disabled,\n",
              "  .colab-df-quickchart-complete:disabled:hover {\n",
              "    background-color: var(--disabled-bg-color);\n",
              "    fill: var(--disabled-fill-color);\n",
              "    box-shadow: none;\n",
              "  }\n",
              "\n",
              "  .colab-df-spinner {\n",
              "    border: 2px solid var(--fill-color);\n",
              "    border-color: transparent;\n",
              "    border-bottom-color: var(--fill-color);\n",
              "    animation:\n",
              "      spin 1s steps(1) infinite;\n",
              "  }\n",
              "\n",
              "  @keyframes spin {\n",
              "    0% {\n",
              "      border-color: transparent;\n",
              "      border-bottom-color: var(--fill-color);\n",
              "      border-left-color: var(--fill-color);\n",
              "    }\n",
              "    20% {\n",
              "      border-color: transparent;\n",
              "      border-left-color: var(--fill-color);\n",
              "      border-top-color: var(--fill-color);\n",
              "    }\n",
              "    30% {\n",
              "      border-color: transparent;\n",
              "      border-left-color: var(--fill-color);\n",
              "      border-top-color: var(--fill-color);\n",
              "      border-right-color: var(--fill-color);\n",
              "    }\n",
              "    40% {\n",
              "      border-color: transparent;\n",
              "      border-right-color: var(--fill-color);\n",
              "      border-top-color: var(--fill-color);\n",
              "    }\n",
              "    60% {\n",
              "      border-color: transparent;\n",
              "      border-right-color: var(--fill-color);\n",
              "    }\n",
              "    80% {\n",
              "      border-color: transparent;\n",
              "      border-right-color: var(--fill-color);\n",
              "      border-bottom-color: var(--fill-color);\n",
              "    }\n",
              "    90% {\n",
              "      border-color: transparent;\n",
              "      border-bottom-color: var(--fill-color);\n",
              "    }\n",
              "  }\n",
              "</style>\n",
              "\n",
              "      <script>\n",
              "        async function quickchart(key) {\n",
              "          const quickchartButtonEl =\n",
              "            document.querySelector('#' + key + ' button');\n",
              "          quickchartButtonEl.disabled = true;  // To prevent multiple clicks.\n",
              "          quickchartButtonEl.classList.add('colab-df-spinner');\n",
              "          try {\n",
              "            const charts = await google.colab.kernel.invokeFunction(\n",
              "                'suggestCharts', [key], {});\n",
              "          } catch (error) {\n",
              "            console.error('Error during call to suggestCharts:', error);\n",
              "          }\n",
              "          quickchartButtonEl.classList.remove('colab-df-spinner');\n",
              "          quickchartButtonEl.classList.add('colab-df-quickchart-complete');\n",
              "        }\n",
              "        (() => {\n",
              "          let quickchartButtonEl =\n",
              "            document.querySelector('#df-ce2d9dfe-0410-4cae-8f35-d7040d418ab2 button');\n",
              "          quickchartButtonEl.style.display =\n",
              "            google.colab.kernel.accessAllowed ? 'block' : 'none';\n",
              "        })();\n",
              "      </script>\n",
              "    </div>\n",
              "\n",
              "    </div>\n",
              "  </div>\n"
            ],
            "application/vnd.google.colaboratory.intrinsic+json": {
              "type": "dataframe",
              "summary": "{\n  \"name\": \"arrecadacoes_df[arrecadacoes_df[\\\"Arrecadacao\\\"] > 100]\",\n  \"rows\": 3,\n  \"fields\": [\n    {\n      \"column\": \"Arrecadacao\",\n      \"properties\": {\n        \"dtype\": \"number\",\n        \"std\": 85,\n        \"min\": 134,\n        \"max\": 300,\n        \"num_unique_values\": 3,\n        \"samples\": [\n          300,\n          250,\n          134\n        ],\n        \"semantic_type\": \"\",\n        \"description\": \"\"\n      }\n    },\n    {\n      \"column\": \"Idade\",\n      \"properties\": {\n        \"dtype\": \"number\",\n        \"std\": 16,\n        \"min\": 32,\n        \"max\": 62,\n        \"num_unique_values\": 3,\n        \"samples\": [\n          60,\n          62,\n          32\n        ],\n        \"semantic_type\": \"\",\n        \"description\": \"\"\n      }\n    }\n  ]\n}"
            }
          },
          "metadata": {},
          "execution_count": 125
        }
      ]
    },
    {
      "cell_type": "code",
      "source": [
        "arrecadacoes_df[(arrecadacoes_df[\"Arrecadacao\"] > 100) & (arrecadacoes_df[\"Idade\"] > 50)]"
      ],
      "metadata": {
        "colab": {
          "base_uri": "https://localhost:8080/",
          "height": 112
        },
        "id": "ILdp4j983rpV",
        "outputId": "6f1653f3-e6ba-435b-e918-d87f73dcba9c"
      },
      "execution_count": 134,
      "outputs": [
        {
          "output_type": "execute_result",
          "data": {
            "text/plain": [
              "            Arrecadacao  Idade\n",
              "Maria               300     60\n",
              "Waldeglace          250     62"
            ],
            "text/html": [
              "\n",
              "  <div id=\"df-8ae87b82-746a-43ee-acb2-d08c57cacca6\" class=\"colab-df-container\">\n",
              "    <div>\n",
              "<style scoped>\n",
              "    .dataframe tbody tr th:only-of-type {\n",
              "        vertical-align: middle;\n",
              "    }\n",
              "\n",
              "    .dataframe tbody tr th {\n",
              "        vertical-align: top;\n",
              "    }\n",
              "\n",
              "    .dataframe thead th {\n",
              "        text-align: right;\n",
              "    }\n",
              "</style>\n",
              "<table border=\"1\" class=\"dataframe\">\n",
              "  <thead>\n",
              "    <tr style=\"text-align: right;\">\n",
              "      <th></th>\n",
              "      <th>Arrecadacao</th>\n",
              "      <th>Idade</th>\n",
              "    </tr>\n",
              "  </thead>\n",
              "  <tbody>\n",
              "    <tr>\n",
              "      <th>Maria</th>\n",
              "      <td>300</td>\n",
              "      <td>60</td>\n",
              "    </tr>\n",
              "    <tr>\n",
              "      <th>Waldeglace</th>\n",
              "      <td>250</td>\n",
              "      <td>62</td>\n",
              "    </tr>\n",
              "  </tbody>\n",
              "</table>\n",
              "</div>\n",
              "    <div class=\"colab-df-buttons\">\n",
              "\n",
              "  <div class=\"colab-df-container\">\n",
              "    <button class=\"colab-df-convert\" onclick=\"convertToInteractive('df-8ae87b82-746a-43ee-acb2-d08c57cacca6')\"\n",
              "            title=\"Convert this dataframe to an interactive table.\"\n",
              "            style=\"display:none;\">\n",
              "\n",
              "  <svg xmlns=\"http://www.w3.org/2000/svg\" height=\"24px\" viewBox=\"0 -960 960 960\">\n",
              "    <path d=\"M120-120v-720h720v720H120Zm60-500h600v-160H180v160Zm220 220h160v-160H400v160Zm0 220h160v-160H400v160ZM180-400h160v-160H180v160Zm440 0h160v-160H620v160ZM180-180h160v-160H180v160Zm440 0h160v-160H620v160Z\"/>\n",
              "  </svg>\n",
              "    </button>\n",
              "\n",
              "  <style>\n",
              "    .colab-df-container {\n",
              "      display:flex;\n",
              "      gap: 12px;\n",
              "    }\n",
              "\n",
              "    .colab-df-convert {\n",
              "      background-color: #E8F0FE;\n",
              "      border: none;\n",
              "      border-radius: 50%;\n",
              "      cursor: pointer;\n",
              "      display: none;\n",
              "      fill: #1967D2;\n",
              "      height: 32px;\n",
              "      padding: 0 0 0 0;\n",
              "      width: 32px;\n",
              "    }\n",
              "\n",
              "    .colab-df-convert:hover {\n",
              "      background-color: #E2EBFA;\n",
              "      box-shadow: 0px 1px 2px rgba(60, 64, 67, 0.3), 0px 1px 3px 1px rgba(60, 64, 67, 0.15);\n",
              "      fill: #174EA6;\n",
              "    }\n",
              "\n",
              "    .colab-df-buttons div {\n",
              "      margin-bottom: 4px;\n",
              "    }\n",
              "\n",
              "    [theme=dark] .colab-df-convert {\n",
              "      background-color: #3B4455;\n",
              "      fill: #D2E3FC;\n",
              "    }\n",
              "\n",
              "    [theme=dark] .colab-df-convert:hover {\n",
              "      background-color: #434B5C;\n",
              "      box-shadow: 0px 1px 3px 1px rgba(0, 0, 0, 0.15);\n",
              "      filter: drop-shadow(0px 1px 2px rgba(0, 0, 0, 0.3));\n",
              "      fill: #FFFFFF;\n",
              "    }\n",
              "  </style>\n",
              "\n",
              "    <script>\n",
              "      const buttonEl =\n",
              "        document.querySelector('#df-8ae87b82-746a-43ee-acb2-d08c57cacca6 button.colab-df-convert');\n",
              "      buttonEl.style.display =\n",
              "        google.colab.kernel.accessAllowed ? 'block' : 'none';\n",
              "\n",
              "      async function convertToInteractive(key) {\n",
              "        const element = document.querySelector('#df-8ae87b82-746a-43ee-acb2-d08c57cacca6');\n",
              "        const dataTable =\n",
              "          await google.colab.kernel.invokeFunction('convertToInteractive',\n",
              "                                                    [key], {});\n",
              "        if (!dataTable) return;\n",
              "\n",
              "        const docLinkHtml = 'Like what you see? Visit the ' +\n",
              "          '<a target=\"_blank\" href=https://colab.research.google.com/notebooks/data_table.ipynb>data table notebook</a>'\n",
              "          + ' to learn more about interactive tables.';\n",
              "        element.innerHTML = '';\n",
              "        dataTable['output_type'] = 'display_data';\n",
              "        await google.colab.output.renderOutput(dataTable, element);\n",
              "        const docLink = document.createElement('div');\n",
              "        docLink.innerHTML = docLinkHtml;\n",
              "        element.appendChild(docLink);\n",
              "      }\n",
              "    </script>\n",
              "  </div>\n",
              "\n",
              "\n",
              "    <div id=\"df-ca174f9f-1063-4d0b-993b-d4156cc27f93\">\n",
              "      <button class=\"colab-df-quickchart\" onclick=\"quickchart('df-ca174f9f-1063-4d0b-993b-d4156cc27f93')\"\n",
              "                title=\"Suggest charts\"\n",
              "                style=\"display:none;\">\n",
              "\n",
              "<svg xmlns=\"http://www.w3.org/2000/svg\" height=\"24px\"viewBox=\"0 0 24 24\"\n",
              "     width=\"24px\">\n",
              "    <g>\n",
              "        <path d=\"M19 3H5c-1.1 0-2 .9-2 2v14c0 1.1.9 2 2 2h14c1.1 0 2-.9 2-2V5c0-1.1-.9-2-2-2zM9 17H7v-7h2v7zm4 0h-2V7h2v10zm4 0h-2v-4h2v4z\"/>\n",
              "    </g>\n",
              "</svg>\n",
              "      </button>\n",
              "\n",
              "<style>\n",
              "  .colab-df-quickchart {\n",
              "      --bg-color: #E8F0FE;\n",
              "      --fill-color: #1967D2;\n",
              "      --hover-bg-color: #E2EBFA;\n",
              "      --hover-fill-color: #174EA6;\n",
              "      --disabled-fill-color: #AAA;\n",
              "      --disabled-bg-color: #DDD;\n",
              "  }\n",
              "\n",
              "  [theme=dark] .colab-df-quickchart {\n",
              "      --bg-color: #3B4455;\n",
              "      --fill-color: #D2E3FC;\n",
              "      --hover-bg-color: #434B5C;\n",
              "      --hover-fill-color: #FFFFFF;\n",
              "      --disabled-bg-color: #3B4455;\n",
              "      --disabled-fill-color: #666;\n",
              "  }\n",
              "\n",
              "  .colab-df-quickchart {\n",
              "    background-color: var(--bg-color);\n",
              "    border: none;\n",
              "    border-radius: 50%;\n",
              "    cursor: pointer;\n",
              "    display: none;\n",
              "    fill: var(--fill-color);\n",
              "    height: 32px;\n",
              "    padding: 0;\n",
              "    width: 32px;\n",
              "  }\n",
              "\n",
              "  .colab-df-quickchart:hover {\n",
              "    background-color: var(--hover-bg-color);\n",
              "    box-shadow: 0 1px 2px rgba(60, 64, 67, 0.3), 0 1px 3px 1px rgba(60, 64, 67, 0.15);\n",
              "    fill: var(--button-hover-fill-color);\n",
              "  }\n",
              "\n",
              "  .colab-df-quickchart-complete:disabled,\n",
              "  .colab-df-quickchart-complete:disabled:hover {\n",
              "    background-color: var(--disabled-bg-color);\n",
              "    fill: var(--disabled-fill-color);\n",
              "    box-shadow: none;\n",
              "  }\n",
              "\n",
              "  .colab-df-spinner {\n",
              "    border: 2px solid var(--fill-color);\n",
              "    border-color: transparent;\n",
              "    border-bottom-color: var(--fill-color);\n",
              "    animation:\n",
              "      spin 1s steps(1) infinite;\n",
              "  }\n",
              "\n",
              "  @keyframes spin {\n",
              "    0% {\n",
              "      border-color: transparent;\n",
              "      border-bottom-color: var(--fill-color);\n",
              "      border-left-color: var(--fill-color);\n",
              "    }\n",
              "    20% {\n",
              "      border-color: transparent;\n",
              "      border-left-color: var(--fill-color);\n",
              "      border-top-color: var(--fill-color);\n",
              "    }\n",
              "    30% {\n",
              "      border-color: transparent;\n",
              "      border-left-color: var(--fill-color);\n",
              "      border-top-color: var(--fill-color);\n",
              "      border-right-color: var(--fill-color);\n",
              "    }\n",
              "    40% {\n",
              "      border-color: transparent;\n",
              "      border-right-color: var(--fill-color);\n",
              "      border-top-color: var(--fill-color);\n",
              "    }\n",
              "    60% {\n",
              "      border-color: transparent;\n",
              "      border-right-color: var(--fill-color);\n",
              "    }\n",
              "    80% {\n",
              "      border-color: transparent;\n",
              "      border-right-color: var(--fill-color);\n",
              "      border-bottom-color: var(--fill-color);\n",
              "    }\n",
              "    90% {\n",
              "      border-color: transparent;\n",
              "      border-bottom-color: var(--fill-color);\n",
              "    }\n",
              "  }\n",
              "</style>\n",
              "\n",
              "      <script>\n",
              "        async function quickchart(key) {\n",
              "          const quickchartButtonEl =\n",
              "            document.querySelector('#' + key + ' button');\n",
              "          quickchartButtonEl.disabled = true;  // To prevent multiple clicks.\n",
              "          quickchartButtonEl.classList.add('colab-df-spinner');\n",
              "          try {\n",
              "            const charts = await google.colab.kernel.invokeFunction(\n",
              "                'suggestCharts', [key], {});\n",
              "          } catch (error) {\n",
              "            console.error('Error during call to suggestCharts:', error);\n",
              "          }\n",
              "          quickchartButtonEl.classList.remove('colab-df-spinner');\n",
              "          quickchartButtonEl.classList.add('colab-df-quickchart-complete');\n",
              "        }\n",
              "        (() => {\n",
              "          let quickchartButtonEl =\n",
              "            document.querySelector('#df-ca174f9f-1063-4d0b-993b-d4156cc27f93 button');\n",
              "          quickchartButtonEl.style.display =\n",
              "            google.colab.kernel.accessAllowed ? 'block' : 'none';\n",
              "        })();\n",
              "      </script>\n",
              "    </div>\n",
              "\n",
              "    </div>\n",
              "  </div>\n"
            ],
            "application/vnd.google.colaboratory.intrinsic+json": {
              "type": "dataframe",
              "summary": "{\n  \"name\": \"arrecadacoes_df[(arrecadacoes_df[\\\"Arrecadacao\\\"] > 100) & (arrecadacoes_df[\\\"Idade\\\"] > 50)]\",\n  \"rows\": 2,\n  \"fields\": [\n    {\n      \"column\": \"Arrecadacao\",\n      \"properties\": {\n        \"dtype\": \"number\",\n        \"std\": 35,\n        \"min\": 250,\n        \"max\": 300,\n        \"num_unique_values\": 2,\n        \"samples\": [\n          250,\n          300\n        ],\n        \"semantic_type\": \"\",\n        \"description\": \"\"\n      }\n    },\n    {\n      \"column\": \"Idade\",\n      \"properties\": {\n        \"dtype\": \"number\",\n        \"std\": 1,\n        \"min\": 60,\n        \"max\": 62,\n        \"num_unique_values\": 2,\n        \"samples\": [\n          62,\n          60\n        ],\n        \"semantic_type\": \"\",\n        \"description\": \"\"\n      }\n    }\n  ]\n}"
            }
          },
          "metadata": {},
          "execution_count": 134
        }
      ]
    },
    {
      "cell_type": "markdown",
      "source": [
        "## Matplotlib"
      ],
      "metadata": {
        "id": "-HpHDrjG4hpN"
      }
    },
    {
      "cell_type": "code",
      "source": [
        "arrecadacoes_df.plot()"
      ],
      "metadata": {
        "colab": {
          "base_uri": "https://localhost:8080/",
          "height": 449
        },
        "id": "MgIejgdv4ipj",
        "outputId": "9ce8e663-2afa-4620-c79b-496f261f465d"
      },
      "execution_count": 135,
      "outputs": [
        {
          "output_type": "execute_result",
          "data": {
            "text/plain": [
              "<Axes: >"
            ]
          },
          "metadata": {},
          "execution_count": 135
        },
        {
          "output_type": "display_data",
          "data": {
            "text/plain": [
              "<Figure size 640x480 with 1 Axes>"
            ],
            "image/png": "[encoded data removed]"
          },
          "metadata": {}
        }
      ]
    }
  ]
}