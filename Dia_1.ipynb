{
  "nbformat": 4,
  "nbformat_minor": 0,
  "metadata": {
    "colab": {
      "provenance": []
    },
    "kernelspec": {
      "name": "python3",
      "display_name": "Python 3"
    },
    "language_info": {
      "name": "python"
    }
  },
  "cells": [
    {
      "cell_type": "markdown",
      "source": [
        "# Material/Conteúdo de aula do dia 1\n",
        "\n",
        "Responsável: Renato A. Corrêa dos Santos\n",
        "\n",
        "* Cadernos digitais e o Jupyter (no Google Colab)\n",
        "* Variáveis e tipos de dados\n",
        "* Operações aritméticas\n",
        "* Operações lógicas\n",
        "* Strings e listas (sequências)\n",
        "* Processos iterativos e estruturas de controle\n",
        "* Funções básicas e “métodos”\n",
        "* Dados tabulares (familiarização para o dia 2)\n",
        "\n",
        "🐤 - indica sugestões de boas práticas.\n"
      ],
      "metadata": {
        "id": "XcayFFeH6gRQ"
      }
    },
    {
      "cell_type": "markdown",
      "source": [
        "# Como usar o caderno digital do Google Colab"
      ],
      "metadata": {
        "id": "eYMQwoR0BEEM"
      }
    },
    {
      "cell_type": "code",
      "execution_count": null,
      "metadata": {
        "id": "SqAeiZ7Q6ezV"
      },
      "outputs": [],
      "source": []
    },
    {
      "cell_type": "markdown",
      "source": [
        "No Google Colab, à esquerda, você tem acesso à tabela de conteúdo do caderno."
      ],
      "metadata": {
        "id": "0ArkH66vIeFI"
      }
    },
    {
      "cell_type": "markdown",
      "source": [
        "# Variáveis e tipos de dados"
      ],
      "metadata": {
        "id": "Mzsxjxm8BcRn"
      }
    },
    {
      "cell_type": "markdown",
      "source": [
        "Variáveis estão associadas a valores, que por sua vez podem ser de diferentes tipos."
      ],
      "metadata": {
        "id": "TGAQzsBDGdZ2"
      }
    },
    {
      "cell_type": "code",
      "source": [
        "universidade = \"Universidade de São Paulo\""
      ],
      "metadata": {
        "id": "Q7jzFpH1Bgcw"
      },
      "execution_count": null,
      "outputs": []
    },
    {
      "cell_type": "markdown",
      "source": [
        "## Comentários em códigos de Python"
      ],
      "metadata": {
        "id": "xcJksYJPHxXk"
      }
    },
    {
      "cell_type": "markdown",
      "source": [
        "Embora a gente possa adicionar comentários no código utilizando as próprias células do Jupyter notebook, tradicionalmente os comentários são adicionados em códigos de texto plano, que vamos trabalhar no projeto final."
      ],
      "metadata": {
        "id": "le3NP6k4HLs7"
      }
    },
    {
      "cell_type": "code",
      "source": [
        "# Este é um comentário e geralmente é utilizado para a documentação de códigos"
      ],
      "metadata": {
        "id": "ksyDyzFaHrM_"
      },
      "execution_count": null,
      "outputs": []
    },
    {
      "cell_type": "code",
      "source": [
        "universidade = \"Universidade de São Paulo\" # Atribuição de valor a uma variável de Python"
      ],
      "metadata": {
        "id": "gEcUESasHwZZ"
      },
      "execution_count": null,
      "outputs": []
    },
    {
      "cell_type": "code",
      "source": [
        "universidade"
      ],
      "metadata": {
        "colab": {
          "base_uri": "https://localhost:8080/",
          "height": 35
        },
        "id": "rDBqSg27G_XC",
        "outputId": "57b75c8b-bb37-4622-95d7-f4a9c523f552"
      },
      "execution_count": null,
      "outputs": [
        {
          "output_type": "execute_result",
          "data": {
            "text/plain": [
              "'Universidade de São Paulo'"
            ],
            "application/vnd.google.colaboratory.intrinsic+json": {
              "type": "string"
            }
          },
          "metadata": {},
          "execution_count": 3
        }
      ]
    },
    {
      "cell_type": "code",
      "source": [
        "print(universidade)"
      ],
      "metadata": {
        "colab": {
          "base_uri": "https://localhost:8080/"
        },
        "id": "eZyEtN1iGbVZ",
        "outputId": "4817b11e-72fa-4223-9ae8-04ad2659b0eb"
      },
      "execution_count": null,
      "outputs": [
        {
          "output_type": "stream",
          "name": "stdout",
          "text": [
            "Universidade de São Paulo\n"
          ]
        }
      ]
    },
    {
      "cell_type": "markdown",
      "source": [
        "A função `print()` é também muito usada em códigos de Python fora dos cadernos do Jupyter. No entanto, ela ainda é útil quando você quer imprimir mais de uma linha de código. Veja:"
      ],
      "metadata": {
        "id": "5csaEpPZIPhA"
      }
    },
    {
      "cell_type": "code",
      "source": [
        "print(universidade)\n",
        "print(universidade)"
      ],
      "metadata": {
        "colab": {
          "base_uri": "https://localhost:8080/"
        },
        "id": "teaBJz8DIURM",
        "outputId": "2caae6c6-749e-496f-c243-f82063d80c05"
      },
      "execution_count": null,
      "outputs": [
        {
          "output_type": "stream",
          "name": "stdout",
          "text": [
            "Universidade de São Paulo\n",
            "Universidade de São Paulo\n"
          ]
        }
      ]
    },
    {
      "cell_type": "markdown",
      "source": [
        "Vamos falar um pouco mais sobre funções mais adiante!"
      ],
      "metadata": {
        "id": "DqlF9ldtOETc"
      }
    },
    {
      "cell_type": "markdown",
      "source": [
        "## Regras para nomes de variáveis em Python"
      ],
      "metadata": {
        "id": "WGrYiq4JIqzR"
      }
    },
    {
      "cell_type": "markdown",
      "source": [
        "Nomes de variáveis em Python podem ter números, letras e \"underscores\", mas não podem iniciar com números ou ter espaços:"
      ],
      "metadata": {
        "id": "UYpe8cKDJHlp"
      }
    },
    {
      "cell_type": "code",
      "source": [
        "universidade1 = \"Universidade Estadual Paulista\""
      ],
      "metadata": {
        "id": "9kG7Doj_Iti6"
      },
      "execution_count": null,
      "outputs": []
    },
    {
      "cell_type": "code",
      "source": [
        "universidade_1 = \"Universidade Estadual Paulista\""
      ],
      "metadata": {
        "id": "QL7BhpUIJAem"
      },
      "execution_count": null,
      "outputs": []
    },
    {
      "cell_type": "code",
      "source": [
        "1universidade = \"Universidade Estadual Paulista\""
      ],
      "metadata": {
        "colab": {
          "base_uri": "https://localhost:8080/",
          "height": 106
        },
        "id": "kVmLWaKsJE7v",
        "outputId": "4c32958f-96c2-4c2f-8a54-f8939277567c"
      },
      "execution_count": null,
      "outputs": [
        {
          "output_type": "error",
          "ename": "SyntaxError",
          "evalue": "invalid decimal literal (<ipython-input-12-11e2909fa39c>, line 1)",
          "traceback": [
            "\u001b[0;36m  File \u001b[0;32m\"<ipython-input-12-11e2909fa39c>\"\u001b[0;36m, line \u001b[0;32m1\u001b[0m\n\u001b[0;31m    1universidade = \"Universidade Estadual Paulista\"\u001b[0m\n\u001b[0m    ^\u001b[0m\n\u001b[0;31mSyntaxError\u001b[0m\u001b[0;31m:\u001b[0m invalid decimal literal\n"
          ]
        }
      ]
    },
    {
      "cell_type": "code",
      "source": [
        "universidade 1 = \"Universidade Estadual Paulista\""
      ],
      "metadata": {
        "colab": {
          "base_uri": "https://localhost:8080/",
          "height": 106
        },
        "id": "QvxI1537Jgtq",
        "outputId": "18d94a37-4eb1-4df5-c535-5db3c8652f68"
      },
      "execution_count": null,
      "outputs": [
        {
          "output_type": "error",
          "ename": "SyntaxError",
          "evalue": "invalid syntax (<ipython-input-13-3448d5a42105>, line 1)",
          "traceback": [
            "\u001b[0;36m  File \u001b[0;32m\"<ipython-input-13-3448d5a42105>\"\u001b[0;36m, line \u001b[0;32m1\u001b[0m\n\u001b[0;31m    universidade 1 = \"Universidade Estadual Paulista\"\u001b[0m\n\u001b[0m                 ^\u001b[0m\n\u001b[0;31mSyntaxError\u001b[0m\u001b[0;31m:\u001b[0m invalid syntax\n"
          ]
        }
      ]
    },
    {
      "cell_type": "markdown",
      "source": [
        "* 🐤 Use nomes sucintos e descritivos para variáveis!\n",
        "* 🐤 Use preferencialmente um estilo snake case (letras minúsculas separadas por underscore)"
      ],
      "metadata": {
        "id": "1894HCzJKIjd"
      }
    },
    {
      "cell_type": "markdown",
      "source": [
        "## Ordem de execução dos códigos\n",
        "\n",
        "Atenção: A ordem de atribuição de variáveis importa. Assim, as primeiras células executadas do caderno digital serão avaliadas primeiro CASO o usuário as execute primeiro."
      ],
      "metadata": {
        "id": "CMQ3VaBNPcrg"
      }
    },
    {
      "cell_type": "code",
      "source": [
        "professor = \"Renato Augusto\""
      ],
      "metadata": {
        "id": "bQALhOZEPf0a"
      },
      "execution_count": null,
      "outputs": []
    },
    {
      "cell_type": "code",
      "source": [
        "professor = \"Alicia Melo\""
      ],
      "metadata": {
        "id": "_iQR8WsWPvu5"
      },
      "execution_count": null,
      "outputs": []
    },
    {
      "cell_type": "code",
      "source": [
        "professor = \"Gustavo Nascimento\""
      ],
      "metadata": {
        "id": "VMCG5FR4PxzV"
      },
      "execution_count": null,
      "outputs": []
    },
    {
      "cell_type": "markdown",
      "source": [
        "Ao associar valores três vezes ao mesmo nome de variável, o que estará valendo é a último atribuição!"
      ],
      "metadata": {
        "id": "_vkenZKcP1Nu"
      }
    },
    {
      "cell_type": "markdown",
      "source": [
        "## Linguagem diferença minúsculas e maiúsculas\n",
        "\n",
        "Vocês provavelmente já perceberam, mas Python é uma linguagem que distingue letras maiúsculas de minúsculas:\n"
      ],
      "metadata": {
        "id": "vd_Hia4ALkEY"
      }
    },
    {
      "cell_type": "code",
      "source": [
        "Cidade = \"Piracicaba\""
      ],
      "metadata": {
        "id": "Q5MUsOUnLz2z"
      },
      "execution_count": null,
      "outputs": []
    },
    {
      "cell_type": "code",
      "source": [
        "cidade"
      ],
      "metadata": {
        "colab": {
          "base_uri": "https://localhost:8080/",
          "height": 141
        },
        "id": "iiXt_zMtL4EW",
        "outputId": "54e30110-68c8-4647-8bfc-edac30765cd9"
      },
      "execution_count": null,
      "outputs": [
        {
          "output_type": "error",
          "ename": "NameError",
          "evalue": "name 'cidade' is not defined",
          "traceback": [
            "\u001b[0;31m---------------------------------------------------------------------------\u001b[0m",
            "\u001b[0;31mNameError\u001b[0m                                 Traceback (most recent call last)",
            "\u001b[0;32m<ipython-input-15-fe7492c3bf72>\u001b[0m in \u001b[0;36m<cell line: 0>\u001b[0;34m()\u001b[0m\n\u001b[0;32m----> 1\u001b[0;31m \u001b[0mcidade\u001b[0m\u001b[0;34m\u001b[0m\u001b[0;34m\u001b[0m\u001b[0m\n\u001b[0m",
            "\u001b[0;31mNameError\u001b[0m: name 'cidade' is not defined"
          ]
        }
      ]
    },
    {
      "cell_type": "markdown",
      "source": [
        "## Erros frequentes em Python\n",
        "\n",
        "❌ seção incompleta\n",
        "\n",
        "O \"traceback\" do interpretador de Python nos ajuda a identificar, sempre que possível, a que está associado nosso erro:\n",
        "\n",
        "* `SyntaxError`: o interpretador não reconhece determinado trecho como código válido de Python\n",
        "* `NameError`:"
      ],
      "metadata": {
        "id": "jjhq3MJ3JrdM"
      }
    },
    {
      "cell_type": "markdown",
      "source": [
        "# Operações aritméticas"
      ],
      "metadata": {
        "id": "e1JLGeJHBg-q"
      }
    },
    {
      "cell_type": "markdown",
      "source": [
        "## Números inteiros"
      ],
      "metadata": {
        "id": "FuP2IMKvTxts"
      }
    },
    {
      "cell_type": "code",
      "source": [
        "10 + 5 # Soma"
      ],
      "metadata": {
        "colab": {
          "base_uri": "https://localhost:8080/"
        },
        "id": "q-Zh9ClJTwAA",
        "outputId": "cdf5c724-ebf8-4637-990c-be00a1705c60"
      },
      "execution_count": null,
      "outputs": [
        {
          "output_type": "execute_result",
          "data": {
            "text/plain": [
              "15"
            ]
          },
          "metadata": {},
          "execution_count": 46
        }
      ]
    },
    {
      "cell_type": "code",
      "source": [
        "10 - 5 # Subtração"
      ],
      "metadata": {
        "colab": {
          "base_uri": "https://localhost:8080/"
        },
        "id": "q8ksF7O8Bkbg",
        "outputId": "86138d3f-b191-47a3-a81b-3e7813420b05"
      },
      "execution_count": null,
      "outputs": [
        {
          "output_type": "execute_result",
          "data": {
            "text/plain": [
              "5"
            ]
          },
          "metadata": {},
          "execution_count": 47
        }
      ]
    },
    {
      "cell_type": "code",
      "source": [
        "10 * 5 # Multiplicação"
      ],
      "metadata": {
        "colab": {
          "base_uri": "https://localhost:8080/"
        },
        "id": "0cLOcm32T3q4",
        "outputId": "047e7c4d-3ad7-4623-b835-37263377fd7f"
      },
      "execution_count": null,
      "outputs": [
        {
          "output_type": "execute_result",
          "data": {
            "text/plain": [
              "50"
            ]
          },
          "metadata": {},
          "execution_count": 48
        }
      ]
    },
    {
      "cell_type": "code",
      "source": [
        "10 / 5 # Divisão"
      ],
      "metadata": {
        "colab": {
          "base_uri": "https://localhost:8080/"
        },
        "id": "nN3QqKicT7mr",
        "outputId": "ed63e503-9d5d-458e-b047-9c8f25a99724"
      },
      "execution_count": null,
      "outputs": [
        {
          "output_type": "execute_result",
          "data": {
            "text/plain": [
              "2.0"
            ]
          },
          "metadata": {},
          "execution_count": 49
        }
      ]
    },
    {
      "cell_type": "code",
      "source": [
        "10 ** 3 # Expoente"
      ],
      "metadata": {
        "colab": {
          "base_uri": "https://localhost:8080/"
        },
        "id": "Z-WEwtTvUD4s",
        "outputId": "5912148d-e75e-4a18-db36-d593d7abf1c5"
      },
      "execution_count": null,
      "outputs": [
        {
          "output_type": "execute_result",
          "data": {
            "text/plain": [
              "1000"
            ]
          },
          "metadata": {},
          "execution_count": 50
        }
      ]
    },
    {
      "cell_type": "markdown",
      "source": [
        "## Precedência\n",
        "\n",
        "Python segue a ordem de precedência da matemática que aprendemos no ensino fundamental. Também é possível utilizar parênteses para alterar a ordem que as operações devem ser executadas."
      ],
      "metadata": {
        "id": "uuFMm4EGUZqr"
      }
    },
    {
      "cell_type": "code",
      "source": [
        "10 + 5 * 3"
      ],
      "metadata": {
        "colab": {
          "base_uri": "https://localhost:8080/"
        },
        "id": "DTKrFek_UMfz",
        "outputId": "858f1a20-8dba-4405-bf74-befe752336c0"
      },
      "execution_count": null,
      "outputs": [
        {
          "output_type": "execute_result",
          "data": {
            "text/plain": [
              "25"
            ]
          },
          "metadata": {},
          "execution_count": 51
        }
      ]
    },
    {
      "cell_type": "code",
      "source": [
        "(10 + 5) * 3"
      ],
      "metadata": {
        "colab": {
          "base_uri": "https://localhost:8080/"
        },
        "id": "H0WxXqyvUwN_",
        "outputId": "82066d41-21e7-4fe4-ac16-1d9ea920c0d7"
      },
      "execution_count": null,
      "outputs": [
        {
          "output_type": "execute_result",
          "data": {
            "text/plain": [
              "45"
            ]
          },
          "metadata": {},
          "execution_count": 52
        }
      ]
    },
    {
      "cell_type": "code",
      "source": [
        "10 + (5 * 3)"
      ],
      "metadata": {
        "colab": {
          "base_uri": "https://localhost:8080/"
        },
        "id": "X76eGOFiU07t",
        "outputId": "bfc4aa01-1aaf-47a7-de79-31e341f2b4ec"
      },
      "execution_count": null,
      "outputs": [
        {
          "output_type": "execute_result",
          "data": {
            "text/plain": [
              "25"
            ]
          },
          "metadata": {},
          "execution_count": 53
        }
      ]
    },
    {
      "cell_type": "markdown",
      "source": [
        "## _Floats_\n",
        "\n",
        "Números de ponto flutuante têm um ponto decimal em QUALQUER posição do número (por isso \"flutuante\")"
      ],
      "metadata": {
        "id": "OOp9_5UaU9iM"
      }
    },
    {
      "cell_type": "code",
      "source": [],
      "metadata": {
        "id": "xVBF0RniU87a"
      },
      "execution_count": null,
      "outputs": []
    },
    {
      "cell_type": "markdown",
      "source": [
        "Notas importantes sobre operações aritméticas:\n",
        "\n",
        "* Divisões sempre retornam float\n",
        "* Operações entre inteiros e floats retornam float\n",
        "*\n"
      ],
      "metadata": {
        "id": "2-kx4s72VnPU"
      }
    },
    {
      "cell_type": "markdown",
      "source": [
        "Curiosidade:\n",
        "* Números podem apresentar underscores (floats e inteiros) apenas por uma questão de facilitar visualmente a identificação de separação de milhares, por exemplo. Python ignora totalmente os underscores!"
      ],
      "metadata": {
        "id": "p9aPNNmzW5_T"
      }
    },
    {
      "cell_type": "code",
      "source": [
        "numero_de_alunos = 1_000"
      ],
      "metadata": {
        "id": "JqHw9vBUVngW"
      },
      "execution_count": null,
      "outputs": []
    },
    {
      "cell_type": "code",
      "source": [
        "numero_de_alunos"
      ],
      "metadata": {
        "colab": {
          "base_uri": "https://localhost:8080/"
        },
        "id": "-U9FURQ8W16h",
        "outputId": "a24d8f43-ac19-47f3-c2b5-0654484a049e"
      },
      "execution_count": null,
      "outputs": [
        {
          "output_type": "execute_result",
          "data": {
            "text/plain": [
              "1000"
            ]
          },
          "metadata": {},
          "execution_count": 55
        }
      ]
    },
    {
      "cell_type": "markdown",
      "source": [
        "## Atribuindo valores de múltiplas variáveis"
      ],
      "metadata": {
        "id": "Ce4AJEexXOWl"
      }
    },
    {
      "cell_type": "code",
      "source": [
        "x, y, z = 10, 20, 30"
      ],
      "metadata": {
        "id": "LyRpev_0XT6z"
      },
      "execution_count": null,
      "outputs": []
    },
    {
      "cell_type": "code",
      "source": [
        "print(x, y, z)"
      ],
      "metadata": {
        "colab": {
          "base_uri": "https://localhost:8080/"
        },
        "id": "iPweNxasXXFZ",
        "outputId": "23e2a8ca-8a89-4279-c53c-46846515ef45"
      },
      "execution_count": null,
      "outputs": [
        {
          "output_type": "stream",
          "name": "stdout",
          "text": [
            "10 20 30\n"
          ]
        }
      ]
    },
    {
      "cell_type": "code",
      "source": [
        "professor1, professor2, professor3 = \"Renato Augusto\", \"Alicia Melo\", \"Pedro Carvalho\""
      ],
      "metadata": {
        "id": "UV_PY_7vXZjh"
      },
      "execution_count": null,
      "outputs": []
    },
    {
      "cell_type": "code",
      "source": [
        "print(professor1, professor2, professor3)"
      ],
      "metadata": {
        "colab": {
          "base_uri": "https://localhost:8080/"
        },
        "id": "6UEflE3TXgVj",
        "outputId": "c586a320-c1e5-4ce1-d6dd-a9388897fe96"
      },
      "execution_count": null,
      "outputs": [
        {
          "output_type": "stream",
          "name": "stdout",
          "text": [
            "Renato Augusto Alicia Melo Pedro Carvalho\n"
          ]
        }
      ]
    },
    {
      "cell_type": "code",
      "source": [
        "f\"{professor1}, {professor2} e {professor3}\""
      ],
      "metadata": {
        "colab": {
          "base_uri": "https://localhost:8080/",
          "height": 35
        },
        "id": "IP2IhHDBXwIU",
        "outputId": "3485ab29-5116-46a1-c30e-12ff33b92c9a"
      },
      "execution_count": null,
      "outputs": [
        {
          "output_type": "execute_result",
          "data": {
            "text/plain": [
              "'Renato Augusto, Alicia Melo e Pedro Carvalho'"
            ],
            "application/vnd.google.colaboratory.intrinsic+json": {
              "type": "string"
            }
          },
          "metadata": {},
          "execution_count": 63
        }
      ]
    },
    {
      "cell_type": "code",
      "source": [
        "print(f\"{professor1}, {professor2} e {professor3}\")"
      ],
      "metadata": {
        "colab": {
          "base_uri": "https://localhost:8080/"
        },
        "id": "-7RDHJkmXnJv",
        "outputId": "ebacc116-ef92-44e4-f370-fccff668a9bc"
      },
      "execution_count": null,
      "outputs": [
        {
          "output_type": "stream",
          "name": "stdout",
          "text": [
            "Renato Augusto, Alicia Melo e Pedro Carvalho\n"
          ]
        }
      ]
    },
    {
      "cell_type": "markdown",
      "source": [
        "# Operações lógicas"
      ],
      "metadata": {
        "id": "2n2Nf-F3BlEh"
      }
    },
    {
      "cell_type": "code",
      "source": [],
      "metadata": {
        "id": "vMuNigR4BnZ3"
      },
      "execution_count": null,
      "outputs": []
    },
    {
      "cell_type": "markdown",
      "source": [
        "# Strings"
      ],
      "metadata": {
        "id": "ukGEUUwpBn53"
      }
    },
    {
      "cell_type": "markdown",
      "source": [
        "Strings são cadeias de caracteres, como sequências de DNA ou RNA:"
      ],
      "metadata": {
        "id": "2hqapYZLNk5B"
      }
    },
    {
      "cell_type": "code",
      "source": [
        "\"ATGCTACGTACATATGGG\""
      ],
      "metadata": {
        "colab": {
          "base_uri": "https://localhost:8080/",
          "height": 35
        },
        "id": "Yvw4QTOLBqbv",
        "outputId": "9e2d35f2-eb7d-4120-e41e-3b0fc49984a4"
      },
      "execution_count": null,
      "outputs": [
        {
          "output_type": "execute_result",
          "data": {
            "text/plain": [
              "'ATGCTACGTACATATGGG'"
            ],
            "application/vnd.google.colaboratory.intrinsic+json": {
              "type": "string"
            }
          },
          "metadata": {},
          "execution_count": 32
        }
      ]
    },
    {
      "cell_type": "code",
      "source": [
        "nome_professor1 = \"renato Augusto\""
      ],
      "metadata": {
        "id": "4qpDeT-SN2qn"
      },
      "execution_count": null,
      "outputs": []
    },
    {
      "cell_type": "code",
      "source": [
        "nome_professor2 = \"gustavo nascimento\""
      ],
      "metadata": {
        "id": "tWPQw9V0N6Fo"
      },
      "execution_count": null,
      "outputs": []
    },
    {
      "cell_type": "code",
      "source": [
        "nome_professor1"
      ],
      "metadata": {
        "colab": {
          "base_uri": "https://localhost:8080/",
          "height": 35
        },
        "id": "kWzpywWXOMeB",
        "outputId": "a24abe8f-fe52-4fb8-83f9-5c63bce9053a"
      },
      "execution_count": null,
      "outputs": [
        {
          "output_type": "execute_result",
          "data": {
            "text/plain": [
              "'renato Augusto'"
            ],
            "application/vnd.google.colaboratory.intrinsic+json": {
              "type": "string"
            }
          },
          "metadata": {},
          "execution_count": 35
        }
      ]
    },
    {
      "cell_type": "markdown",
      "source": [
        "Vimos a função `print()` anteriormente, usada para imprimir valores na tela.\n",
        "\n",
        "Vamos ver agora algo que chamado de `método`, definida por Matthes como \"ação que o Python pode executar em um dado\". Métodos têm um ponto que indica que a ação está sendo executada sobre o dado antes do nome do método. Os parênteses podem incluir informações complementares que o método utiliza ao executar uma ação."
      ],
      "metadata": {
        "id": "z2EItHPtOWwt"
      }
    },
    {
      "cell_type": "code",
      "source": [
        "nome_professor1.title()"
      ],
      "metadata": {
        "colab": {
          "base_uri": "https://localhost:8080/",
          "height": 35
        },
        "id": "OpU-Dmi4OQE-",
        "outputId": "993571cf-97c1-4de4-a6d0-a57dcf2ee2a1"
      },
      "execution_count": null,
      "outputs": [
        {
          "output_type": "execute_result",
          "data": {
            "text/plain": [
              "'Renato Augusto'"
            ],
            "application/vnd.google.colaboratory.intrinsic+json": {
              "type": "string"
            }
          },
          "metadata": {},
          "execution_count": 36
        }
      ]
    },
    {
      "cell_type": "code",
      "source": [
        "nome_professor2.title()"
      ],
      "metadata": {
        "colab": {
          "base_uri": "https://localhost:8080/",
          "height": 35
        },
        "id": "JA7AyPa4OUIc",
        "outputId": "17f59b21-d956-4ba4-eb61-97cd6e66f8b7"
      },
      "execution_count": null,
      "outputs": [
        {
          "output_type": "execute_result",
          "data": {
            "text/plain": [
              "'Gustavo Nascimento'"
            ],
            "application/vnd.google.colaboratory.intrinsic+json": {
              "type": "string"
            }
          },
          "metadata": {},
          "execution_count": 37
        }
      ]
    },
    {
      "cell_type": "code",
      "source": [
        "nome_professor1"
      ],
      "metadata": {
        "colab": {
          "base_uri": "https://localhost:8080/",
          "height": 35
        },
        "id": "eIEnjaRUOxJJ",
        "outputId": "ed4f3db0-2242-48a6-842e-5d0f2db3cf40"
      },
      "execution_count": null,
      "outputs": [
        {
          "output_type": "execute_result",
          "data": {
            "text/plain": [
              "'renato Augusto'"
            ],
            "application/vnd.google.colaboratory.intrinsic+json": {
              "type": "string"
            }
          },
          "metadata": {},
          "execution_count": 38
        }
      ]
    },
    {
      "cell_type": "markdown",
      "source": [
        "❌ seção incompleta: melhorar a forma de apresentar dados \"mutáveis\" e \"imutáveis\" e rever se em outro momento da atividade teremos oportunidade de discutir este tópico.\n",
        "\n",
        "Note que usar um método em uma string não significa que aquela variável foi alterada. Strings fazem parte de dados em Python que chamamos de \"imutável\"."
      ],
      "metadata": {
        "id": "FKDac7coO0jO"
      }
    },
    {
      "cell_type": "code",
      "source": [
        "nome_professor1 = nome_professor1.title()"
      ],
      "metadata": {
        "id": "rGqPOcymPTm-"
      },
      "execution_count": null,
      "outputs": []
    },
    {
      "cell_type": "code",
      "source": [
        "nome_professor1"
      ],
      "metadata": {
        "colab": {
          "base_uri": "https://localhost:8080/",
          "height": 35
        },
        "id": "4G3LqvptPWBB",
        "outputId": "a8cc1264-04ff-4d09-ecb0-457e9755e7a6"
      },
      "execution_count": null,
      "outputs": [
        {
          "output_type": "execute_result",
          "data": {
            "text/plain": [
              "'Renato Augusto'"
            ],
            "application/vnd.google.colaboratory.intrinsic+json": {
              "type": "string"
            }
          },
          "metadata": {},
          "execution_count": 40
        }
      ]
    },
    {
      "cell_type": "markdown",
      "source": [
        "Outros exemplos de métodos:"
      ],
      "metadata": {
        "id": "niT11Pb9RC8m"
      }
    },
    {
      "cell_type": "code",
      "source": [
        "nome_professor1 = nome_professor1.upper()\n",
        "nome_professor1"
      ],
      "metadata": {
        "colab": {
          "base_uri": "https://localhost:8080/",
          "height": 35
        },
        "id": "WMDidc8MQdMa",
        "outputId": "5ad15be3-fe55-4f0c-bb02-fbc938815684"
      },
      "execution_count": null,
      "outputs": [
        {
          "output_type": "execute_result",
          "data": {
            "text/plain": [
              "'RENATO AUGUSTO'"
            ],
            "application/vnd.google.colaboratory.intrinsic+json": {
              "type": "string"
            }
          },
          "metadata": {},
          "execution_count": 41
        }
      ]
    },
    {
      "cell_type": "code",
      "source": [
        "nome_professor1 = nome_professor1.lower()\n",
        "nome_professor1"
      ],
      "metadata": {
        "colab": {
          "base_uri": "https://localhost:8080/",
          "height": 35
        },
        "id": "6L0eR7bNQdiz",
        "outputId": "cb74fda5-7144-4732-8425-4b440b728752"
      },
      "execution_count": null,
      "outputs": [
        {
          "output_type": "execute_result",
          "data": {
            "text/plain": [
              "'renato augusto'"
            ],
            "application/vnd.google.colaboratory.intrinsic+json": {
              "type": "string"
            }
          },
          "metadata": {},
          "execution_count": 42
        }
      ]
    },
    {
      "cell_type": "markdown",
      "source": [
        "## _f-strings_"
      ],
      "metadata": {
        "id": "9WjlM3vERaLP"
      }
    },
    {
      "cell_type": "code",
      "source": [
        "nome_monitor1 = \"Pedro Carvalho\"\n",
        "nome_monitor2 = \"Alicia Melo\""
      ],
      "metadata": {
        "id": "qKIT4V0PRtHt"
      },
      "execution_count": null,
      "outputs": []
    },
    {
      "cell_type": "markdown",
      "source": [
        "É possível usar variáveis dentro de strings:"
      ],
      "metadata": {
        "id": "VLMIiLfpR1yu"
      }
    },
    {
      "cell_type": "code",
      "source": [
        "f\"Este curso está sendo ministrado por {nome_professor1} e {nome_professor2}, tendo como monitores os colegas {nome_monitor1} e {nome_monitor2}\""
      ],
      "metadata": {
        "colab": {
          "base_uri": "https://localhost:8080/",
          "height": 35
        },
        "id": "6c2X8wnlR4ff",
        "outputId": "b836c284-e2d7-4080-b7cb-ce5ff966527b"
      },
      "execution_count": null,
      "outputs": [
        {
          "output_type": "execute_result",
          "data": {
            "text/plain": [
              "'Este curso está sendo ministrado por renato augusto e gustavo nascimento, tendo como monitores os colegas Pedro Carvalho e Alicia Melo'"
            ],
            "application/vnd.google.colaboratory.intrinsic+json": {
              "type": "string"
            }
          },
          "metadata": {},
          "execution_count": 44
        }
      ]
    },
    {
      "cell_type": "markdown",
      "source": [
        "Podemos utilizar métodos dentro de f-strings:"
      ],
      "metadata": {
        "id": "des8MpLuSgu_"
      }
    },
    {
      "cell_type": "code",
      "source": [
        "f\"Este curso está sendo ministrado por {nome_professor1.title()} e {nome_professor2.title()}, tendo como monitores os colegas {nome_monitor1} e {nome_monitor2}\""
      ],
      "metadata": {
        "colab": {
          "base_uri": "https://localhost:8080/",
          "height": 35
        },
        "id": "K-8PKv14Sce1",
        "outputId": "3080db53-2c6b-41ea-cd5e-3f704550cc91"
      },
      "execution_count": null,
      "outputs": [
        {
          "output_type": "execute_result",
          "data": {
            "text/plain": [
              "'Este curso está sendo ministrado por Renato Augusto e Gustavo Nascimento, tendo como monitores os colegas Pedro Carvalho e Alicia Melo'"
            ],
            "application/vnd.google.colaboratory.intrinsic+json": {
              "type": "string"
            }
          },
          "metadata": {},
          "execution_count": 45
        }
      ]
    },
    {
      "cell_type": "markdown",
      "source": [
        "# Listas\n",
        "\n",
        "Listas são coleções de objetos em uma ordem específica."
      ],
      "metadata": {
        "id": "_Zd2c35-NioR"
      }
    },
    {
      "cell_type": "code",
      "source": [
        "disciplinas = [\"Ecologia\", \"Genética\", \"Fisiologia\", \"Bioquímica\"]"
      ],
      "metadata": {
        "id": "lMBxrJq5Nj-k"
      },
      "execution_count": null,
      "outputs": []
    },
    {
      "cell_type": "markdown",
      "source": [
        "Para acessar elementos específicos de uma lista em Python, basta utilizar índices. Diferente de R (para quem já tem familiaridade com esta linguagem), índices em Python têm início em zero."
      ],
      "metadata": {
        "id": "ruEzcOykZ5MF"
      }
    },
    {
      "cell_type": "code",
      "source": [
        "disciplinas[0]"
      ],
      "metadata": {
        "colab": {
          "base_uri": "https://localhost:8080/",
          "height": 35
        },
        "id": "syzI9KqIZ4no",
        "outputId": "d862a5cd-9531-4c5b-8e27-d66768cbee75"
      },
      "execution_count": null,
      "outputs": [
        {
          "output_type": "execute_result",
          "data": {
            "text/plain": [
              "'Ecologia'"
            ],
            "application/vnd.google.colaboratory.intrinsic+json": {
              "type": "string"
            }
          },
          "metadata": {},
          "execution_count": 67
        }
      ]
    },
    {
      "cell_type": "code",
      "source": [
        "disciplinas[3]"
      ],
      "metadata": {
        "colab": {
          "base_uri": "https://localhost:8080/",
          "height": 35
        },
        "id": "XaDxPs5BZt02",
        "outputId": "45e43034-c1c4-48e3-c6d7-5e69640ed2cc"
      },
      "execution_count": null,
      "outputs": [
        {
          "output_type": "execute_result",
          "data": {
            "text/plain": [
              "'Bioquímica'"
            ],
            "application/vnd.google.colaboratory.intrinsic+json": {
              "type": "string"
            }
          },
          "metadata": {},
          "execution_count": 69
        }
      ]
    },
    {
      "cell_type": "code",
      "source": [
        "disciplinas[4]"
      ],
      "metadata": {
        "colab": {
          "base_uri": "https://localhost:8080/",
          "height": 141
        },
        "id": "K3ckykPbaJL_",
        "outputId": "a067b193-0b8a-4a8d-85fb-53cd3085ae76"
      },
      "execution_count": null,
      "outputs": [
        {
          "output_type": "error",
          "ename": "IndexError",
          "evalue": "list index out of range",
          "traceback": [
            "\u001b[0;31m---------------------------------------------------------------------------\u001b[0m",
            "\u001b[0;31mIndexError\u001b[0m                                Traceback (most recent call last)",
            "\u001b[0;32m<ipython-input-70-cbe5d3f400aa>\u001b[0m in \u001b[0;36m<cell line: 0>\u001b[0;34m()\u001b[0m\n\u001b[0;32m----> 1\u001b[0;31m \u001b[0mdisciplinas\u001b[0m\u001b[0;34m[\u001b[0m\u001b[0;36m4\u001b[0m\u001b[0;34m]\u001b[0m\u001b[0;34m\u001b[0m\u001b[0;34m\u001b[0m\u001b[0m\n\u001b[0m",
            "\u001b[0;31mIndexError\u001b[0m: list index out of range"
          ]
        }
      ]
    },
    {
      "cell_type": "markdown",
      "source": [
        "Como a nossa lista contém apenas strings e nós acessamos cada uma delas com índices, é possível aplicar métodos, como vimos anteriormente:"
      ],
      "metadata": {
        "id": "rw7zfqR3akDp"
      }
    },
    {
      "cell_type": "code",
      "source": [
        "disciplinas[3].upper()"
      ],
      "metadata": {
        "colab": {
          "base_uri": "https://localhost:8080/",
          "height": 35
        },
        "id": "qWB66T8DakPr",
        "outputId": "3a3f50a9-1929-40ad-bea9-594250e8e5ab"
      },
      "execution_count": null,
      "outputs": [
        {
          "output_type": "execute_result",
          "data": {
            "text/plain": [
              "'BIOQUÍMICA'"
            ],
            "application/vnd.google.colaboratory.intrinsic+json": {
              "type": "string"
            }
          },
          "metadata": {},
          "execution_count": 71
        }
      ]
    },
    {
      "cell_type": "markdown",
      "source": [
        "Podemos, inclusive, utilizar _f-strings_:"
      ],
      "metadata": {
        "id": "E0mBBM5kbVx5"
      }
    },
    {
      "cell_type": "code",
      "source": [
        "f\"A disciplina que eu mais gosto é {disciplinas[3].upper()}\""
      ],
      "metadata": {
        "colab": {
          "base_uri": "https://localhost:8080/",
          "height": 35
        },
        "id": "0X7Yeks_bWJO",
        "outputId": "5fe1945a-0fd7-41a3-f6ff-258dd1fb1a78"
      },
      "execution_count": null,
      "outputs": [
        {
          "output_type": "execute_result",
          "data": {
            "text/plain": [
              "'A disciplina que eu mais gosto é BIOQUÍMICA'"
            ],
            "application/vnd.google.colaboratory.intrinsic+json": {
              "type": "string"
            }
          },
          "metadata": {},
          "execution_count": 76
        }
      ]
    },
    {
      "cell_type": "markdown",
      "source": [
        "Podemos acessar os itens da lista de trás para frente:"
      ],
      "metadata": {
        "id": "gqXmKRH9a_dK"
      }
    },
    {
      "cell_type": "code",
      "source": [
        "disciplinas[-1]"
      ],
      "metadata": {
        "colab": {
          "base_uri": "https://localhost:8080/",
          "height": 35
        },
        "id": "YNr4bmISbDRO",
        "outputId": "930dd78a-109f-453f-de19-29a23a7eec11"
      },
      "execution_count": null,
      "outputs": [
        {
          "output_type": "execute_result",
          "data": {
            "text/plain": [
              "'Bioquímica'"
            ],
            "application/vnd.google.colaboratory.intrinsic+json": {
              "type": "string"
            }
          },
          "metadata": {},
          "execution_count": 72
        }
      ]
    },
    {
      "cell_type": "code",
      "source": [
        "disciplinas[-4]"
      ],
      "metadata": {
        "colab": {
          "base_uri": "https://localhost:8080/",
          "height": 35
        },
        "id": "CPfXS8qmbFoO",
        "outputId": "520bfe99-ad75-475f-9bd7-5f76bab4e7b5"
      },
      "execution_count": null,
      "outputs": [
        {
          "output_type": "execute_result",
          "data": {
            "text/plain": [
              "'Ecologia'"
            ],
            "application/vnd.google.colaboratory.intrinsic+json": {
              "type": "string"
            }
          },
          "metadata": {},
          "execution_count": 75
        }
      ]
    },
    {
      "cell_type": "markdown",
      "source": [
        "## Uma lista dinâmica\n",
        "\n",
        "Diferentemente de strings, listas são mutáveis e podemos alterar seus elementos:"
      ],
      "metadata": {
        "id": "ifpOSFmab3Xq"
      }
    },
    {
      "cell_type": "code",
      "source": [
        "disciplinas[-1] = \"Matemática Aplicada\""
      ],
      "metadata": {
        "id": "Ok6ltTKFb7uo"
      },
      "execution_count": null,
      "outputs": []
    },
    {
      "cell_type": "code",
      "source": [
        "disciplinas"
      ],
      "metadata": {
        "colab": {
          "base_uri": "https://localhost:8080/"
        },
        "id": "C-2e4wPnc2No",
        "outputId": "59ecdb48-979f-4f14-c3c5-5390b8020232"
      },
      "execution_count": null,
      "outputs": [
        {
          "output_type": "execute_result",
          "data": {
            "text/plain": [
              "['Ecologia', 'Genética', 'Fisiologia', 'Matemática Aplicada']"
            ]
          },
          "metadata": {},
          "execution_count": 79
        }
      ]
    },
    {
      "cell_type": "markdown",
      "source": [
        "Assim como strings, listas também têm métodos.\n",
        "Um deles é `append()`:"
      ],
      "metadata": {
        "id": "90n_GoSHc7TH"
      }
    },
    {
      "cell_type": "code",
      "source": [
        "disciplinas.append(\"Bioinformática\")"
      ],
      "metadata": {
        "id": "u5MZWB3XdCeF"
      },
      "execution_count": null,
      "outputs": []
    },
    {
      "cell_type": "code",
      "source": [
        "disciplinas"
      ],
      "metadata": {
        "id": "hUPGeQ2TdKpj",
        "outputId": "2f9f942d-afbc-42f0-d48d-1cb54bbd9655",
        "colab": {
          "base_uri": "https://localhost:8080/"
        }
      },
      "execution_count": null,
      "outputs": [
        {
          "output_type": "execute_result",
          "data": {
            "text/plain": [
              "['Ecologia', 'Genética', 'Fisiologia', 'Matemática Aplicada', 'Bioinformática']"
            ]
          },
          "metadata": {},
          "execution_count": 81
        }
      ]
    },
    {
      "cell_type": "markdown",
      "source": [
        "Outras atividades:\n",
        "* Inserir elementos em uma lista (`.insert()`)\n",
        "* Remover elementos de uma lista (`del`)\n",
        "* Remover elemento de uma lista e utilizá-lo (`.pop()`)\n",
        "* Remover um element da lista pelo nome (`.remove()`)"
      ],
      "metadata": {
        "id": "7lBtP1XvZfgO"
      }
    },
    {
      "cell_type": "markdown",
      "source": [
        "## Ordenando listas\n"
      ],
      "metadata": {
        "id": "kV8_XIrpbece"
      }
    },
    {
      "cell_type": "code",
      "source": [
        "aminoacidos = [\"Ser\", \"Asp\", \"Tyr\", \"Leu\", \"Gly\", \"Ala\", \"His\", \"Val\", \"Lys\", \"Pro\", \"Thr\", \"Cys\"]"
      ],
      "metadata": {
        "id": "i1zNvs5gbgCd"
      },
      "execution_count": 4,
      "outputs": []
    },
    {
      "cell_type": "code",
      "source": [
        "print(aminoacidos)"
      ],
      "metadata": {
        "colab": {
          "base_uri": "https://localhost:8080/"
        },
        "id": "g_qaQ1vPcMFI",
        "outputId": "25a2a2df-ee2f-4d50-ce43-7f526decd35c"
      },
      "execution_count": 8,
      "outputs": [
        {
          "output_type": "stream",
          "name": "stdout",
          "text": [
            "['Ala', 'Asp', 'Cys', 'Gly', 'His', 'Leu', 'Lys', 'Pro', 'Ser', 'Thr', 'Tyr', 'Val']\n"
          ]
        }
      ]
    },
    {
      "cell_type": "code",
      "source": [
        "aminoacidos.sort()"
      ],
      "metadata": {
        "id": "eRusFc9QbsTn"
      },
      "execution_count": 6,
      "outputs": []
    },
    {
      "cell_type": "code",
      "source": [
        "print(aminoacidos)"
      ],
      "metadata": {
        "colab": {
          "base_uri": "https://localhost:8080/"
        },
        "id": "hUWKyUdDcKEs",
        "outputId": "18456e11-38a8-4fbe-85ca-0e7825ef26cb"
      },
      "execution_count": 7,
      "outputs": [
        {
          "output_type": "stream",
          "name": "stdout",
          "text": [
            "['Ala', 'Asp', 'Cys', 'Gly', 'His', 'Leu', 'Lys', 'Pro', 'Ser', 'Thr', 'Tyr', 'Val']\n"
          ]
        }
      ]
    },
    {
      "cell_type": "markdown",
      "source": [
        "Utilizamos muitas vezes os métodos de strings e listas nas atividades de hoje, mas ainda não incluímos informações dentro de parênteses. Vamos utilizar o método `sort()` com um comportamento diferente:"
      ],
      "metadata": {
        "id": "K_u9a0hfcapQ"
      }
    },
    {
      "cell_type": "code",
      "source": [
        "aminoacidos.sort(reverse=True)"
      ],
      "metadata": {
        "id": "avoEowlzcbAI"
      },
      "execution_count": 9,
      "outputs": []
    },
    {
      "cell_type": "code",
      "source": [
        "print(aminoacidos)"
      ],
      "metadata": {
        "colab": {
          "base_uri": "https://localhost:8080/"
        },
        "id": "Pg_CQxb_ctk1",
        "outputId": "31346672-a0a3-4c0c-92aa-9bafb253c5e3"
      },
      "execution_count": 11,
      "outputs": [
        {
          "output_type": "stream",
          "name": "stdout",
          "text": [
            "['Val', 'Tyr', 'Thr', 'Ser', 'Pro', 'Lys', 'Leu', 'His', 'Gly', 'Cys', 'Asp', 'Ala']\n"
          ]
        }
      ]
    },
    {
      "cell_type": "markdown",
      "source": [
        "Lembrem-se que listas são objetos mutáveis e podemos alterar sua composição com o método `.sort()`. No entanto, se se quisermos utilizar a lista ordenada mas sem alterar a lista original?\n",
        "\n",
        "Existe uma função chamada `sorted()`"
      ],
      "metadata": {
        "id": "J6NWzVk8c9wj"
      }
    },
    {
      "cell_type": "code",
      "source": [
        "sorted(aminoacidos)"
      ],
      "metadata": {
        "colab": {
          "base_uri": "https://localhost:8080/"
        },
        "id": "d_qcCRRydJ55",
        "outputId": "188fa918-4624-4022-c699-1b0ab84e5044"
      },
      "execution_count": 13,
      "outputs": [
        {
          "output_type": "execute_result",
          "data": {
            "text/plain": [
              "['Ala',\n",
              " 'Asp',\n",
              " 'Cys',\n",
              " 'Gly',\n",
              " 'His',\n",
              " 'Leu',\n",
              " 'Lys',\n",
              " 'Pro',\n",
              " 'Ser',\n",
              " 'Thr',\n",
              " 'Tyr',\n",
              " 'Val']"
            ]
          },
          "metadata": {},
          "execution_count": 13
        }
      ]
    },
    {
      "cell_type": "markdown",
      "source": [
        "Tamanho de uma lista pode ser acessado com a função `len()`:"
      ],
      "metadata": {
        "id": "XxuCZwnSd3z0"
      }
    },
    {
      "cell_type": "code",
      "source": [
        "len(aminoacidos)"
      ],
      "metadata": {
        "colab": {
          "base_uri": "https://localhost:8080/"
        },
        "id": "hLiYJcwkd8Sd",
        "outputId": "d087de31-899c-4607-e816-79d4d9c9642c"
      },
      "execution_count": 14,
      "outputs": [
        {
          "output_type": "execute_result",
          "data": {
            "text/plain": [
              "12"
            ]
          },
          "metadata": {},
          "execution_count": 14
        }
      ]
    },
    {
      "cell_type": "markdown",
      "source": [
        "## Erros frequentes em Python\n",
        "\n",
        "❌ seção incompleta\n",
        "\n",
        "O \"traceback\" do interpretador de Python nos ajuda a identificar, sempre que possível, a que está associado nosso erro:\n",
        "\n",
        "* `SyntaxError`: o interpretador não reconhece determinado trecho como código válido de Python\n",
        "* `NameError`:\n",
        "* `IndexError`:"
      ],
      "metadata": {
        "id": "Ra4TM6oeaKxy"
      }
    },
    {
      "cell_type": "markdown",
      "source": [
        "# Processos iterativos\n",
        "\n",
        "Suponhamos que a gente queira acessar cada um dos nomes em uma lista de pessoas ou de aminoácidos. Podemos usar o `laço for`:"
      ],
      "metadata": {
        "id": "ixdEY4yrBq-C"
      }
    },
    {
      "cell_type": "code",
      "source": [
        "for aa in aminoacidos:\n",
        "  print(aa)"
      ],
      "metadata": {
        "id": "loV1_UqkBuyF",
        "colab": {
          "base_uri": "https://localhost:8080/"
        },
        "outputId": "f0f5642c-bd1b-4ec0-c785-6c7c2e47a5a9"
      },
      "execution_count": 15,
      "outputs": [
        {
          "output_type": "stream",
          "name": "stdout",
          "text": [
            "Val\n",
            "Tyr\n",
            "Thr\n",
            "Ser\n",
            "Pro\n",
            "Lys\n",
            "Leu\n",
            "His\n",
            "Gly\n",
            "Cys\n",
            "Asp\n",
            "Ala\n"
          ]
        }
      ]
    },
    {
      "cell_type": "markdown",
      "source": [
        "Ao usar o laço loop em Python, devemos atentar para o conceito de identação: para realizar uma ou mais tarefas para cada elemento de uma lista no laço, é necessário adicionar um ou mais espaços ou tabulações antes das linhas de código executadas para este elemento. Acima, nós apenas imprimimos cada um dos aminoácidos, mas é possível realizar outras atividades para cada um deles. Por exemplo:"
      ],
      "metadata": {
        "id": "0wG8Ldp6fsXt"
      }
    },
    {
      "cell_type": "code",
      "source": [
        "for aa in aminoacidos:\n",
        "  print(f\"{aa}:\")\n",
        "  print(f\"{aa} é um aminoácido.\")"
      ],
      "metadata": {
        "colab": {
          "base_uri": "https://localhost:8080/"
        },
        "id": "1m25idIjgBan",
        "outputId": "d943c35f-9a9e-4d57-f66f-07f3e244982c"
      },
      "execution_count": 18,
      "outputs": [
        {
          "output_type": "stream",
          "name": "stdout",
          "text": [
            "Val:\n",
            "Val é um aminoácido.\n",
            "Tyr:\n",
            "Tyr é um aminoácido.\n",
            "Thr:\n",
            "Thr é um aminoácido.\n",
            "Ser:\n",
            "Ser é um aminoácido.\n",
            "Pro:\n",
            "Pro é um aminoácido.\n",
            "Lys:\n",
            "Lys é um aminoácido.\n",
            "Leu:\n",
            "Leu é um aminoácido.\n",
            "His:\n",
            "His é um aminoácido.\n",
            "Gly:\n",
            "Gly é um aminoácido.\n",
            "Cys:\n",
            "Cys é um aminoácido.\n",
            "Asp:\n",
            "Asp é um aminoácido.\n",
            "Ala:\n",
            "Ala é um aminoácido.\n"
          ]
        }
      ]
    },
    {
      "cell_type": "markdown",
      "source": [
        "Podemos realizar uma determinada ação com cada elemento da nossa lista e ainda fazer algo mais, dentro de cada célula ou em um código de Python em script (vamos falar mais sobre isso no terceiro dia)."
      ],
      "metadata": {
        "id": "fMxMUMv_hR3l"
      }
    },
    {
      "cell_type": "code",
      "source": [
        "for aa in aminoacidos:\n",
        "  print(f\"{aa} é um aminoácido.\")\n",
        "print(f\"Esses são os {len(aminoacidos)} aminoácidos da nossa lista.\") # A linha não identada é \"printada\" após o laço for"
      ],
      "metadata": {
        "colab": {
          "base_uri": "https://localhost:8080/"
        },
        "id": "zL-OSkzRhbnO",
        "outputId": "539b1821-e41b-4a4b-f927-058f6d2f4ec6"
      },
      "execution_count": 20,
      "outputs": [
        {
          "output_type": "stream",
          "name": "stdout",
          "text": [
            "Val é um aminoácido.\n",
            "Tyr é um aminoácido.\n",
            "Thr é um aminoácido.\n",
            "Ser é um aminoácido.\n",
            "Pro é um aminoácido.\n",
            "Lys é um aminoácido.\n",
            "Leu é um aminoácido.\n",
            "His é um aminoácido.\n",
            "Gly é um aminoácido.\n",
            "Cys é um aminoácido.\n",
            "Asp é um aminoácido.\n",
            "Ala é um aminoácido.\n",
            "Esses são os 12 aminoácidos da nossa lista.\n"
          ]
        }
      ]
    },
    {
      "cell_type": "code",
      "source": [
        "for aa in aminoacidos:\n",
        "print(f\"{aa} é um aminoácido.\")"
      ],
      "metadata": {
        "colab": {
          "base_uri": "https://localhost:8080/",
          "height": 106
        },
        "id": "J7MfmLAhjWU8",
        "outputId": "fcae0c6d-5be0-4c04-f216-722f5b586310"
      },
      "execution_count": 21,
      "outputs": [
        {
          "output_type": "error",
          "ename": "IndentationError",
          "evalue": "expected an indented block after 'for' statement on line 1 (<ipython-input-21-7e542617454d>, line 2)",
          "traceback": [
            "\u001b[0;36m  File \u001b[0;32m\"<ipython-input-21-7e542617454d>\"\u001b[0;36m, line \u001b[0;32m2\u001b[0m\n\u001b[0;31m    print(f\"{aa} é um aminoácido.\")\u001b[0m\n\u001b[0m    ^\u001b[0m\n\u001b[0;31mIndentationError\u001b[0m\u001b[0;31m:\u001b[0m expected an indented block after 'for' statement on line 1\n"
          ]
        }
      ]
    },
    {
      "cell_type": "markdown",
      "source": [
        "Em cadernos do Google Colab a gente geralmente não se preocupa com a indentação de códigos pois o prompt faz isso de forma automática. No entanto, é importante atentar para este detalhe quando estamos desenvolvendo códigos em scripts."
      ],
      "metadata": {
        "id": "xBA12UW1jdnE"
      }
    },
    {
      "cell_type": "markdown",
      "source": [
        "## Erros lógicos\n",
        "\n",
        "❌ seção incompleta (elaborar um pouco mais e talvez apresentar algum exemplo prático)\n",
        "\n",
        "Muitas vezes, uma indentação errônea de código pode gerar resultados indesejados mesmo que não ocorra um erro de sintaxe!"
      ],
      "metadata": {
        "id": "jZEqEdFKj8f1"
      }
    },
    {
      "cell_type": "markdown",
      "source": [
        "## Erros frequentes em Python\n",
        "\n",
        "❌ seção incompleta\n",
        "\n",
        "O \"traceback\" do interpretador de Python nos ajuda a identificar, sempre que possível, a que está associado nosso erro:\n",
        "\n",
        "* `SyntaxError`: o interpretador não reconhece determinado trecho como código válido de Python\n",
        "* `NameError`:\n",
        "* `IndexError`:\n",
        "* `IndentationError`:"
      ],
      "metadata": {
        "id": "LkrG9iyajOxD"
      }
    },
    {
      "cell_type": "markdown",
      "source": [
        "# Um pouco mais sobre listas\n"
      ],
      "metadata": {
        "id": "_pUB83nZpd1b"
      }
    },
    {
      "cell_type": "markdown",
      "source": [
        "## Listas numéricas\n",
        "\n",
        "Como cientistas, muitas vezes as listas de nosso interesse são numéricas, com dados de idade, temperatura, pH, posição genômica, entre muitas outras."
      ],
      "metadata": {
        "id": "K9_rxnHqk67F"
      }
    },
    {
      "cell_type": "code",
      "source": [
        "range(1, 5) # Será que vale a pena falar sobre esta função neste curso?"
      ],
      "metadata": {
        "colab": {
          "base_uri": "https://localhost:8080/"
        },
        "id": "lCSXXm57k9L0",
        "outputId": "308b5b52-3512-4769-87f7-93726afb8903"
      },
      "execution_count": 23,
      "outputs": [
        {
          "output_type": "execute_result",
          "data": {
            "text/plain": [
              "range(1, 5)"
            ]
          },
          "metadata": {},
          "execution_count": 23
        }
      ]
    },
    {
      "cell_type": "markdown",
      "source": [
        "Criando uma lista numérica:"
      ],
      "metadata": {
        "id": "CC5RVBvVlqfy"
      }
    },
    {
      "cell_type": "code",
      "source": [
        "list(range(1, 5)) # Talvez também seja complicado explicar a função list() e a função range() juntas... skip!"
      ],
      "metadata": {
        "colab": {
          "base_uri": "https://localhost:8080/"
        },
        "id": "QianfIwzlqll",
        "outputId": "ab563920-13db-4028-803d-2a53f82518ee"
      },
      "execution_count": 26,
      "outputs": [
        {
          "output_type": "execute_result",
          "data": {
            "text/plain": [
              "[1, 2, 3, 4]"
            ]
          },
          "metadata": {},
          "execution_count": 26
        }
      ]
    },
    {
      "cell_type": "code",
      "source": [
        "list(range(2, 11, 2)) # Talvez seja útil não entrar em detalhes sobre as funções, mas usar para criar listas com números pares e ímpares..."
      ],
      "metadata": {
        "colab": {
          "base_uri": "https://localhost:8080/"
        },
        "id": "yPwP8rxgmpE3",
        "outputId": "0965a0b3-a383-421b-e5c2-77e28cca26c9"
      },
      "execution_count": 27,
      "outputs": [
        {
          "output_type": "execute_result",
          "data": {
            "text/plain": [
              "[2, 4, 6, 8, 10]"
            ]
          },
          "metadata": {},
          "execution_count": 27
        }
      ]
    },
    {
      "cell_type": "code",
      "source": [
        "list(range(1, 10, 2))"
      ],
      "metadata": {
        "colab": {
          "base_uri": "https://localhost:8080/"
        },
        "id": "iX6xWJGLmy1w",
        "outputId": "769e7035-e24d-4954-976d-206a891c8e39"
      },
      "execution_count": 28,
      "outputs": [
        {
          "output_type": "execute_result",
          "data": {
            "text/plain": [
              "[1, 3, 5, 7, 9]"
            ]
          },
          "metadata": {},
          "execution_count": 28
        }
      ]
    },
    {
      "cell_type": "code",
      "source": [
        "for valor in range(1, 11):\n",
        "  quadrado = valor ** 2\n",
        "  print(f\"{valor} (valor x valor: {quadrado})\")"
      ],
      "metadata": {
        "colab": {
          "base_uri": "https://localhost:8080/"
        },
        "id": "mbYSJfSGnCrW",
        "outputId": "8740618c-4a27-4cad-9c47-b95864c212c3"
      },
      "execution_count": 35,
      "outputs": [
        {
          "output_type": "stream",
          "name": "stdout",
          "text": [
            "1 (valor x valor: 1)\n",
            "2 (valor x valor: 4)\n",
            "3 (valor x valor: 9)\n",
            "4 (valor x valor: 16)\n",
            "5 (valor x valor: 25)\n",
            "6 (valor x valor: 36)\n",
            "7 (valor x valor: 49)\n",
            "8 (valor x valor: 64)\n",
            "9 (valor x valor: 81)\n",
            "10 (valor x valor: 100)\n"
          ]
        }
      ]
    },
    {
      "cell_type": "markdown",
      "source": [
        "Criando uma lista vazia e incluindo os quadrados de cada número no resultado da função `range()`:"
      ],
      "metadata": {
        "id": "QyXREatgnnET"
      }
    },
    {
      "cell_type": "code",
      "source": [
        "lista_quadrados = []"
      ],
      "metadata": {
        "id": "B7xGvX0onnMV"
      },
      "execution_count": 36,
      "outputs": []
    },
    {
      "cell_type": "code",
      "source": [
        "for valor in range(1, 11):\n",
        "  quadrado = valor ** 2\n",
        "  print(f\"{valor} (valor x valor: {quadrado})\")\n",
        "  lista_quadrados.append(quadrado)"
      ],
      "metadata": {
        "colab": {
          "base_uri": "https://localhost:8080/"
        },
        "id": "64PSQoGxng9p",
        "outputId": "eedba28d-647f-4103-9565-0dd34197b5c3"
      },
      "execution_count": 37,
      "outputs": [
        {
          "output_type": "stream",
          "name": "stdout",
          "text": [
            "1 (valor x valor: 1)\n",
            "2 (valor x valor: 4)\n",
            "3 (valor x valor: 9)\n",
            "4 (valor x valor: 16)\n",
            "5 (valor x valor: 25)\n",
            "6 (valor x valor: 36)\n",
            "7 (valor x valor: 49)\n",
            "8 (valor x valor: 64)\n",
            "9 (valor x valor: 81)\n",
            "10 (valor x valor: 100)\n"
          ]
        }
      ]
    },
    {
      "cell_type": "code",
      "source": [
        "lista_quadrados"
      ],
      "metadata": {
        "colab": {
          "base_uri": "https://localhost:8080/"
        },
        "id": "W41iDquHnznj",
        "outputId": "b8985464-e44f-45df-e7ed-3a3d49db8d50"
      },
      "execution_count": 38,
      "outputs": [
        {
          "output_type": "execute_result",
          "data": {
            "text/plain": [
              "[1, 4, 9, 16, 25, 36, 49, 64, 81, 100]"
            ]
          },
          "metadata": {},
          "execution_count": 38
        }
      ]
    },
    {
      "cell_type": "markdown",
      "source": [
        "## Estatísticas simples\n",
        "\n",
        "Vamos olhar um pouco para algumas estatísticas em listas. Amanhã exploraremos um pouco mais de dados estatísticos em tabelas (ou dados tabulares), que fazemos como mais frequência como cientistas.\n"
      ],
      "metadata": {
        "id": "cbxN4-XEoChd"
      }
    },
    {
      "cell_type": "code",
      "source": [
        "min(lista_quadrados)"
      ],
      "metadata": {
        "colab": {
          "base_uri": "https://localhost:8080/"
        },
        "id": "jtks62GBoPNG",
        "outputId": "5c841ca2-6f03-4cd6-881b-d51f3fd1fad7"
      },
      "execution_count": 39,
      "outputs": [
        {
          "output_type": "execute_result",
          "data": {
            "text/plain": [
              "1"
            ]
          },
          "metadata": {},
          "execution_count": 39
        }
      ]
    },
    {
      "cell_type": "code",
      "source": [
        "max(lista_quadrados)"
      ],
      "metadata": {
        "colab": {
          "base_uri": "https://localhost:8080/"
        },
        "id": "3njLkZSMoVTd",
        "outputId": "d516dca0-2a6c-417b-ca44-4f78bfeff387"
      },
      "execution_count": 40,
      "outputs": [
        {
          "output_type": "execute_result",
          "data": {
            "text/plain": [
              "100"
            ]
          },
          "metadata": {},
          "execution_count": 40
        }
      ]
    },
    {
      "cell_type": "code",
      "source": [
        "sum(lista_quadrados)"
      ],
      "metadata": {
        "colab": {
          "base_uri": "https://localhost:8080/"
        },
        "id": "pkT22ylRoXp8",
        "outputId": "1235ec6e-918c-4ae0-8d7c-4b647b4eefe7"
      },
      "execution_count": 41,
      "outputs": [
        {
          "output_type": "execute_result",
          "data": {
            "text/plain": [
              "385"
            ]
          },
          "metadata": {},
          "execution_count": 41
        }
      ]
    },
    {
      "cell_type": "markdown",
      "source": [
        "❌ seção incompleta (gerar a versão definitiva; acredito que os tópicos essenciais aqui depende de conceitos serem ou não abordados posteriormente no curso)\n",
        "\n",
        "Alguns tópicos muito importantes em listas, mas que não serão abordados neste curso:\n",
        "\n",
        "* List comprehension"
      ],
      "metadata": {
        "id": "kobpDhsSofLR"
      }
    },
    {
      "cell_type": "markdown",
      "source": [
        "❌ seção incompleta (gerar a versão definitiva; acredito que os tópicos essenciais aqui depende de conceitos serem ou não abordados posteriormente no curso)\n",
        "\n",
        "Tópicos que TALVEZ sejam abordados:\n",
        "* Fatiando listas\n",
        "* Percorrendo listas com laço loop\n",
        "* Copiando listas"
      ],
      "metadata": {
        "id": "HhBuyj0oowhi"
      }
    },
    {
      "cell_type": "markdown",
      "source": [
        "# Estruturas de controle\n",
        "\n",
        "Alguns exemplos gerais utilizando tópicos abordados no início do curso (listas, números, strings)"
      ],
      "metadata": {
        "id": "r2JBR-Mdpj6b"
      }
    },
    {
      "cell_type": "markdown",
      "source": [
        "## Instruções if"
      ],
      "metadata": {
        "id": "N4xv6nhspvc5"
      }
    },
    {
      "cell_type": "code",
      "source": [],
      "metadata": {
        "id": "YANj8s21psqS"
      },
      "execution_count": null,
      "outputs": []
    },
    {
      "cell_type": "markdown",
      "source": [
        "## Verificando igualdades e diferenças"
      ],
      "metadata": {
        "id": "g7zgYDUzp3Mn"
      }
    },
    {
      "cell_type": "code",
      "source": [],
      "metadata": {
        "id": "ah8GBF1kp3Yz"
      },
      "execution_count": null,
      "outputs": []
    },
    {
      "cell_type": "markdown",
      "source": [
        "## Comparações numéricas"
      ],
      "metadata": {
        "id": "bWE7tt_Op7MB"
      }
    },
    {
      "cell_type": "code",
      "source": [],
      "metadata": {
        "id": "rvgKHLiVp7S7"
      },
      "execution_count": null,
      "outputs": []
    },
    {
      "cell_type": "markdown",
      "source": [
        "# Funções básicas e métodos"
      ],
      "metadata": {
        "id": "DgCtufBYBwb3"
      }
    },
    {
      "cell_type": "code",
      "source": [],
      "metadata": {
        "id": "6n-C0A15ByPm"
      },
      "execution_count": null,
      "outputs": []
    },
    {
      "cell_type": "markdown",
      "source": [
        "## Testando múltiplas condições"
      ],
      "metadata": {
        "id": "P8ilV-5sqKbv"
      }
    },
    {
      "cell_type": "code",
      "source": [],
      "metadata": {
        "id": "83tNrPVpqKok"
      },
      "execution_count": null,
      "outputs": []
    },
    {
      "cell_type": "markdown",
      "source": [
        "## Verificando valores em listas"
      ],
      "metadata": {
        "id": "kGgHb_flqNYz"
      }
    },
    {
      "cell_type": "code",
      "source": [],
      "metadata": {
        "id": "lOXoXW-PqNfr"
      },
      "execution_count": null,
      "outputs": []
    },
    {
      "cell_type": "markdown",
      "source": [
        "## Verificando se valores NÃO estão em listas"
      ],
      "metadata": {
        "id": "XV03kld4qTBk"
      }
    },
    {
      "cell_type": "code",
      "source": [],
      "metadata": {
        "id": "d8qkhiijqTJi"
      },
      "execution_count": null,
      "outputs": []
    },
    {
      "cell_type": "markdown",
      "source": [
        "# Dados tabulares"
      ],
      "metadata": {
        "id": "tkb2vWlYByq1"
      }
    },
    {
      "cell_type": "code",
      "source": [],
      "metadata": {
        "id": "ehYx2u1eB1fS"
      },
      "execution_count": null,
      "outputs": []
    },
    {
      "cell_type": "markdown",
      "source": [
        "# Referências\n",
        "\n",
        "* Matthes, Eric. Curso Intensivo de Python: Uma introdução prática e baseada em projetos à programação. Novatec Editora, 2016."
      ],
      "metadata": {
        "id": "JGR7dSsbB53C"
      }
    }
  ]
}